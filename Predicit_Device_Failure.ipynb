{
 "cells": [
  {
   "cell_type": "code",
   "execution_count": 1,
   "id": "9b93e64b",
   "metadata": {},
   "outputs": [],
   "source": [
    "import numpy as np\n",
    "import pandas as pd"
   ]
  },
  {
   "cell_type": "markdown",
   "id": "50980e27",
   "metadata": {},
   "source": [
    "## Import data as Dataframe"
   ]
  },
  {
   "cell_type": "code",
   "execution_count": 2,
   "id": "4694e3bd",
   "metadata": {},
   "outputs": [],
   "source": [
    "df = pd.read_csv('ML-DATASET.csv')"
   ]
  },
  {
   "cell_type": "code",
   "execution_count": 3,
   "id": "3bca270b",
   "metadata": {},
   "outputs": [
    {
     "data": {
      "text/html": [
       "<div>\n",
       "<style scoped>\n",
       "    .dataframe tbody tr th:only-of-type {\n",
       "        vertical-align: middle;\n",
       "    }\n",
       "\n",
       "    .dataframe tbody tr th {\n",
       "        vertical-align: top;\n",
       "    }\n",
       "\n",
       "    .dataframe thead th {\n",
       "        text-align: right;\n",
       "    }\n",
       "</style>\n",
       "<table border=\"1\" class=\"dataframe\">\n",
       "  <thead>\n",
       "    <tr style=\"text-align: right;\">\n",
       "      <th></th>\n",
       "      <th>date</th>\n",
       "      <th>device</th>\n",
       "      <th>failure</th>\n",
       "      <th>metric1</th>\n",
       "      <th>metric2</th>\n",
       "      <th>metric3</th>\n",
       "      <th>metric4</th>\n",
       "      <th>metric5</th>\n",
       "      <th>metric6</th>\n",
       "      <th>metric7</th>\n",
       "      <th>metric8</th>\n",
       "      <th>metric9</th>\n",
       "    </tr>\n",
       "  </thead>\n",
       "  <tbody>\n",
       "    <tr>\n",
       "      <th>0</th>\n",
       "      <td>1/1/2015</td>\n",
       "      <td>S1F01085</td>\n",
       "      <td>0</td>\n",
       "      <td>215630672</td>\n",
       "      <td>55</td>\n",
       "      <td>0</td>\n",
       "      <td>52</td>\n",
       "      <td>6</td>\n",
       "      <td>407438</td>\n",
       "      <td>0</td>\n",
       "      <td>0</td>\n",
       "      <td>7</td>\n",
       "    </tr>\n",
       "    <tr>\n",
       "      <th>1</th>\n",
       "      <td>1/1/2015</td>\n",
       "      <td>S1F0166B</td>\n",
       "      <td>0</td>\n",
       "      <td>61370680</td>\n",
       "      <td>0</td>\n",
       "      <td>3</td>\n",
       "      <td>0</td>\n",
       "      <td>6</td>\n",
       "      <td>403174</td>\n",
       "      <td>0</td>\n",
       "      <td>0</td>\n",
       "      <td>0</td>\n",
       "    </tr>\n",
       "    <tr>\n",
       "      <th>2</th>\n",
       "      <td>1/1/2015</td>\n",
       "      <td>S1F01E6Y</td>\n",
       "      <td>0</td>\n",
       "      <td>173295968</td>\n",
       "      <td>0</td>\n",
       "      <td>0</td>\n",
       "      <td>0</td>\n",
       "      <td>12</td>\n",
       "      <td>237394</td>\n",
       "      <td>0</td>\n",
       "      <td>0</td>\n",
       "      <td>0</td>\n",
       "    </tr>\n",
       "    <tr>\n",
       "      <th>3</th>\n",
       "      <td>1/1/2015</td>\n",
       "      <td>S1F01JE0</td>\n",
       "      <td>0</td>\n",
       "      <td>79694024</td>\n",
       "      <td>0</td>\n",
       "      <td>0</td>\n",
       "      <td>0</td>\n",
       "      <td>6</td>\n",
       "      <td>410186</td>\n",
       "      <td>0</td>\n",
       "      <td>0</td>\n",
       "      <td>0</td>\n",
       "    </tr>\n",
       "    <tr>\n",
       "      <th>4</th>\n",
       "      <td>1/1/2015</td>\n",
       "      <td>S1F01R2B</td>\n",
       "      <td>0</td>\n",
       "      <td>135970480</td>\n",
       "      <td>0</td>\n",
       "      <td>0</td>\n",
       "      <td>0</td>\n",
       "      <td>15</td>\n",
       "      <td>313173</td>\n",
       "      <td>0</td>\n",
       "      <td>0</td>\n",
       "      <td>3</td>\n",
       "    </tr>\n",
       "  </tbody>\n",
       "</table>\n",
       "</div>"
      ],
      "text/plain": [
       "       date    device  failure    metric1  metric2  metric3  metric4  metric5  \\\n",
       "0  1/1/2015  S1F01085        0  215630672       55        0       52        6   \n",
       "1  1/1/2015  S1F0166B        0   61370680        0        3        0        6   \n",
       "2  1/1/2015  S1F01E6Y        0  173295968        0        0        0       12   \n",
       "3  1/1/2015  S1F01JE0        0   79694024        0        0        0        6   \n",
       "4  1/1/2015  S1F01R2B        0  135970480        0        0        0       15   \n",
       "\n",
       "   metric6  metric7  metric8  metric9  \n",
       "0   407438        0        0        7  \n",
       "1   403174        0        0        0  \n",
       "2   237394        0        0        0  \n",
       "3   410186        0        0        0  \n",
       "4   313173        0        0        3  "
      ]
     },
     "execution_count": 3,
     "metadata": {},
     "output_type": "execute_result"
    }
   ],
   "source": [
    "df.head()"
   ]
  },
  {
   "cell_type": "markdown",
   "id": "c4edcfe8",
   "metadata": {},
   "source": [
    "Checking the data info"
   ]
  },
  {
   "cell_type": "code",
   "execution_count": 4,
   "id": "704cf549",
   "metadata": {},
   "outputs": [
    {
     "name": "stdout",
     "output_type": "stream",
     "text": [
      "<class 'pandas.core.frame.DataFrame'>\n",
      "RangeIndex: 124494 entries, 0 to 124493\n",
      "Data columns (total 12 columns):\n",
      " #   Column   Non-Null Count   Dtype \n",
      "---  ------   --------------   ----- \n",
      " 0   date     124494 non-null  object\n",
      " 1   device   124494 non-null  object\n",
      " 2   failure  124494 non-null  int64 \n",
      " 3   metric1  124494 non-null  int64 \n",
      " 4   metric2  124494 non-null  int64 \n",
      " 5   metric3  124494 non-null  int64 \n",
      " 6   metric4  124494 non-null  int64 \n",
      " 7   metric5  124494 non-null  int64 \n",
      " 8   metric6  124494 non-null  int64 \n",
      " 9   metric7  124494 non-null  int64 \n",
      " 10  metric8  124494 non-null  int64 \n",
      " 11  metric9  124494 non-null  int64 \n",
      "dtypes: int64(10), object(2)\n",
      "memory usage: 11.4+ MB\n"
     ]
    }
   ],
   "source": [
    "df.info()"
   ]
  },
  {
   "cell_type": "code",
   "execution_count": 5,
   "id": "a1bf29b0",
   "metadata": {},
   "outputs": [
    {
     "data": {
      "text/plain": [
       "date       0\n",
       "device     0\n",
       "failure    0\n",
       "metric1    0\n",
       "metric2    0\n",
       "metric3    0\n",
       "metric4    0\n",
       "metric5    0\n",
       "metric6    0\n",
       "metric7    0\n",
       "metric8    0\n",
       "metric9    0\n",
       "dtype: int64"
      ]
     },
     "execution_count": 5,
     "metadata": {},
     "output_type": "execute_result"
    }
   ],
   "source": [
    "# checking the missing value\n",
    "df.isnull().sum()"
   ]
  },
  {
   "cell_type": "code",
   "execution_count": 6,
   "id": "ea20d1c0",
   "metadata": {},
   "outputs": [
    {
     "data": {
      "text/plain": [
       "0    124388\n",
       "1       106\n",
       "Name: failure, dtype: int64"
      ]
     },
     "execution_count": 6,
     "metadata": {},
     "output_type": "execute_result"
    }
   ],
   "source": [
    "#imbalanced classification problem\n",
    "df.failure.value_counts()"
   ]
  },
  {
   "cell_type": "code",
   "execution_count": 7,
   "id": "98821fa2",
   "metadata": {},
   "outputs": [
    {
     "data": {
      "text/plain": [
       "1"
      ]
     },
     "execution_count": 7,
     "metadata": {},
     "output_type": "execute_result"
    }
   ],
   "source": [
    "# no of duplicated value\n",
    "df.duplicated().sum()"
   ]
  },
  {
   "cell_type": "code",
   "execution_count": 8,
   "id": "05c24fff",
   "metadata": {},
   "outputs": [
    {
     "data": {
      "text/plain": [
       "0         False\n",
       "1         False\n",
       "2         False\n",
       "3         False\n",
       "4         False\n",
       "          ...  \n",
       "124489    False\n",
       "124490    False\n",
       "124491    False\n",
       "124492    False\n",
       "124493    False\n",
       "Length: 124494, dtype: bool"
      ]
     },
     "execution_count": 8,
     "metadata": {},
     "output_type": "execute_result"
    }
   ],
   "source": [
    "# finding the duplicate row\n",
    "df.duplicated()"
   ]
  },
  {
   "cell_type": "code",
   "execution_count": 9,
   "id": "7bfcf1b5",
   "metadata": {},
   "outputs": [
    {
     "data": {
      "text/plain": [
       "124493"
      ]
     },
     "execution_count": 9,
     "metadata": {},
     "output_type": "execute_result"
    }
   ],
   "source": [
    "# Count the number of non-duplicates\n",
    "( ~df.duplicated()).sum()"
   ]
  },
  {
   "cell_type": "code",
   "execution_count": 10,
   "id": "e280d01d",
   "metadata": {},
   "outputs": [
    {
     "data": {
      "text/html": [
       "<div>\n",
       "<style scoped>\n",
       "    .dataframe tbody tr th:only-of-type {\n",
       "        vertical-align: middle;\n",
       "    }\n",
       "\n",
       "    .dataframe tbody tr th {\n",
       "        vertical-align: top;\n",
       "    }\n",
       "\n",
       "    .dataframe thead th {\n",
       "        text-align: right;\n",
       "    }\n",
       "</style>\n",
       "<table border=\"1\" class=\"dataframe\">\n",
       "  <thead>\n",
       "    <tr style=\"text-align: right;\">\n",
       "      <th></th>\n",
       "      <th>date</th>\n",
       "      <th>device</th>\n",
       "      <th>failure</th>\n",
       "      <th>metric1</th>\n",
       "      <th>metric2</th>\n",
       "      <th>metric3</th>\n",
       "      <th>metric4</th>\n",
       "      <th>metric5</th>\n",
       "      <th>metric6</th>\n",
       "      <th>metric7</th>\n",
       "      <th>metric8</th>\n",
       "      <th>metric9</th>\n",
       "    </tr>\n",
       "  </thead>\n",
       "  <tbody>\n",
       "    <tr>\n",
       "      <th>101335</th>\n",
       "      <td>7/10/2015</td>\n",
       "      <td>S1F0R4Q8</td>\n",
       "      <td>0</td>\n",
       "      <td>192721392</td>\n",
       "      <td>0</td>\n",
       "      <td>0</td>\n",
       "      <td>0</td>\n",
       "      <td>8</td>\n",
       "      <td>213700</td>\n",
       "      <td>0</td>\n",
       "      <td>0</td>\n",
       "      <td>0</td>\n",
       "    </tr>\n",
       "  </tbody>\n",
       "</table>\n",
       "</div>"
      ],
      "text/plain": [
       "             date    device  failure    metric1  metric2  metric3  metric4  \\\n",
       "101335  7/10/2015  S1F0R4Q8        0  192721392        0        0        0   \n",
       "\n",
       "        metric5  metric6  metric7  metric8  metric9  \n",
       "101335        8   213700        0        0        0  "
      ]
     },
     "execution_count": 10,
     "metadata": {},
     "output_type": "execute_result"
    }
   ],
   "source": [
    "# findind the duplicated row\n",
    "# Extract duplicate rows\n",
    "df.loc[df.duplicated(), :]"
   ]
  },
  {
   "cell_type": "code",
   "execution_count": 11,
   "id": "7c4560af",
   "metadata": {},
   "outputs": [
    {
     "data": {
      "text/html": [
       "<div>\n",
       "<style scoped>\n",
       "    .dataframe tbody tr th:only-of-type {\n",
       "        vertical-align: middle;\n",
       "    }\n",
       "\n",
       "    .dataframe tbody tr th {\n",
       "        vertical-align: top;\n",
       "    }\n",
       "\n",
       "    .dataframe thead th {\n",
       "        text-align: right;\n",
       "    }\n",
       "</style>\n",
       "<table border=\"1\" class=\"dataframe\">\n",
       "  <thead>\n",
       "    <tr style=\"text-align: right;\">\n",
       "      <th></th>\n",
       "      <th>date</th>\n",
       "      <th>device</th>\n",
       "      <th>failure</th>\n",
       "      <th>metric1</th>\n",
       "      <th>metric2</th>\n",
       "      <th>metric3</th>\n",
       "      <th>metric4</th>\n",
       "      <th>metric5</th>\n",
       "      <th>metric6</th>\n",
       "      <th>metric7</th>\n",
       "      <th>metric8</th>\n",
       "      <th>metric9</th>\n",
       "    </tr>\n",
       "  </thead>\n",
       "  <tbody>\n",
       "    <tr>\n",
       "      <th>0</th>\n",
       "      <td>1/1/2015</td>\n",
       "      <td>S1F01085</td>\n",
       "      <td>0</td>\n",
       "      <td>215630672</td>\n",
       "      <td>55</td>\n",
       "      <td>0</td>\n",
       "      <td>52</td>\n",
       "      <td>6</td>\n",
       "      <td>407438</td>\n",
       "      <td>0</td>\n",
       "      <td>0</td>\n",
       "      <td>7</td>\n",
       "    </tr>\n",
       "    <tr>\n",
       "      <th>1</th>\n",
       "      <td>1/1/2015</td>\n",
       "      <td>S1F0166B</td>\n",
       "      <td>0</td>\n",
       "      <td>61370680</td>\n",
       "      <td>0</td>\n",
       "      <td>3</td>\n",
       "      <td>0</td>\n",
       "      <td>6</td>\n",
       "      <td>403174</td>\n",
       "      <td>0</td>\n",
       "      <td>0</td>\n",
       "      <td>0</td>\n",
       "    </tr>\n",
       "    <tr>\n",
       "      <th>2</th>\n",
       "      <td>1/1/2015</td>\n",
       "      <td>S1F01E6Y</td>\n",
       "      <td>0</td>\n",
       "      <td>173295968</td>\n",
       "      <td>0</td>\n",
       "      <td>0</td>\n",
       "      <td>0</td>\n",
       "      <td>12</td>\n",
       "      <td>237394</td>\n",
       "      <td>0</td>\n",
       "      <td>0</td>\n",
       "      <td>0</td>\n",
       "    </tr>\n",
       "    <tr>\n",
       "      <th>3</th>\n",
       "      <td>1/1/2015</td>\n",
       "      <td>S1F01JE0</td>\n",
       "      <td>0</td>\n",
       "      <td>79694024</td>\n",
       "      <td>0</td>\n",
       "      <td>0</td>\n",
       "      <td>0</td>\n",
       "      <td>6</td>\n",
       "      <td>410186</td>\n",
       "      <td>0</td>\n",
       "      <td>0</td>\n",
       "      <td>0</td>\n",
       "    </tr>\n",
       "    <tr>\n",
       "      <th>4</th>\n",
       "      <td>1/1/2015</td>\n",
       "      <td>S1F01R2B</td>\n",
       "      <td>0</td>\n",
       "      <td>135970480</td>\n",
       "      <td>0</td>\n",
       "      <td>0</td>\n",
       "      <td>0</td>\n",
       "      <td>15</td>\n",
       "      <td>313173</td>\n",
       "      <td>0</td>\n",
       "      <td>0</td>\n",
       "      <td>3</td>\n",
       "    </tr>\n",
       "    <tr>\n",
       "      <th>...</th>\n",
       "      <td>...</td>\n",
       "      <td>...</td>\n",
       "      <td>...</td>\n",
       "      <td>...</td>\n",
       "      <td>...</td>\n",
       "      <td>...</td>\n",
       "      <td>...</td>\n",
       "      <td>...</td>\n",
       "      <td>...</td>\n",
       "      <td>...</td>\n",
       "      <td>...</td>\n",
       "      <td>...</td>\n",
       "    </tr>\n",
       "    <tr>\n",
       "      <th>124489</th>\n",
       "      <td>11/2/2015</td>\n",
       "      <td>Z1F0MA1S</td>\n",
       "      <td>0</td>\n",
       "      <td>18310224</td>\n",
       "      <td>0</td>\n",
       "      <td>0</td>\n",
       "      <td>0</td>\n",
       "      <td>10</td>\n",
       "      <td>353705</td>\n",
       "      <td>8</td>\n",
       "      <td>8</td>\n",
       "      <td>0</td>\n",
       "    </tr>\n",
       "    <tr>\n",
       "      <th>124490</th>\n",
       "      <td>11/2/2015</td>\n",
       "      <td>Z1F0Q8RT</td>\n",
       "      <td>0</td>\n",
       "      <td>172556680</td>\n",
       "      <td>96</td>\n",
       "      <td>107</td>\n",
       "      <td>4</td>\n",
       "      <td>11</td>\n",
       "      <td>332792</td>\n",
       "      <td>0</td>\n",
       "      <td>0</td>\n",
       "      <td>13</td>\n",
       "    </tr>\n",
       "    <tr>\n",
       "      <th>124491</th>\n",
       "      <td>11/2/2015</td>\n",
       "      <td>Z1F0QK05</td>\n",
       "      <td>0</td>\n",
       "      <td>19029120</td>\n",
       "      <td>4832</td>\n",
       "      <td>0</td>\n",
       "      <td>0</td>\n",
       "      <td>11</td>\n",
       "      <td>350410</td>\n",
       "      <td>0</td>\n",
       "      <td>0</td>\n",
       "      <td>0</td>\n",
       "    </tr>\n",
       "    <tr>\n",
       "      <th>124492</th>\n",
       "      <td>11/2/2015</td>\n",
       "      <td>Z1F0QL3N</td>\n",
       "      <td>0</td>\n",
       "      <td>226953408</td>\n",
       "      <td>0</td>\n",
       "      <td>0</td>\n",
       "      <td>0</td>\n",
       "      <td>12</td>\n",
       "      <td>358980</td>\n",
       "      <td>0</td>\n",
       "      <td>0</td>\n",
       "      <td>0</td>\n",
       "    </tr>\n",
       "    <tr>\n",
       "      <th>124493</th>\n",
       "      <td>11/2/2015</td>\n",
       "      <td>Z1F0QLC1</td>\n",
       "      <td>0</td>\n",
       "      <td>17572840</td>\n",
       "      <td>0</td>\n",
       "      <td>0</td>\n",
       "      <td>0</td>\n",
       "      <td>10</td>\n",
       "      <td>351431</td>\n",
       "      <td>0</td>\n",
       "      <td>0</td>\n",
       "      <td>70000</td>\n",
       "    </tr>\n",
       "  </tbody>\n",
       "</table>\n",
       "<p>124493 rows × 12 columns</p>\n",
       "</div>"
      ],
      "text/plain": [
       "             date    device  failure    metric1  metric2  metric3  metric4  \\\n",
       "0        1/1/2015  S1F01085        0  215630672       55        0       52   \n",
       "1        1/1/2015  S1F0166B        0   61370680        0        3        0   \n",
       "2        1/1/2015  S1F01E6Y        0  173295968        0        0        0   \n",
       "3        1/1/2015  S1F01JE0        0   79694024        0        0        0   \n",
       "4        1/1/2015  S1F01R2B        0  135970480        0        0        0   \n",
       "...           ...       ...      ...        ...      ...      ...      ...   \n",
       "124489  11/2/2015  Z1F0MA1S        0   18310224        0        0        0   \n",
       "124490  11/2/2015  Z1F0Q8RT        0  172556680       96      107        4   \n",
       "124491  11/2/2015  Z1F0QK05        0   19029120     4832        0        0   \n",
       "124492  11/2/2015  Z1F0QL3N        0  226953408        0        0        0   \n",
       "124493  11/2/2015  Z1F0QLC1        0   17572840        0        0        0   \n",
       "\n",
       "        metric5  metric6  metric7  metric8  metric9  \n",
       "0             6   407438        0        0        7  \n",
       "1             6   403174        0        0        0  \n",
       "2            12   237394        0        0        0  \n",
       "3             6   410186        0        0        0  \n",
       "4            15   313173        0        0        3  \n",
       "...         ...      ...      ...      ...      ...  \n",
       "124489       10   353705        8        8        0  \n",
       "124490       11   332792        0        0       13  \n",
       "124491       11   350410        0        0        0  \n",
       "124492       12   358980        0        0        0  \n",
       "124493       10   351431        0        0    70000  \n",
       "\n",
       "[124493 rows x 12 columns]"
      ]
     },
     "execution_count": 11,
     "metadata": {},
     "output_type": "execute_result"
    }
   ],
   "source": [
    "#dropping the duplicated row\n",
    "df.drop_duplicates()"
   ]
  },
  {
   "cell_type": "code",
   "execution_count": 12,
   "id": "51e25828",
   "metadata": {},
   "outputs": [],
   "source": [
    "df.drop_duplicates(inplace=True)"
   ]
  },
  {
   "cell_type": "code",
   "execution_count": 13,
   "id": "9691a42e",
   "metadata": {},
   "outputs": [
    {
     "data": {
      "text/plain": [
       "0"
      ]
     },
     "execution_count": 13,
     "metadata": {},
     "output_type": "execute_result"
    }
   ],
   "source": [
    "#no duplicated observations\n",
    "df.duplicated().sum()"
   ]
  },
  {
   "cell_type": "code",
   "execution_count": 14,
   "id": "f2d7aa91",
   "metadata": {},
   "outputs": [
    {
     "name": "stdout",
     "output_type": "stream",
     "text": [
      "date\n",
      "304\n",
      "device\n",
      "1169\n",
      "failure\n",
      "2\n",
      "metric1\n",
      "123877\n",
      "metric2\n",
      "560\n",
      "metric3\n",
      "48\n",
      "metric4\n",
      "115\n",
      "metric5\n",
      "60\n",
      "metric6\n",
      "44838\n",
      "metric7\n",
      "28\n",
      "metric8\n",
      "28\n",
      "metric9\n",
      "67\n"
     ]
    }
   ],
   "source": [
    "#output number of unique values for each column,\n",
    "#7 metric have very high percentage of zero values. \n",
    "#These could be error codes or some other indicator, I will change their data types later.\n",
    "cols = df.columns\n",
    "for col in cols:\n",
    "    print(col)\n",
    "    print(df[col].nunique())"
   ]
  },
  {
   "cell_type": "code",
   "execution_count": 15,
   "id": "152f110b",
   "metadata": {},
   "outputs": [
    {
     "data": {
      "text/plain": [
       "Index(['date', 'device', 'failure', 'metric1', 'metric2', 'metric3', 'metric4',\n",
       "       'metric5', 'metric6', 'metric7', 'metric8', 'metric9'],\n",
       "      dtype='object')"
      ]
     },
     "execution_count": 15,
     "metadata": {},
     "output_type": "execute_result"
    }
   ],
   "source": [
    "# checking the dataset column\n",
    "df.columns"
   ]
  },
  {
   "cell_type": "markdown",
   "id": "5b92e1f0",
   "metadata": {},
   "source": [
    "# Data visualization"
   ]
  },
  {
   "cell_type": "code",
   "execution_count": 16,
   "id": "b18c81ac",
   "metadata": {},
   "outputs": [],
   "source": [
    "import seaborn as sns\n",
    "import matplotlib.pyplot as plt"
   ]
  },
  {
   "cell_type": "code",
   "execution_count": 17,
   "id": "00ac9d4e",
   "metadata": {},
   "outputs": [
    {
     "name": "stderr",
     "output_type": "stream",
     "text": [
      "C:\\Users\\Vinay\\anaconda3\\lib\\site-packages\\seaborn\\distributions.py:2619: FutureWarning: `distplot` is a deprecated function and will be removed in a future version. Please adapt your code to use either `displot` (a figure-level function with similar flexibility) or `histplot` (an axes-level function for histograms).\n",
      "  warnings.warn(msg, FutureWarning)\n"
     ]
    },
    {
     "data": {
      "text/plain": [
       "<AxesSubplot:xlabel='failure', ylabel='Density'>"
      ]
     },
     "execution_count": 17,
     "metadata": {},
     "output_type": "execute_result"
    },
    {
     "data": {
      "image/png": "[encoded data removed]",
      "text/plain": [
       "<Figure size 432x288 with 1 Axes>"
      ]
     },
     "metadata": {
      "needs_background": "light"
     },
     "output_type": "display_data"
    }
   ],
   "source": [
    "sns.distplot(df['failure']) \n",
    " #the distrubtion of the data for the density and the failure is skewe"
   ]
  },
  {
   "cell_type": "code",
   "execution_count": 18,
   "id": "f48a3db8",
   "metadata": {},
   "outputs": [
    {
     "data": {
      "text/plain": [
       "<AxesSubplot:>"
      ]
     },
     "execution_count": 18,
     "metadata": {},
     "output_type": "execute_result"
    },
    {
     "data": {
      "image/png": "[encoded data removed]",
      "text/plain": [
       "<Figure size 432x288 with 2 Axes>"
      ]
     },
     "metadata": {
      "needs_background": "light"
     },
     "output_type": "display_data"
    }
   ],
   "source": [
    "#Analysing the correlation between each entity with the other using HeatMap\n",
    "\n",
    "sns.heatmap(df.corr())"
   ]
  },
  {
   "cell_type": "markdown",
   "id": "7df93648",
   "metadata": {},
   "source": [
    "metric 7 and metric 8 are highly correlated to each other\n"
   ]
  },
  {
   "cell_type": "code",
   "execution_count": 19,
   "id": "2887c049",
   "metadata": {},
   "outputs": [],
   "source": [
    "#sns.pairplot(df,hue='failure')"
   ]
  },
  {
   "cell_type": "markdown",
   "id": "b686ec23",
   "metadata": {},
   "source": [
    "# Summary"
   ]
  },
  {
   "cell_type": "markdown",
   "id": "a2506f10",
   "metadata": {},
   "source": [
    "- This dataset is clean, no missing values. All attributes are integer data type.\n",
    "- It is imbalanced data set, as the failuer class is about 0.1% of unfailure class.Here oversampling approach is used to deal with imbalanced dataset.\n",
    "- Some attributes have limited number of distictive values, very sparse, indicating that they are likely to be categorical variable, such as attibute 3, 5,7,9.\n",
    "- Attribue7 and 8 seems like exactly same to each other, we can drop one of them."
   ]
  },
  {
   "cell_type": "markdown",
   "id": "93e87152",
   "metadata": {},
   "source": [
    "\n",
    "# Data Processing"
   ]
  },
  {
   "cell_type": "code",
   "execution_count": 20,
   "id": "e2d31ebf",
   "metadata": {},
   "outputs": [
    {
     "data": {
      "text/plain": [
       "True    124493\n",
       "dtype: int64"
      ]
     },
     "execution_count": 20,
     "metadata": {},
     "output_type": "execute_result"
    }
   ],
   "source": [
    "# check if the two features are same\n",
    "(df['metric7']==df['metric8']).value_counts()"
   ]
  },
  {
   "cell_type": "code",
   "execution_count": 21,
   "id": "6a40169c",
   "metadata": {},
   "outputs": [
    {
     "data": {
      "text/html": [
       "<div>\n",
       "<style scoped>\n",
       "    .dataframe tbody tr th:only-of-type {\n",
       "        vertical-align: middle;\n",
       "    }\n",
       "\n",
       "    .dataframe tbody tr th {\n",
       "        vertical-align: top;\n",
       "    }\n",
       "\n",
       "    .dataframe thead th {\n",
       "        text-align: right;\n",
       "    }\n",
       "</style>\n",
       "<table border=\"1\" class=\"dataframe\">\n",
       "  <thead>\n",
       "    <tr style=\"text-align: right;\">\n",
       "      <th></th>\n",
       "      <th>date</th>\n",
       "      <th>device</th>\n",
       "      <th>failure</th>\n",
       "      <th>metric1</th>\n",
       "      <th>metric2</th>\n",
       "      <th>metric3</th>\n",
       "      <th>metric4</th>\n",
       "      <th>metric5</th>\n",
       "      <th>metric6</th>\n",
       "      <th>metric7</th>\n",
       "      <th>metric8</th>\n",
       "      <th>metric9</th>\n",
       "    </tr>\n",
       "  </thead>\n",
       "  <tbody>\n",
       "    <tr>\n",
       "      <th>0</th>\n",
       "      <td>1/1/2015</td>\n",
       "      <td>S1F01085</td>\n",
       "      <td>0</td>\n",
       "      <td>215630672</td>\n",
       "      <td>55</td>\n",
       "      <td>0</td>\n",
       "      <td>52</td>\n",
       "      <td>6</td>\n",
       "      <td>407438</td>\n",
       "      <td>0</td>\n",
       "      <td>0</td>\n",
       "      <td>7</td>\n",
       "    </tr>\n",
       "    <tr>\n",
       "      <th>1</th>\n",
       "      <td>1/1/2015</td>\n",
       "      <td>S1F0166B</td>\n",
       "      <td>0</td>\n",
       "      <td>61370680</td>\n",
       "      <td>0</td>\n",
       "      <td>3</td>\n",
       "      <td>0</td>\n",
       "      <td>6</td>\n",
       "      <td>403174</td>\n",
       "      <td>0</td>\n",
       "      <td>0</td>\n",
       "      <td>0</td>\n",
       "    </tr>\n",
       "    <tr>\n",
       "      <th>2</th>\n",
       "      <td>1/1/2015</td>\n",
       "      <td>S1F01E6Y</td>\n",
       "      <td>0</td>\n",
       "      <td>173295968</td>\n",
       "      <td>0</td>\n",
       "      <td>0</td>\n",
       "      <td>0</td>\n",
       "      <td>12</td>\n",
       "      <td>237394</td>\n",
       "      <td>0</td>\n",
       "      <td>0</td>\n",
       "      <td>0</td>\n",
       "    </tr>\n",
       "    <tr>\n",
       "      <th>3</th>\n",
       "      <td>1/1/2015</td>\n",
       "      <td>S1F01JE0</td>\n",
       "      <td>0</td>\n",
       "      <td>79694024</td>\n",
       "      <td>0</td>\n",
       "      <td>0</td>\n",
       "      <td>0</td>\n",
       "      <td>6</td>\n",
       "      <td>410186</td>\n",
       "      <td>0</td>\n",
       "      <td>0</td>\n",
       "      <td>0</td>\n",
       "    </tr>\n",
       "    <tr>\n",
       "      <th>4</th>\n",
       "      <td>1/1/2015</td>\n",
       "      <td>S1F01R2B</td>\n",
       "      <td>0</td>\n",
       "      <td>135970480</td>\n",
       "      <td>0</td>\n",
       "      <td>0</td>\n",
       "      <td>0</td>\n",
       "      <td>15</td>\n",
       "      <td>313173</td>\n",
       "      <td>0</td>\n",
       "      <td>0</td>\n",
       "      <td>3</td>\n",
       "    </tr>\n",
       "  </tbody>\n",
       "</table>\n",
       "</div>"
      ],
      "text/plain": [
       "       date    device  failure    metric1  metric2  metric3  metric4  metric5  \\\n",
       "0  1/1/2015  S1F01085        0  215630672       55        0       52        6   \n",
       "1  1/1/2015  S1F0166B        0   61370680        0        3        0        6   \n",
       "2  1/1/2015  S1F01E6Y        0  173295968        0        0        0       12   \n",
       "3  1/1/2015  S1F01JE0        0   79694024        0        0        0        6   \n",
       "4  1/1/2015  S1F01R2B        0  135970480        0        0        0       15   \n",
       "\n",
       "   metric6  metric7  metric8  metric9  \n",
       "0   407438        0        0        7  \n",
       "1   403174        0        0        0  \n",
       "2   237394        0        0        0  \n",
       "3   410186        0        0        0  \n",
       "4   313173        0        0        3  "
      ]
     },
     "execution_count": 21,
     "metadata": {},
     "output_type": "execute_result"
    }
   ],
   "source": [
    "#then I drop attribute 8, as it is duplicated.\n",
    "df.head()"
   ]
  },
  {
   "cell_type": "code",
   "execution_count": 22,
   "id": "986ca5c7",
   "metadata": {},
   "outputs": [],
   "source": [
    "# deleting the metric 8 and date column\n",
    "del df['metric8']\n",
    "del df['date']"
   ]
  },
  {
   "cell_type": "code",
   "execution_count": 23,
   "id": "9087ba49",
   "metadata": {},
   "outputs": [
    {
     "data": {
      "text/html": [
       "<div>\n",
       "<style scoped>\n",
       "    .dataframe tbody tr th:only-of-type {\n",
       "        vertical-align: middle;\n",
       "    }\n",
       "\n",
       "    .dataframe tbody tr th {\n",
       "        vertical-align: top;\n",
       "    }\n",
       "\n",
       "    .dataframe thead th {\n",
       "        text-align: right;\n",
       "    }\n",
       "</style>\n",
       "<table border=\"1\" class=\"dataframe\">\n",
       "  <thead>\n",
       "    <tr style=\"text-align: right;\">\n",
       "      <th></th>\n",
       "      <th>device</th>\n",
       "      <th>failure</th>\n",
       "      <th>metric1</th>\n",
       "      <th>metric2</th>\n",
       "      <th>metric3</th>\n",
       "      <th>metric4</th>\n",
       "      <th>metric5</th>\n",
       "      <th>metric6</th>\n",
       "      <th>metric7</th>\n",
       "      <th>metric9</th>\n",
       "    </tr>\n",
       "  </thead>\n",
       "  <tbody>\n",
       "    <tr>\n",
       "      <th>0</th>\n",
       "      <td>S1F01085</td>\n",
       "      <td>0</td>\n",
       "      <td>215630672</td>\n",
       "      <td>55</td>\n",
       "      <td>0</td>\n",
       "      <td>52</td>\n",
       "      <td>6</td>\n",
       "      <td>407438</td>\n",
       "      <td>0</td>\n",
       "      <td>7</td>\n",
       "    </tr>\n",
       "    <tr>\n",
       "      <th>1</th>\n",
       "      <td>S1F0166B</td>\n",
       "      <td>0</td>\n",
       "      <td>61370680</td>\n",
       "      <td>0</td>\n",
       "      <td>3</td>\n",
       "      <td>0</td>\n",
       "      <td>6</td>\n",
       "      <td>403174</td>\n",
       "      <td>0</td>\n",
       "      <td>0</td>\n",
       "    </tr>\n",
       "    <tr>\n",
       "      <th>2</th>\n",
       "      <td>S1F01E6Y</td>\n",
       "      <td>0</td>\n",
       "      <td>173295968</td>\n",
       "      <td>0</td>\n",
       "      <td>0</td>\n",
       "      <td>0</td>\n",
       "      <td>12</td>\n",
       "      <td>237394</td>\n",
       "      <td>0</td>\n",
       "      <td>0</td>\n",
       "    </tr>\n",
       "    <tr>\n",
       "      <th>3</th>\n",
       "      <td>S1F01JE0</td>\n",
       "      <td>0</td>\n",
       "      <td>79694024</td>\n",
       "      <td>0</td>\n",
       "      <td>0</td>\n",
       "      <td>0</td>\n",
       "      <td>6</td>\n",
       "      <td>410186</td>\n",
       "      <td>0</td>\n",
       "      <td>0</td>\n",
       "    </tr>\n",
       "    <tr>\n",
       "      <th>4</th>\n",
       "      <td>S1F01R2B</td>\n",
       "      <td>0</td>\n",
       "      <td>135970480</td>\n",
       "      <td>0</td>\n",
       "      <td>0</td>\n",
       "      <td>0</td>\n",
       "      <td>15</td>\n",
       "      <td>313173</td>\n",
       "      <td>0</td>\n",
       "      <td>3</td>\n",
       "    </tr>\n",
       "  </tbody>\n",
       "</table>\n",
       "</div>"
      ],
      "text/plain": [
       "     device  failure    metric1  metric2  metric3  metric4  metric5  metric6  \\\n",
       "0  S1F01085        0  215630672       55        0       52        6   407438   \n",
       "1  S1F0166B        0   61370680        0        3        0        6   403174   \n",
       "2  S1F01E6Y        0  173295968        0        0        0       12   237394   \n",
       "3  S1F01JE0        0   79694024        0        0        0        6   410186   \n",
       "4  S1F01R2B        0  135970480        0        0        0       15   313173   \n",
       "\n",
       "   metric7  metric9  \n",
       "0        0        7  \n",
       "1        0        0  \n",
       "2        0        0  \n",
       "3        0        0  \n",
       "4        0        3  "
      ]
     },
     "execution_count": 23,
     "metadata": {},
     "output_type": "execute_result"
    }
   ],
   "source": [
    "df.head()"
   ]
  },
  {
   "cell_type": "markdown",
   "id": "cb85d90e",
   "metadata": {},
   "source": [
    "# Redefine data types"
   ]
  },
  {
   "cell_type": "code",
   "execution_count": 24,
   "id": "abd6eac3",
   "metadata": {},
   "outputs": [],
   "source": [
    "# redefine data type for some of the numerical features\n",
    "cat_ftrs = ['metric3','metric4', 'metric5', 'metric7', 'metric9']\n",
    "for col in cat_ftrs:\n",
    "    df[col]=df[col].astype('object')"
   ]
  },
  {
   "cell_type": "code",
   "execution_count": 25,
   "id": "cd1291c9",
   "metadata": {},
   "outputs": [
    {
     "name": "stdout",
     "output_type": "stream",
     "text": [
      "<class 'pandas.core.frame.DataFrame'>\n",
      "Int64Index: 124493 entries, 0 to 124493\n",
      "Data columns (total 10 columns):\n",
      " #   Column   Non-Null Count   Dtype \n",
      "---  ------   --------------   ----- \n",
      " 0   device   124493 non-null  object\n",
      " 1   failure  124493 non-null  int64 \n",
      " 2   metric1  124493 non-null  int64 \n",
      " 3   metric2  124493 non-null  int64 \n",
      " 4   metric3  124493 non-null  object\n",
      " 5   metric4  124493 non-null  object\n",
      " 6   metric5  124493 non-null  object\n",
      " 7   metric6  124493 non-null  int64 \n",
      " 8   metric7  124493 non-null  object\n",
      " 9   metric9  124493 non-null  object\n",
      "dtypes: int64(4), object(6)\n",
      "memory usage: 10.4+ MB\n"
     ]
    }
   ],
   "source": [
    "df.info()"
   ]
  },
  {
   "cell_type": "markdown",
   "id": "cab1ea2c",
   "metadata": {},
   "source": [
    "# Creating a new df for device maintance time and failure column\n",
    "# Creating device maintanance times as new feature"
   ]
  },
  {
   "cell_type": "code",
   "execution_count": 26,
   "id": "041b14ed",
   "metadata": {},
   "outputs": [],
   "source": [
    "# group by device,the size means the mantainance times for each device. sum actually means\n",
    "# same thing with original failure feature.\n",
    "new_df = df.groupby('device').agg({'failure':[np.size,np.sum]})"
   ]
  },
  {
   "cell_type": "code",
   "execution_count": 27,
   "id": "a0059809",
   "metadata": {},
   "outputs": [
    {
     "data": {
      "text/html": [
       "<div>\n",
       "<style scoped>\n",
       "    .dataframe tbody tr th:only-of-type {\n",
       "        vertical-align: middle;\n",
       "    }\n",
       "\n",
       "    .dataframe tbody tr th {\n",
       "        vertical-align: top;\n",
       "    }\n",
       "\n",
       "    .dataframe thead tr th {\n",
       "        text-align: left;\n",
       "    }\n",
       "\n",
       "    .dataframe thead tr:last-of-type th {\n",
       "        text-align: right;\n",
       "    }\n",
       "</style>\n",
       "<table border=\"1\" class=\"dataframe\">\n",
       "  <thead>\n",
       "    <tr>\n",
       "      <th></th>\n",
       "      <th colspan=\"2\" halign=\"left\">failure</th>\n",
       "    </tr>\n",
       "    <tr>\n",
       "      <th></th>\n",
       "      <th>size</th>\n",
       "      <th>sum</th>\n",
       "    </tr>\n",
       "    <tr>\n",
       "      <th>device</th>\n",
       "      <th></th>\n",
       "      <th></th>\n",
       "    </tr>\n",
       "  </thead>\n",
       "  <tbody>\n",
       "    <tr>\n",
       "      <th>S1F01085</th>\n",
       "      <td>6</td>\n",
       "      <td>0</td>\n",
       "    </tr>\n",
       "    <tr>\n",
       "      <th>S1F013BB</th>\n",
       "      <td>6</td>\n",
       "      <td>0</td>\n",
       "    </tr>\n",
       "    <tr>\n",
       "      <th>S1F0166B</th>\n",
       "      <td>6</td>\n",
       "      <td>0</td>\n",
       "    </tr>\n",
       "    <tr>\n",
       "      <th>S1F01E6Y</th>\n",
       "      <td>48</td>\n",
       "      <td>0</td>\n",
       "    </tr>\n",
       "    <tr>\n",
       "      <th>S1F01JE0</th>\n",
       "      <td>6</td>\n",
       "      <td>0</td>\n",
       "    </tr>\n",
       "  </tbody>\n",
       "</table>\n",
       "</div>"
      ],
      "text/plain": [
       "         failure    \n",
       "            size sum\n",
       "device              \n",
       "S1F01085       6   0\n",
       "S1F013BB       6   0\n",
       "S1F0166B       6   0\n",
       "S1F01E6Y      48   0\n",
       "S1F01JE0       6   0"
      ]
     },
     "execution_count": 27,
     "metadata": {},
     "output_type": "execute_result"
    }
   ],
   "source": [
    "new_df.head()"
   ]
  },
  {
   "cell_type": "code",
   "execution_count": 28,
   "id": "24868498",
   "metadata": {},
   "outputs": [
    {
     "data": {
      "text/plain": [
       "MultiIndex([('failure', 'size'),\n",
       "            ('failure',  'sum')],\n",
       "           )"
      ]
     },
     "execution_count": 28,
     "metadata": {},
     "output_type": "execute_result"
    }
   ],
   "source": [
    "new_df.columns"
   ]
  },
  {
   "cell_type": "code",
   "execution_count": 29,
   "id": "5efac7be",
   "metadata": {},
   "outputs": [
    {
     "data": {
      "text/plain": [
       "<matplotlib.collections.PathCollection at 0x2277bcb5eb0>"
      ]
     },
     "execution_count": 29,
     "metadata": {},
     "output_type": "execute_result"
    },
    {
     "data": {
      "image/png": "[encoded data removed]",
      "text/plain": [
       "<Figure size 720x360 with 1 Axes>"
      ]
     },
     "metadata": {
      "needs_background": "light"
     },
     "output_type": "display_data"
    }
   ],
   "source": [
    "# from this plot, we see that the devices that fail come with \n",
    "#less maintanance times(up left scatter), devices not fail come with more maintancance times\n",
    "#(up right scatter)\n",
    "plt.figure(figsize=(10,5))\n",
    "plt.scatter(new_df[('failure','size')],new_df[('failure','sum')])"
   ]
  },
  {
   "cell_type": "markdown",
   "id": "4af9f28a",
   "metadata": {},
   "source": [
    "# Merging new_df with the df"
   ]
  },
  {
   "cell_type": "code",
   "execution_count": 30,
   "id": "6482feb8",
   "metadata": {},
   "outputs": [
    {
     "name": "stderr",
     "output_type": "stream",
     "text": [
      "C:\\Users\\Vinay\\AppData\\Local\\Temp\\ipykernel_3596\\380302446.py:2: FutureWarning: merging between different levels is deprecated and will be removed in a future version. (1 levels on the left, 2 on the right)\n",
      "  df=df.merge(new_df,on='device',how='left')\n"
     ]
    }
   ],
   "source": [
    "#merge with df\n",
    "df=df.merge(new_df,on='device',how='left')"
   ]
  },
  {
   "cell_type": "code",
   "execution_count": 31,
   "id": "7cc6e20d",
   "metadata": {},
   "outputs": [
    {
     "data": {
      "text/html": [
       "<div>\n",
       "<style scoped>\n",
       "    .dataframe tbody tr th:only-of-type {\n",
       "        vertical-align: middle;\n",
       "    }\n",
       "\n",
       "    .dataframe tbody tr th {\n",
       "        vertical-align: top;\n",
       "    }\n",
       "\n",
       "    .dataframe thead th {\n",
       "        text-align: right;\n",
       "    }\n",
       "</style>\n",
       "<table border=\"1\" class=\"dataframe\">\n",
       "  <thead>\n",
       "    <tr style=\"text-align: right;\">\n",
       "      <th></th>\n",
       "      <th>device</th>\n",
       "      <th>failure</th>\n",
       "      <th>metric1</th>\n",
       "      <th>metric2</th>\n",
       "      <th>metric3</th>\n",
       "      <th>metric4</th>\n",
       "      <th>metric5</th>\n",
       "      <th>metric6</th>\n",
       "      <th>metric7</th>\n",
       "      <th>metric9</th>\n",
       "      <th>(failure, size)</th>\n",
       "      <th>(failure, sum)</th>\n",
       "    </tr>\n",
       "  </thead>\n",
       "  <tbody>\n",
       "    <tr>\n",
       "      <th>0</th>\n",
       "      <td>S1F01085</td>\n",
       "      <td>0</td>\n",
       "      <td>215630672</td>\n",
       "      <td>55</td>\n",
       "      <td>0</td>\n",
       "      <td>52</td>\n",
       "      <td>6</td>\n",
       "      <td>407438</td>\n",
       "      <td>0</td>\n",
       "      <td>7</td>\n",
       "      <td>6</td>\n",
       "      <td>0</td>\n",
       "    </tr>\n",
       "    <tr>\n",
       "      <th>1</th>\n",
       "      <td>S1F0166B</td>\n",
       "      <td>0</td>\n",
       "      <td>61370680</td>\n",
       "      <td>0</td>\n",
       "      <td>3</td>\n",
       "      <td>0</td>\n",
       "      <td>6</td>\n",
       "      <td>403174</td>\n",
       "      <td>0</td>\n",
       "      <td>0</td>\n",
       "      <td>6</td>\n",
       "      <td>0</td>\n",
       "    </tr>\n",
       "    <tr>\n",
       "      <th>2</th>\n",
       "      <td>S1F01E6Y</td>\n",
       "      <td>0</td>\n",
       "      <td>173295968</td>\n",
       "      <td>0</td>\n",
       "      <td>0</td>\n",
       "      <td>0</td>\n",
       "      <td>12</td>\n",
       "      <td>237394</td>\n",
       "      <td>0</td>\n",
       "      <td>0</td>\n",
       "      <td>48</td>\n",
       "      <td>0</td>\n",
       "    </tr>\n",
       "    <tr>\n",
       "      <th>3</th>\n",
       "      <td>S1F01JE0</td>\n",
       "      <td>0</td>\n",
       "      <td>79694024</td>\n",
       "      <td>0</td>\n",
       "      <td>0</td>\n",
       "      <td>0</td>\n",
       "      <td>6</td>\n",
       "      <td>410186</td>\n",
       "      <td>0</td>\n",
       "      <td>0</td>\n",
       "      <td>6</td>\n",
       "      <td>0</td>\n",
       "    </tr>\n",
       "    <tr>\n",
       "      <th>4</th>\n",
       "      <td>S1F01R2B</td>\n",
       "      <td>0</td>\n",
       "      <td>135970480</td>\n",
       "      <td>0</td>\n",
       "      <td>0</td>\n",
       "      <td>0</td>\n",
       "      <td>15</td>\n",
       "      <td>313173</td>\n",
       "      <td>0</td>\n",
       "      <td>3</td>\n",
       "      <td>223</td>\n",
       "      <td>0</td>\n",
       "    </tr>\n",
       "  </tbody>\n",
       "</table>\n",
       "</div>"
      ],
      "text/plain": [
       "     device  failure    metric1  metric2 metric3 metric4 metric5  metric6  \\\n",
       "0  S1F01085        0  215630672       55       0      52       6   407438   \n",
       "1  S1F0166B        0   61370680        0       3       0       6   403174   \n",
       "2  S1F01E6Y        0  173295968        0       0       0      12   237394   \n",
       "3  S1F01JE0        0   79694024        0       0       0       6   410186   \n",
       "4  S1F01R2B        0  135970480        0       0       0      15   313173   \n",
       "\n",
       "  metric7 metric9  (failure, size)  (failure, sum)  \n",
       "0       0       7                6               0  \n",
       "1       0       0                6               0  \n",
       "2       0       0               48               0  \n",
       "3       0       0                6               0  \n",
       "4       0       3              223               0  "
      ]
     },
     "execution_count": 31,
     "metadata": {},
     "output_type": "execute_result"
    }
   ],
   "source": [
    "df.head()"
   ]
  },
  {
   "cell_type": "code",
   "execution_count": 32,
   "id": "5517e60c",
   "metadata": {},
   "outputs": [
    {
     "data": {
      "text/plain": [
       "(124493, 12)"
      ]
     },
     "execution_count": 32,
     "metadata": {},
     "output_type": "execute_result"
    }
   ],
   "source": [
    "df.shape"
   ]
  },
  {
   "cell_type": "code",
   "execution_count": 33,
   "id": "a89fc5ac",
   "metadata": {},
   "outputs": [
    {
     "data": {
      "text/plain": [
       "True     113886\n",
       "False     10607\n",
       "dtype: int64"
      ]
     },
     "execution_count": 33,
     "metadata": {},
     "output_type": "execute_result"
    }
   ],
   "source": [
    "(df['failure']==df[('failure','sum')]).value_counts()"
   ]
  },
  {
   "cell_type": "code",
   "execution_count": 34,
   "id": "d3d138ca",
   "metadata": {},
   "outputs": [],
   "source": [
    "# dropping the failure,sum column as it it was similar to failure\n",
    "df.drop(('failure','sum'),axis=1,inplace=True)"
   ]
  },
  {
   "cell_type": "code",
   "execution_count": 35,
   "id": "789cb5d6",
   "metadata": {},
   "outputs": [
    {
     "data": {
      "text/html": [
       "<div>\n",
       "<style scoped>\n",
       "    .dataframe tbody tr th:only-of-type {\n",
       "        vertical-align: middle;\n",
       "    }\n",
       "\n",
       "    .dataframe tbody tr th {\n",
       "        vertical-align: top;\n",
       "    }\n",
       "\n",
       "    .dataframe thead th {\n",
       "        text-align: right;\n",
       "    }\n",
       "</style>\n",
       "<table border=\"1\" class=\"dataframe\">\n",
       "  <thead>\n",
       "    <tr style=\"text-align: right;\">\n",
       "      <th></th>\n",
       "      <th>device</th>\n",
       "      <th>failure</th>\n",
       "      <th>metric1</th>\n",
       "      <th>metric2</th>\n",
       "      <th>metric3</th>\n",
       "      <th>metric4</th>\n",
       "      <th>metric5</th>\n",
       "      <th>metric6</th>\n",
       "      <th>metric7</th>\n",
       "      <th>metric9</th>\n",
       "      <th>(failure, size)</th>\n",
       "    </tr>\n",
       "  </thead>\n",
       "  <tbody>\n",
       "    <tr>\n",
       "      <th>0</th>\n",
       "      <td>S1F01085</td>\n",
       "      <td>0</td>\n",
       "      <td>215630672</td>\n",
       "      <td>55</td>\n",
       "      <td>0</td>\n",
       "      <td>52</td>\n",
       "      <td>6</td>\n",
       "      <td>407438</td>\n",
       "      <td>0</td>\n",
       "      <td>7</td>\n",
       "      <td>6</td>\n",
       "    </tr>\n",
       "    <tr>\n",
       "      <th>1</th>\n",
       "      <td>S1F0166B</td>\n",
       "      <td>0</td>\n",
       "      <td>61370680</td>\n",
       "      <td>0</td>\n",
       "      <td>3</td>\n",
       "      <td>0</td>\n",
       "      <td>6</td>\n",
       "      <td>403174</td>\n",
       "      <td>0</td>\n",
       "      <td>0</td>\n",
       "      <td>6</td>\n",
       "    </tr>\n",
       "    <tr>\n",
       "      <th>2</th>\n",
       "      <td>S1F01E6Y</td>\n",
       "      <td>0</td>\n",
       "      <td>173295968</td>\n",
       "      <td>0</td>\n",
       "      <td>0</td>\n",
       "      <td>0</td>\n",
       "      <td>12</td>\n",
       "      <td>237394</td>\n",
       "      <td>0</td>\n",
       "      <td>0</td>\n",
       "      <td>48</td>\n",
       "    </tr>\n",
       "    <tr>\n",
       "      <th>3</th>\n",
       "      <td>S1F01JE0</td>\n",
       "      <td>0</td>\n",
       "      <td>79694024</td>\n",
       "      <td>0</td>\n",
       "      <td>0</td>\n",
       "      <td>0</td>\n",
       "      <td>6</td>\n",
       "      <td>410186</td>\n",
       "      <td>0</td>\n",
       "      <td>0</td>\n",
       "      <td>6</td>\n",
       "    </tr>\n",
       "    <tr>\n",
       "      <th>4</th>\n",
       "      <td>S1F01R2B</td>\n",
       "      <td>0</td>\n",
       "      <td>135970480</td>\n",
       "      <td>0</td>\n",
       "      <td>0</td>\n",
       "      <td>0</td>\n",
       "      <td>15</td>\n",
       "      <td>313173</td>\n",
       "      <td>0</td>\n",
       "      <td>3</td>\n",
       "      <td>223</td>\n",
       "    </tr>\n",
       "  </tbody>\n",
       "</table>\n",
       "</div>"
      ],
      "text/plain": [
       "     device  failure    metric1  metric2 metric3 metric4 metric5  metric6  \\\n",
       "0  S1F01085        0  215630672       55       0      52       6   407438   \n",
       "1  S1F0166B        0   61370680        0       3       0       6   403174   \n",
       "2  S1F01E6Y        0  173295968        0       0       0      12   237394   \n",
       "3  S1F01JE0        0   79694024        0       0       0       6   410186   \n",
       "4  S1F01R2B        0  135970480        0       0       0      15   313173   \n",
       "\n",
       "  metric7 metric9  (failure, size)  \n",
       "0       0       7                6  \n",
       "1       0       0                6  \n",
       "2       0       0               48  \n",
       "3       0       0                6  \n",
       "4       0       3              223  "
      ]
     },
     "execution_count": 35,
     "metadata": {},
     "output_type": "execute_result"
    }
   ],
   "source": [
    "df.head()"
   ]
  },
  {
   "cell_type": "markdown",
   "id": "6e43153d",
   "metadata": {},
   "source": [
    "# Redefine device Id value\n"
   ]
  },
  {
   "cell_type": "code",
   "execution_count": 36,
   "id": "a19ecc50",
   "metadata": {},
   "outputs": [
    {
     "data": {
      "text/plain": [
       "0         S1F01085\n",
       "1         S1F0166B\n",
       "2         S1F01E6Y\n",
       "3         S1F01JE0\n",
       "4         S1F01R2B\n",
       "            ...   \n",
       "124488    Z1F0MA1S\n",
       "124489    Z1F0Q8RT\n",
       "124490    Z1F0QK05\n",
       "124491    Z1F0QL3N\n",
       "124492    Z1F0QLC1\n",
       "Name: device, Length: 124493, dtype: object"
      ]
     },
     "execution_count": 36,
     "metadata": {},
     "output_type": "execute_result"
    }
   ],
   "source": [
    "# At the device Id, the first four charachers are unique\n",
    "df.device"
   ]
  },
  {
   "cell_type": "code",
   "execution_count": 37,
   "id": "1a3564ba",
   "metadata": {},
   "outputs": [],
   "source": [
    "Id = df.device.values.tolist()"
   ]
  },
  {
   "cell_type": "code",
   "execution_count": 38,
   "id": "5334f315",
   "metadata": {},
   "outputs": [],
   "source": [
    "#change device id values to the first four characters\n",
    "newId = []\n",
    "for i in Id:\n",
    "    i = i[:4]\n",
    "    newId.append(i)"
   ]
  },
  {
   "cell_type": "code",
   "execution_count": 39,
   "id": "37742ab3",
   "metadata": {},
   "outputs": [],
   "source": [
    "df.device=newId"
   ]
  },
  {
   "cell_type": "code",
   "execution_count": 40,
   "id": "66ad7b06",
   "metadata": {},
   "outputs": [
    {
     "data": {
      "text/html": [
       "<div>\n",
       "<style scoped>\n",
       "    .dataframe tbody tr th:only-of-type {\n",
       "        vertical-align: middle;\n",
       "    }\n",
       "\n",
       "    .dataframe tbody tr th {\n",
       "        vertical-align: top;\n",
       "    }\n",
       "\n",
       "    .dataframe thead th {\n",
       "        text-align: right;\n",
       "    }\n",
       "</style>\n",
       "<table border=\"1\" class=\"dataframe\">\n",
       "  <thead>\n",
       "    <tr style=\"text-align: right;\">\n",
       "      <th></th>\n",
       "      <th>device</th>\n",
       "      <th>failure</th>\n",
       "      <th>metric1</th>\n",
       "      <th>metric2</th>\n",
       "      <th>metric3</th>\n",
       "      <th>metric4</th>\n",
       "      <th>metric5</th>\n",
       "      <th>metric6</th>\n",
       "      <th>metric7</th>\n",
       "      <th>metric9</th>\n",
       "      <th>(failure, size)</th>\n",
       "    </tr>\n",
       "  </thead>\n",
       "  <tbody>\n",
       "    <tr>\n",
       "      <th>0</th>\n",
       "      <td>S1F0</td>\n",
       "      <td>0</td>\n",
       "      <td>215630672</td>\n",
       "      <td>55</td>\n",
       "      <td>0</td>\n",
       "      <td>52</td>\n",
       "      <td>6</td>\n",
       "      <td>407438</td>\n",
       "      <td>0</td>\n",
       "      <td>7</td>\n",
       "      <td>6</td>\n",
       "    </tr>\n",
       "    <tr>\n",
       "      <th>1</th>\n",
       "      <td>S1F0</td>\n",
       "      <td>0</td>\n",
       "      <td>61370680</td>\n",
       "      <td>0</td>\n",
       "      <td>3</td>\n",
       "      <td>0</td>\n",
       "      <td>6</td>\n",
       "      <td>403174</td>\n",
       "      <td>0</td>\n",
       "      <td>0</td>\n",
       "      <td>6</td>\n",
       "    </tr>\n",
       "    <tr>\n",
       "      <th>2</th>\n",
       "      <td>S1F0</td>\n",
       "      <td>0</td>\n",
       "      <td>173295968</td>\n",
       "      <td>0</td>\n",
       "      <td>0</td>\n",
       "      <td>0</td>\n",
       "      <td>12</td>\n",
       "      <td>237394</td>\n",
       "      <td>0</td>\n",
       "      <td>0</td>\n",
       "      <td>48</td>\n",
       "    </tr>\n",
       "    <tr>\n",
       "      <th>3</th>\n",
       "      <td>S1F0</td>\n",
       "      <td>0</td>\n",
       "      <td>79694024</td>\n",
       "      <td>0</td>\n",
       "      <td>0</td>\n",
       "      <td>0</td>\n",
       "      <td>6</td>\n",
       "      <td>410186</td>\n",
       "      <td>0</td>\n",
       "      <td>0</td>\n",
       "      <td>6</td>\n",
       "    </tr>\n",
       "    <tr>\n",
       "      <th>4</th>\n",
       "      <td>S1F0</td>\n",
       "      <td>0</td>\n",
       "      <td>135970480</td>\n",
       "      <td>0</td>\n",
       "      <td>0</td>\n",
       "      <td>0</td>\n",
       "      <td>15</td>\n",
       "      <td>313173</td>\n",
       "      <td>0</td>\n",
       "      <td>3</td>\n",
       "      <td>223</td>\n",
       "    </tr>\n",
       "  </tbody>\n",
       "</table>\n",
       "</div>"
      ],
      "text/plain": [
       "  device  failure    metric1  metric2 metric3 metric4 metric5  metric6  \\\n",
       "0   S1F0        0  215630672       55       0      52       6   407438   \n",
       "1   S1F0        0   61370680        0       3       0       6   403174   \n",
       "2   S1F0        0  173295968        0       0       0      12   237394   \n",
       "3   S1F0        0   79694024        0       0       0       6   410186   \n",
       "4   S1F0        0  135970480        0       0       0      15   313173   \n",
       "\n",
       "  metric7 metric9  (failure, size)  \n",
       "0       0       7                6  \n",
       "1       0       0                6  \n",
       "2       0       0               48  \n",
       "3       0       0                6  \n",
       "4       0       3              223  "
      ]
     },
     "execution_count": 40,
     "metadata": {},
     "output_type": "execute_result"
    }
   ],
   "source": [
    "df.head()"
   ]
  },
  {
   "cell_type": "code",
   "execution_count": 41,
   "id": "cacf0e3c",
   "metadata": {},
   "outputs": [
    {
     "data": {
      "text/plain": [
       "S1F0    33168\n",
       "W1F0    23294\n",
       "S1F1    21689\n",
       "W1F1    19974\n",
       "Z1F0    18869\n",
       "Z1F1     7248\n",
       "Z1F2      251\n",
       "Name: device, dtype: int64"
      ]
     },
     "execution_count": 41,
     "metadata": {},
     "output_type": "execute_result"
    }
   ],
   "source": [
    "# after redefine the device id, we got 7 unique ids\n",
    "df.device.value_counts()"
   ]
  },
  {
   "cell_type": "code",
   "execution_count": 42,
   "id": "fafe87ab",
   "metadata": {},
   "outputs": [
    {
     "data": {
      "image/png": "[encoded data removed]",
      "text/plain": [
       "<Figure size 432x288 with 1 Axes>"
      ]
     },
     "metadata": {
      "needs_background": "light"
     },
     "output_type": "display_data"
    }
   ],
   "source": [
    "# plotting the barplot for each devices with the failure \n",
    "dev=pd.crosstab(df['device'],df['failure']) \n",
    "dev.div(dev.sum(1).astype(float), axis=0).plot(kind=\"bar\", stacked=True) \n",
    "plt.show() "
   ]
  },
  {
   "cell_type": "markdown",
   "id": "48d7c9c2",
   "metadata": {},
   "source": [
    "device id start with S1F0,W1F1 and Z1F1 seem to have bigger chance to fail"
   ]
  },
  {
   "cell_type": "code",
   "execution_count": 43,
   "id": "8043b5d9",
   "metadata": {},
   "outputs": [
    {
     "name": "stdout",
     "output_type": "stream",
     "text": [
      "<class 'pandas.core.frame.DataFrame'>\n",
      "Int64Index: 124493 entries, 0 to 124492\n",
      "Data columns (total 11 columns):\n",
      " #   Column           Non-Null Count   Dtype \n",
      "---  ------           --------------   ----- \n",
      " 0   device           124493 non-null  object\n",
      " 1   failure          124493 non-null  int64 \n",
      " 2   metric1          124493 non-null  int64 \n",
      " 3   metric2          124493 non-null  int64 \n",
      " 4   metric3          124493 non-null  object\n",
      " 5   metric4          124493 non-null  object\n",
      " 6   metric5          124493 non-null  object\n",
      " 7   metric6          124493 non-null  int64 \n",
      " 8   metric7          124493 non-null  object\n",
      " 9   metric9          124493 non-null  object\n",
      " 10  (failure, size)  124493 non-null  int64 \n",
      "dtypes: int64(5), object(6)\n",
      "memory usage: 11.4+ MB\n"
     ]
    }
   ],
   "source": [
    "df.info()"
   ]
  },
  {
   "cell_type": "markdown",
   "id": "cc27fd28",
   "metadata": {},
   "source": [
    "# Extract outliers for numerical features\n"
   ]
  },
  {
   "cell_type": "code",
   "execution_count": 44,
   "id": "9531d6c9",
   "metadata": {},
   "outputs": [
    {
     "data": {
      "image/png": "[encoded data removed]",
      "text/plain": [
       "<Figure size 432x720 with 3 Axes>"
      ]
     },
     "metadata": {
      "needs_background": "light"
     },
     "output_type": "display_data"
    }
   ],
   "source": [
    "fig = plt.figure(figsize=(6,10))\n",
    "\n",
    "ax1 = plt.subplot(131)\n",
    "ax2 = plt.subplot(132)\n",
    "ax3 = plt.subplot(133)\n",
    "\n",
    "df.boxplot(column='metric1', ax=ax1)\n",
    "df.boxplot(column='metric2', ax=ax2)\n",
    "df.boxplot(column='metric6', ax=ax3)\n",
    "\n",
    "plt.suptitle('outlier for numerical feautres')\n",
    "plt.tight_layout()"
   ]
  },
  {
   "cell_type": "code",
   "execution_count": 45,
   "id": "22a17aed",
   "metadata": {},
   "outputs": [
    {
     "name": "stdout",
     "output_type": "stream",
     "text": [
      "<class 'pandas.core.frame.DataFrame'>\n",
      "Int64Index: 118268 entries, 0 to 124492\n",
      "Data columns (total 11 columns):\n",
      " #   Column           Non-Null Count   Dtype \n",
      "---  ------           --------------   ----- \n",
      " 0   device           118268 non-null  object\n",
      " 1   failure          118268 non-null  int64 \n",
      " 2   metric1          118268 non-null  int64 \n",
      " 3   metric2          118268 non-null  int64 \n",
      " 4   metric3          118268 non-null  object\n",
      " 5   metric4          118268 non-null  object\n",
      " 6   metric5          118268 non-null  object\n",
      " 7   metric6          118268 non-null  int64 \n",
      " 8   metric7          118268 non-null  object\n",
      " 9   metric9          118268 non-null  object\n",
      " 10  (failure, size)  118268 non-null  int64 \n",
      "dtypes: int64(5), object(6)\n",
      "memory usage: 10.8+ MB\n"
     ]
    }
   ],
   "source": [
    "# take 5% of the top values as outliers\n",
    "outliers = df.quantile(0.95)\n",
    "outliers\n",
    "\n",
    "num_ftrs =['metric1','metric2','metric6']\n",
    "\n",
    "for i in num_ftrs:\n",
    "    df1=df[(df[i]<outliers[i])]\n",
    "\n",
    "df1.shape\n",
    "\n",
    "df1.info()"
   ]
  },
  {
   "cell_type": "markdown",
   "id": "627b7a31",
   "metadata": {},
   "source": [
    "# Data Transformation"
   ]
  },
  {
   "cell_type": "markdown",
   "id": "069afefe",
   "metadata": {},
   "source": [
    "- Numerical features normalization"
   ]
  },
  {
   "cell_type": "markdown",
   "id": "1a01dc52",
   "metadata": {},
   "source": [
    "Doing the numerical features normalization for the column having geater unique value"
   ]
  },
  {
   "cell_type": "code",
   "execution_count": 46,
   "id": "021f7136",
   "metadata": {},
   "outputs": [
    {
     "name": "stderr",
     "output_type": "stream",
     "text": [
      "C:\\Users\\Vinay\\anaconda3\\lib\\site-packages\\seaborn\\distributions.py:2619: FutureWarning: `distplot` is a deprecated function and will be removed in a future version. Please adapt your code to use either `displot` (a figure-level function with similar flexibility) or `histplot` (an axes-level function for histograms).\n",
      "  warnings.warn(msg, FutureWarning)\n",
      "C:\\Users\\Vinay\\anaconda3\\lib\\site-packages\\seaborn\\distributions.py:2619: FutureWarning: `distplot` is a deprecated function and will be removed in a future version. Please adapt your code to use either `displot` (a figure-level function with similar flexibility) or `histplot` (an axes-level function for histograms).\n",
      "  warnings.warn(msg, FutureWarning)\n"
     ]
    },
    {
     "data": {
      "text/plain": [
       "Text(0.5, 1.0, 'Log-Transformed Distribution')"
      ]
     },
     "execution_count": 46,
     "metadata": {},
     "output_type": "execute_result"
    },
    {
     "data": {
      "image/png": "[encoded data removed]",
      "text/plain": [
       "<Figure size 432x288 with 2 Axes>"
      ]
     },
     "metadata": {
      "needs_background": "light"
     },
     "output_type": "display_data"
    }
   ],
   "source": [
    "f, axarr = plt.subplots(1,2)\n",
    "sns.distplot(df1['metric1'],ax=axarr[0])\n",
    "axarr[0].set_title('Skewed Distribution')\n",
    "sns.distplot(np.log(1+df1['metric1']),ax=axarr[1])\n",
    "axarr[1].set_title('Log-Transformed Distribution')"
   ]
  },
  {
   "cell_type": "code",
   "execution_count": 47,
   "id": "18e93daf",
   "metadata": {},
   "outputs": [
    {
     "name": "stderr",
     "output_type": "stream",
     "text": [
      "C:\\Users\\Vinay\\anaconda3\\lib\\site-packages\\seaborn\\distributions.py:2619: FutureWarning: `distplot` is a deprecated function and will be removed in a future version. Please adapt your code to use either `displot` (a figure-level function with similar flexibility) or `histplot` (an axes-level function for histograms).\n",
      "  warnings.warn(msg, FutureWarning)\n",
      "C:\\Users\\Vinay\\anaconda3\\lib\\site-packages\\seaborn\\distributions.py:2619: FutureWarning: `distplot` is a deprecated function and will be removed in a future version. Please adapt your code to use either `displot` (a figure-level function with similar flexibility) or `histplot` (an axes-level function for histograms).\n",
      "  warnings.warn(msg, FutureWarning)\n"
     ]
    },
    {
     "data": {
      "text/plain": [
       "Text(0.5, 1.0, 'Log-Transformed Distribution')"
      ]
     },
     "execution_count": 47,
     "metadata": {},
     "output_type": "execute_result"
    },
    {
     "data": {
      "image/png": "[encoded data removed]",
      "text/plain": [
       "<Figure size 432x288 with 2 Axes>"
      ]
     },
     "metadata": {
      "needs_background": "light"
     },
     "output_type": "display_data"
    }
   ],
   "source": [
    "f, axarr = plt.subplots(1,2)\n",
    "sns.distplot(df1['metric2'],ax=axarr[0])\n",
    "axarr[0].set_title('Skewed Distribution')\n",
    "sns.distplot(np.log(1+df1['metric2']),ax=axarr[1])\n",
    "axarr[1].set_title('Log-Transformed Distribution')"
   ]
  },
  {
   "cell_type": "code",
   "execution_count": 48,
   "id": "24913386",
   "metadata": {},
   "outputs": [
    {
     "name": "stderr",
     "output_type": "stream",
     "text": [
      "C:\\Users\\Vinay\\anaconda3\\lib\\site-packages\\seaborn\\distributions.py:2619: FutureWarning: `distplot` is a deprecated function and will be removed in a future version. Please adapt your code to use either `displot` (a figure-level function with similar flexibility) or `histplot` (an axes-level function for histograms).\n",
      "  warnings.warn(msg, FutureWarning)\n",
      "C:\\Users\\Vinay\\anaconda3\\lib\\site-packages\\seaborn\\distributions.py:2619: FutureWarning: `distplot` is a deprecated function and will be removed in a future version. Please adapt your code to use either `displot` (a figure-level function with similar flexibility) or `histplot` (an axes-level function for histograms).\n",
      "  warnings.warn(msg, FutureWarning)\n"
     ]
    },
    {
     "data": {
      "text/plain": [
       "Text(0.5, 1.0, 'Log-Transformed Distribution')"
      ]
     },
     "execution_count": 48,
     "metadata": {},
     "output_type": "execute_result"
    },
    {
     "data": {
      "image/png": "[encoded data removed]",
      "text/plain": [
       "<Figure size 432x288 with 2 Axes>"
      ]
     },
     "metadata": {
      "needs_background": "light"
     },
     "output_type": "display_data"
    }
   ],
   "source": [
    "f, axarr = plt.subplots(1,2)\n",
    "sns.distplot(df1['metric6'],ax=axarr[0])\n",
    "axarr[0].set_title('Skewed Distribution')\n",
    "sns.distplot(np.log(1+df1['metric6']),ax=axarr[1])\n",
    "axarr[1].set_title('Log-Transformed Distribution')"
   ]
  },
  {
   "cell_type": "markdown",
   "id": "32c493af",
   "metadata": {},
   "source": [
    "- numerical features standardization"
   ]
  },
  {
   "cell_type": "code",
   "execution_count": 49,
   "id": "f6e40423",
   "metadata": {},
   "outputs": [],
   "source": [
    "from sklearn.preprocessing import StandardScaler\n",
    "scaler = StandardScaler()"
   ]
  },
  {
   "cell_type": "code",
   "execution_count": 50,
   "id": "270ec1ff",
   "metadata": {},
   "outputs": [
    {
     "name": "stderr",
     "output_type": "stream",
     "text": [
      "C:\\Users\\Vinay\\AppData\\Local\\Temp\\ipykernel_3596\\2456860733.py:1: SettingWithCopyWarning: \n",
      "A value is trying to be set on a copy of a slice from a DataFrame.\n",
      "Try using .loc[row_indexer,col_indexer] = value instead\n",
      "\n",
      "See the caveats in the documentation: https://pandas.pydata.org/pandas-docs/stable/user_guide/indexing.html#returning-a-view-versus-a-copy\n",
      "  df1[num_ftrs]=scaler.fit_transform(df1[num_ftrs])\n"
     ]
    }
   ],
   "source": [
    "df1[num_ftrs]=scaler.fit_transform(df1[num_ftrs])"
   ]
  },
  {
   "cell_type": "code",
   "execution_count": 51,
   "id": "e3d1e189",
   "metadata": {},
   "outputs": [
    {
     "name": "stdout",
     "output_type": "stream",
     "text": [
      "<class 'pandas.core.frame.DataFrame'>\n",
      "Int64Index: 118268 entries, 0 to 124492\n",
      "Data columns (total 11 columns):\n",
      " #   Column           Non-Null Count   Dtype  \n",
      "---  ------           --------------   -----  \n",
      " 0   device           118268 non-null  object \n",
      " 1   failure          118268 non-null  int64  \n",
      " 2   metric1          118268 non-null  float64\n",
      " 3   metric2          118268 non-null  float64\n",
      " 4   metric3          118268 non-null  object \n",
      " 5   metric4          118268 non-null  object \n",
      " 6   metric5          118268 non-null  object \n",
      " 7   metric6          118268 non-null  float64\n",
      " 8   metric7          118268 non-null  object \n",
      " 9   metric9          118268 non-null  object \n",
      " 10  (failure, size)  118268 non-null  int64  \n",
      "dtypes: float64(3), int64(2), object(6)\n",
      "memory usage: 10.8+ MB\n"
     ]
    }
   ],
   "source": [
    "df1.info()"
   ]
  },
  {
   "cell_type": "markdown",
   "id": "c7348204",
   "metadata": {},
   "source": [
    "- get dummies on categorical feature"
   ]
  },
  {
   "cell_type": "code",
   "execution_count": 52,
   "id": "547124fa",
   "metadata": {},
   "outputs": [
    {
     "name": "stderr",
     "output_type": "stream",
     "text": [
      "C:\\Users\\Vinay\\anaconda3\\lib\\site-packages\\pandas\\core\\algorithms.py:798: FutureWarning: In a future version, the Index constructor will not infer numeric dtypes when passed object-dtype sequences (matching Series behavior)\n",
      "  uniques = Index(uniques)\n"
     ]
    }
   ],
   "source": [
    "df1 = pd.get_dummies(df1,drop_first=True)"
   ]
  },
  {
   "cell_type": "code",
   "execution_count": 53,
   "id": "b5db1ab4",
   "metadata": {},
   "outputs": [
    {
     "data": {
      "text/plain": [
       "(118268, 318)"
      ]
     },
     "execution_count": 53,
     "metadata": {},
     "output_type": "execute_result"
    }
   ],
   "source": [
    "df1.shape"
   ]
  },
  {
   "cell_type": "markdown",
   "id": "24710eea",
   "metadata": {},
   "source": [
    "-  numerical features standardization"
   ]
  },
  {
   "cell_type": "markdown",
   "id": "766ca80a",
   "metadata": {},
   "source": [
    "# Feature Selection"
   ]
  },
  {
   "cell_type": "markdown",
   "id": "3da8c988",
   "metadata": {},
   "source": [
    "## Define dependent and independent values"
   ]
  },
  {
   "cell_type": "code",
   "execution_count": 54,
   "id": "9b2eee1d",
   "metadata": {},
   "outputs": [],
   "source": [
    "X = df1.drop('failure',axis=1)\n",
    "Y = df1['failure']"
   ]
  },
  {
   "cell_type": "code",
   "execution_count": 55,
   "id": "94f72b78",
   "metadata": {},
   "outputs": [
    {
     "data": {
      "text/plain": [
       "pandas.core.series.Series"
      ]
     },
     "execution_count": 55,
     "metadata": {},
     "output_type": "execute_result"
    }
   ],
   "source": [
    "type(Y)"
   ]
  },
  {
   "cell_type": "code",
   "execution_count": 56,
   "id": "cb4db0f5",
   "metadata": {},
   "outputs": [],
   "source": [
    "from sklearn.ensemble import RandomForestRegressor\n",
    "from sklearn.ensemble import RandomForestClassifier"
   ]
  },
  {
   "cell_type": "code",
   "execution_count": 57,
   "id": "37c83174",
   "metadata": {},
   "outputs": [
    {
     "name": "stderr",
     "output_type": "stream",
     "text": [
      "C:\\Users\\Vinay\\anaconda3\\lib\\site-packages\\sklearn\\utils\\validation.py:1858: FutureWarning: Feature names only support names that are all strings. Got feature names with dtypes: ['str', 'tuple']. An error will be raised in 1.2.\n",
      "  warnings.warn(\n",
      "C:\\Users\\Vinay\\anaconda3\\lib\\site-packages\\sklearn\\ensemble\\_forest.py:427: FutureWarning: `max_features='auto'` has been deprecated in 1.1 and will be removed in 1.3. To keep the past behaviour, explicitly set `max_features='sqrt'` or remove this parameter as it is also the default value for RandomForestClassifiers and ExtraTreesClassifiers.\n",
      "  warn(\n"
     ]
    },
    {
     "data": {
      "text/plain": [
       "<AxesSubplot:ylabel='feature'>"
      ]
     },
     "execution_count": 57,
     "metadata": {},
     "output_type": "execute_result"
    },
    {
     "data": {
      "image/png": "[encoded data removed]",
      "text/plain": [
       "<Figure size 2160x2160 with 1 Axes>"
      ]
     },
     "metadata": {
      "needs_background": "light"
     },
     "output_type": "display_data"
    }
   ],
   "source": [
    "clf = RandomForestClassifier(n_estimators=50, max_features='auto')\n",
    "clf= clf.fit(X,Y)\n",
    "\n",
    "features = pd.DataFrame()\n",
    "features['feature']= X.columns\n",
    "features['important']=clf.feature_importances_\n",
    "features.sort_values(by=['important'], ascending=False,inplace=True)\n",
    "features.set_index('feature', inplace=True)\n",
    "features.iloc[:50,:].plot(kind='barh', figsize=(30,30))"
   ]
  },
  {
   "cell_type": "code",
   "execution_count": 58,
   "id": "a8bc2561",
   "metadata": {},
   "outputs": [],
   "source": [
    "from sklearn.feature_selection import SelectFromModel"
   ]
  },
  {
   "cell_type": "code",
   "execution_count": 59,
   "id": "60849796",
   "metadata": {},
   "outputs": [
    {
     "name": "stderr",
     "output_type": "stream",
     "text": [
      "C:\\Users\\Vinay\\anaconda3\\lib\\site-packages\\sklearn\\utils\\validation.py:1858: FutureWarning: Feature names only support names that are all strings. Got feature names with dtypes: ['str', 'tuple']. An error will be raised in 1.2.\n",
      "  warnings.warn(\n"
     ]
    },
    {
     "name": "stdout",
     "output_type": "stream",
     "text": [
      "(118268, 46)\n"
     ]
    }
   ],
   "source": [
    "model = SelectFromModel(clf,prefit=True)\n",
    "x_reduced = model.transform(X)\n",
    "print (x_reduced.shape)"
   ]
  },
  {
   "cell_type": "code",
   "execution_count": 60,
   "id": "96e33fda",
   "metadata": {},
   "outputs": [
    {
     "data": {
      "text/plain": [
       "numpy.ndarray"
      ]
     },
     "execution_count": 60,
     "metadata": {},
     "output_type": "execute_result"
    }
   ],
   "source": [
    "type(x_reduced)"
   ]
  },
  {
   "cell_type": "code",
   "execution_count": 61,
   "id": "eece8a31",
   "metadata": {},
   "outputs": [
    {
     "name": "stdout",
     "output_type": "stream",
     "text": [
      "False\n",
      "True\n"
     ]
    }
   ],
   "source": [
    "print(np.any(np.isnan(x_reduced)))\n",
    "print(np.all(np.isfinite(x_reduced)))"
   ]
  },
  {
   "cell_type": "code",
   "execution_count": 62,
   "id": "c180cbe7",
   "metadata": {},
   "outputs": [
    {
     "data": {
      "text/plain": [
       "array([[ 1.32397321, -0.04988811,  1.83594568, ...,  0.        ,\n",
       "         0.        ,  0.        ],\n",
       "       [-0.86626009, -0.07451479,  1.78674171, ...,  0.        ,\n",
       "         0.        ,  0.        ],\n",
       "       [ 0.72289138, -0.07451479, -0.12625876, ...,  0.        ,\n",
       "         0.        ,  0.        ],\n",
       "       ...,\n",
       "       [-1.46743926,  2.08905127,  1.17787721, ...,  0.        ,\n",
       "         0.        ,  0.        ],\n",
       "       [ 1.48473708, -0.07451479,  1.2767698 , ...,  0.        ,\n",
       "         0.        ,  0.        ],\n",
       "       [-1.48811599, -0.07451479,  1.18965893, ...,  0.        ,\n",
       "         0.        ,  0.        ]])"
      ]
     },
     "execution_count": 62,
     "metadata": {},
     "output_type": "execute_result"
    }
   ],
   "source": [
    "x_reduced\n"
   ]
  },
  {
   "cell_type": "code",
   "execution_count": 63,
   "id": "ee1ed480",
   "metadata": {},
   "outputs": [
    {
     "data": {
      "text/plain": [
       "array([0, 0, 0, ..., 0, 0, 0], dtype=int64)"
      ]
     },
     "execution_count": 63,
     "metadata": {},
     "output_type": "execute_result"
    }
   ],
   "source": [
    "Y.to_numpy()"
   ]
  },
  {
   "cell_type": "code",
   "execution_count": 64,
   "id": "243e62b7",
   "metadata": {},
   "outputs": [],
   "source": [
    "from sklearn.model_selection import train_test_split\n",
    "from sklearn.linear_model import LogisticRegression\n",
    "from sklearn.neighbors import KNeighborsClassifier\n",
    "from sklearn.metrics import accuracy_score, precision_score, recall_score,f1_score"
   ]
  },
  {
   "cell_type": "code",
   "execution_count": 65,
   "id": "c9d95fc1",
   "metadata": {},
   "outputs": [
    {
     "name": "stdout",
     "output_type": "stream",
     "text": [
      "Requirement already satisfied: imblearn in c:\\users\\vinay\\anaconda3\\lib\\site-packages (0.0)\n",
      "Requirement already satisfied: imbalanced-learn in c:\\users\\vinay\\anaconda3\\lib\\site-packages (from imblearn) (0.9.1)\n",
      "Requirement already satisfied: threadpoolctl>=2.0.0 in c:\\users\\vinay\\anaconda3\\lib\\site-packages (from imbalanced-learn->imblearn) (2.2.0)\n",
      "Requirement already satisfied: joblib>=1.0.0 in c:\\users\\vinay\\anaconda3\\lib\\site-packages (from imbalanced-learn->imblearn) (1.1.0)\n",
      "Requirement already satisfied: scipy>=1.3.2 in c:\\users\\vinay\\anaconda3\\lib\\site-packages (from imbalanced-learn->imblearn) (1.7.3)\n",
      "Requirement already satisfied: numpy>=1.17.3 in c:\\users\\vinay\\anaconda3\\lib\\site-packages (from imbalanced-learn->imblearn) (1.21.5)\n",
      "Requirement already satisfied: scikit-learn>=1.1.0 in c:\\users\\vinay\\anaconda3\\lib\\site-packages (from imbalanced-learn->imblearn) (1.1.2)\n",
      "Note: you may need to restart the kernel to use updated packages.\n"
     ]
    }
   ],
   "source": [
    "pip install imblearn"
   ]
  },
  {
   "cell_type": "code",
   "execution_count": 66,
   "id": "c53c67f2",
   "metadata": {},
   "outputs": [],
   "source": [
    "# import model for imbalanced data set\n",
    "from sklearn.ensemble import GradientBoostingClassifier\n",
    "from sklearn.ensemble import RandomForestRegressor\n",
    "from sklearn.ensemble import RandomForestClassifier\n",
    "from sklearn.svm import SVC, LinearSVC\n",
    "from sklearn.ensemble import ExtraTreesClassifier\n",
    "from sklearn.feature_selection import SelectFromModel\n",
    "import xgboost as xgb"
   ]
  },
  {
   "cell_type": "code",
   "execution_count": 67,
   "id": "6a93bbbc",
   "metadata": {},
   "outputs": [
    {
     "name": "stdout",
     "output_type": "stream",
     "text": [
      "Requirement already satisfied: imbalanced-learn in c:\\users\\vinay\\anaconda3\\lib\\site-packages (0.9.1)\n",
      "Requirement already satisfied: threadpoolctl>=2.0.0 in c:\\users\\vinay\\anaconda3\\lib\\site-packages (from imbalanced-learn) (2.2.0)\n",
      "Requirement already satisfied: numpy>=1.17.3 in c:\\users\\vinay\\anaconda3\\lib\\site-packages (from imbalanced-learn) (1.21.5)\n",
      "Requirement already satisfied: joblib>=1.0.0 in c:\\users\\vinay\\anaconda3\\lib\\site-packages (from imbalanced-learn) (1.1.0)\n",
      "Requirement already satisfied: scipy>=1.3.2 in c:\\users\\vinay\\anaconda3\\lib\\site-packages (from imbalanced-learn) (1.7.3)\n",
      "Requirement already satisfied: scikit-learn>=1.1.0 in c:\\users\\vinay\\anaconda3\\lib\\site-packages (from imbalanced-learn) (1.1.2)\n",
      "0.9.1\n"
     ]
    }
   ],
   "source": [
    "from imblearn.under_sampling import RandomUnderSampler\n",
    "from imblearn.metrics import geometric_mean_score, make_index_balanced_accuracy, classification_report_imbalanced\n",
    "from sklearn.metrics import confusion_matrix\n",
    "\n",
    "!pip install imbalanced-learn\n",
    "# check version number\n",
    "import imblearn\n",
    "print(imblearn.__version__)"
   ]
  },
  {
   "cell_type": "code",
   "execution_count": 68,
   "id": "fdbf66b4",
   "metadata": {},
   "outputs": [
    {
     "data": {
      "text/plain": [
       "array([[20035,  3598],\n",
       "       [    3,    18]], dtype=int64)"
      ]
     },
     "execution_count": 68,
     "metadata": {},
     "output_type": "execute_result"
    }
   ],
   "source": [
    "# tested on RandomForestClassifier\n",
    "X_train, X_test, y_train, y_test = train_test_split(x_reduced, Y, train_size=0.8, \\\n",
    "                                                    random_state=42)\n",
    "\n",
    "\n",
    "rus = RandomUnderSampler(random_state=42)\n",
    "\n",
    "\n",
    "X_res, y_res = rus.fit_resample(X_train, y_train)\n",
    "X_res.shape\n",
    "X_res = pd.DataFrame(X_res)\n",
    "\n",
    "\n",
    "rf = RandomForestClassifier(n_estimators=5000, random_state=21)\n",
    "\n",
    "a = rf.fit(X_res,y_res)\n",
    "\n",
    "\n",
    "\n",
    "rf_test_pred = rf.predict(X_test)\n",
    "rf_test_cm = confusion_matrix(y_test, rf_test_pred)\n",
    "rf_test_cm"
   ]
  },
  {
   "cell_type": "code",
   "execution_count": 69,
   "id": "7dcb3653",
   "metadata": {},
   "outputs": [
    {
     "name": "stdout",
     "output_type": "stream",
     "text": [
      "                   pre       rec       spe        f1       geo       iba       sup\n",
      "\n",
      "          0       1.00      0.85      0.86      0.92      0.85      0.73     23633\n",
      "          1       0.00      0.86      0.85      0.01      0.85      0.73        21\n",
      "\n",
      "avg / total       1.00      0.85      0.86      0.92      0.85      0.73     23654\n",
      "\n"
     ]
    }
   ],
   "source": [
    "rf_test_cm\n",
    "\n",
    "accuracy_score(y_test, rf_test_pred)\n",
    "\n",
    "print(classification_report_imbalanced(y_test,rf_test_pred))\n"
   ]
  },
  {
   "cell_type": "markdown",
   "id": "aee5ee77",
   "metadata": {},
   "source": [
    "- pre is precision, which is a measure of result relevancy;\n",
    "- rec is recall, which is the same as sensitivity. Recall is a measure of how many truly relevant results are returned;\n",
    "- spe is specificity;\n",
    "- f1 is the harmonic average of the precision and recall;\n",
    "- geo(Matthews correlation coefficient) is the geometric mean of specificity and sensitivity;\n",
    "- iba is the index of imbalanced accuracy"
   ]
  },
  {
   "cell_type": "markdown",
   "id": "f2019057",
   "metadata": {},
   "source": [
    "# MOdel Training"
   ]
  },
  {
   "cell_type": "code",
   "execution_count": 70,
   "id": "7b79c60d",
   "metadata": {},
   "outputs": [],
   "source": [
    "log=LogisticRegression()\n",
    "k=KNeighborsClassifier()\n",
    "gbc =GradientBoostingClassifier()\n",
    "rgr = RandomForestRegressor(n_estimators=100)\n",
    "svc = SVC()\n",
    "rfc = RandomForestClassifier(n_estimators=10)\n",
    "xg_reg = xgb.XGBRegressor(objective ='reg:linear', colsample_bytree = 0.3, learning_rate = 0.1,\n",
    "                max_depth = 5, alpha = 10, n_estimators = 10)\n",
    "algorithms=[k,log,gbc,rgr,svc,rfc,xg_reg]\n",
    "names=['KNeighborsClassifier','Logistic','GradientBoost','RandomForest','SVC','RandomForestCl','xgboost']"
   ]
  },
  {
   "cell_type": "code",
   "execution_count": 71,
   "id": "5bd5f8bc",
   "metadata": {},
   "outputs": [],
   "source": [
    "from sklearn.metrics import accuracy_score, confusion_matrix, f1_score"
   ]
  },
  {
   "cell_type": "code",
   "execution_count": 72,
   "id": "8dba1a7f",
   "metadata": {},
   "outputs": [
    {
     "data": {
      "text/plain": [
       "(numpy.ndarray, pandas.core.series.Series)"
      ]
     },
     "execution_count": 72,
     "metadata": {},
     "output_type": "execute_result"
    }
   ],
   "source": [
    "type(x_reduced),type(Y)"
   ]
  },
  {
   "cell_type": "code",
   "execution_count": 74,
   "id": "0d6d9f4f",
   "metadata": {},
   "outputs": [
    {
     "name": "stdout",
     "output_type": "stream",
     "text": [
      "  Building wheel for htmlmin (setup.py): finished with status 'done'\n",
      "  Created wheel for htmlmin: filename=htmlmin-0.1.12-py3-none-any.whl size=27096 sha256=c7b712e17f93216e65f05ed73ba93a503762a633b1720eecf8a7a94391d45d24\n",
      "  Stored in directory: c:\\users\\vinay\\appdata\\local\\pip\\cache\\wheels\\1d\\05\\04\\c6d7d3b66539d9e659ac6dfe81e2d0fd4c1a8316cc5a403300\n",
      "  Building wheel for databricks-cli (setup.py): started\n",
      "  Building wheel for databricks-cli (setup.py): finished with status 'done'\n",
      "  Created wheel for databricks-cli: filename=databricks_cli-0.17.3-py3-none-any.whl size=139099 sha256=e4e0c19ecca9517ac75f74dd63d6366f1a7142f10b13e735c9270944739c8ade\n",
      "  Stored in directory: c:\\users\\vinay\\appdata\\local\\pip\\cache\\wheels\\7b\\ef\\c5\\85718fa9e66dec117e42d8b4d7b8a2e40ebdec17232935615f\n",
      "  Building wheel for pyLDAvis (PEP 517): started\n",
      "  Building wheel for pyLDAvis (PEP 517): finished with status 'done'\n",
      "  Created wheel for pyLDAvis: filename=pyLDAvis-3.3.1-py2.py3-none-any.whl size=136882 sha256=6aa3bbb80ce4c7e6b1cc0929f076bcb4d736e68203ab353c35a660de2668f1e0\n",
      "  Stored in directory: c:\\users\\vinay\\appdata\\local\\pip\\cache\\wheels\\57\\a4\\86\\d10c6c2e0bf149fbc0afb0aa5a6528ac35b30a133a0270c477\n",
      "  Building wheel for pyod (setup.py): started\n",
      "  Building wheel for pyod (setup.py): finished with status 'done'\n",
      "  Created wheel for pyod: filename=pyod-1.0.5-py3-none-any.whl size=170258 sha256=84bee7525298399c8f9dca74df0942229083d348641946d64ddedb8b101183d1\n",
      "  Stored in directory: c:\\users\\vinay\\appdata\\local\\pip\\cache\\wheels\\1a\\e6\\6a\\75d8ee3fd5ad45e84f2d45e98e2212e419dc7a6edfad950516\n",
      "  Building wheel for umap-learn (setup.py): started\n",
      "  Building wheel for umap-learn (setup.py): finished with status 'done'\n",
      "  Created wheel for umap-learn: filename=umap_learn-0.5.3-py3-none-any.whl size=82829 sha256=e28723de87e81f848bf7b4c46068fbab67522aa39979dc97170a5af627943bb2\n",
      "  Stored in directory: c:\\users\\vinay\\appdata\\local\\pip\\cache\\wheels\\f4\\3e\\1c\\596d0a463d17475af648688443fa4846fef624d1390339e7e9\n",
      "  Building wheel for pynndescent (setup.py): started\n",
      "  Building wheel for pynndescent (setup.py): finished with status 'done'\n",
      "  Created wheel for pynndescent: filename=pynndescent-0.5.7-py3-none-any.whl size=54286 sha256=0469486a6f947d1fa7e663741761665f202f9d9fc8d6ebd7fb5634a0dea816f7\n",
      "  Stored in directory: c:\\users\\vinay\\appdata\\local\\pip\\cache\\wheels\\5b\\f5\\6e\\aac11d69fe2115d9ac871d6c148b361f0d3f8a35ed7354fa03\n",
      "Successfully built cufflinks htmlmin databricks-cli pyLDAvis pyod umap-learn pynndescent\n",
      "Installing collected packages: pywin32, catalogue, tangled-up-in-unicode, srsly, smmap, pydantic, murmurhash, multimethod, cymem, wasabi, visions, typer, smart-open, preshed, oauthlib, Mako, imagehash, gitdb, confection, blis, waitress, thinc, sqlparse, spacy-loggers, spacy-legacy, querystring-parser, pynndescent, prometheus-flask-exporter, phik, pathy, missingno, langcodes, htmlmin, graphviz, gitpython, funcy, docker, databricks-cli, colorlover, alembic, yellowbrick, wordcloud, umap-learn, textblob, spacy, scikit-plot, pyod, pyLDAvis, pandas-profiling, mlxtend, mlflow, lightgbm, kmodes, cufflinks, catboost, pycaret\n",
      "  Attempting uninstall: pywin32\n",
      "    Found existing installation: pywin32 302\n",
      "    Uninstalling pywin32-302:\n"
     ]
    },
    {
     "name": "stderr",
     "output_type": "stream",
     "text": [
      "\n",
      "      libraries lapack not found in ['C:\\\\Users\\\\Vinay\\\\anaconda3\\\\lib', 'C:\\\\', 'C:\\\\Users\\\\Vinay\\\\anaconda3\\\\libs']\n",
      "      NOT AVAILABLE\n",
      "  \n",
      "    C:\\Users\\Vinay\\AppData\\Local\\Temp\\pip-install-c2k2_fgu\\numpy_ad8dc748252744eb8b552b52a190c6b3\\numpy\\distutils\\system_info.py:1712: UserWarning:\n",
      "        Lapack (http://www.netlib.org/lapack/) libraries not found.\n",
      "        Directories to search for the libraries can be specified in the\n",
      "        numpy/distutils/site.cfg file (section [lapack]) or by setting\n",
      "        the LAPACK environment variable.\n",
      "      if getattr(self, '_calc_info_{}'.format(lapack))():\n",
      "    lapack_src_info:\n",
      "      NOT AVAILABLE\n",
      "  \n",
      "    C:\\Users\\Vinay\\AppData\\Local\\Temp\\pip-install-c2k2_fgu\\numpy_ad8dc748252744eb8b552b52a190c6b3\\numpy\\distutils\\system_info.py:1712: UserWarning:\n",
      "        Lapack (http://www.netlib.org/lapack/) sources not found.\n",
      "        Directories to search for the sources can be specified in the\n",
      "        numpy/distutils/site.cfg file (section [lapack_src]) or by setting\n",
      "        the LAPACK_SRC environment variable.\n",
      "      if getattr(self, '_calc_info_{}'.format(lapack))():\n",
      "      NOT AVAILABLE\n",
      "  \n",
      "    C:\\Users\\Vinay\\anaconda3\\lib\\site-packages\\setuptools\\_distutils\\dist.py:275: UserWarning: Unknown distribution option: 'define_macros'\n",
      "      warnings.warn(msg)\n",
      "    running bdist_wheel\n",
      "    running build\n",
      "    running config_cc\n",
      "    unifing config_cc, config, build_clib, build_ext, build commands --compiler options\n",
      "    running config_fc\n",
      "    unifing config_fc, config, build_clib, build_ext, build commands --fcompiler options\n",
      "    running build_src\n",
      "    build_src\n",
      "    building py_modules sources\n",
      "    creating build\n",
      "    creating build\\src.win-amd64-3.9\n",
      "    creating build\\src.win-amd64-3.9\\numpy\n",
      "    creating build\\src.win-amd64-3.9\\numpy\\distutils\n",
      "    building library \"npymath\" sources\n",
      "    No module named 'numpy.distutils._msvccompiler' in numpy.distutils; trying from distutils\n",
      "    error: Microsoft Visual C++ 14.0 or greater is required. Get it with \"Microsoft C++ Build Tools\": https://visualstudio.microsoft.com/visual-cpp-build-tools/\n",
      "    ----------------------------------------\n",
      "    ERROR: Failed building wheel for numpy\n",
      "    Running setup.py clean for numpy\n",
      "    ERROR: Command errored out with exit status 1:\n",
      "     command: 'C:\\Users\\Vinay\\anaconda3\\python.exe' -u -c 'import io, os, sys, setuptools, tokenize; sys.argv[0] = '\"'\"'C:\\\\Users\\\\Vinay\\\\AppData\\\\Local\\\\Temp\\\\pip-install-c2k2_fgu\\\\numpy_ad8dc748252744eb8b552b52a190c6b3\\\\setup.py'\"'\"'; __file__='\"'\"'C:\\\\Users\\\\Vinay\\\\AppData\\\\Local\\\\Temp\\\\pip-install-c2k2_fgu\\\\numpy_ad8dc748252744eb8b552b52a190c6b3\\\\setup.py'\"'\"';f = getattr(tokenize, '\"'\"'open'\"'\"', open)(__file__) if os.path.exists(__file__) else io.StringIO('\"'\"'from setuptools import setup; setup()'\"'\"');code = f.read().replace('\"'\"'\\r\\n'\"'\"', '\"'\"'\\n'\"'\"');f.close();exec(compile(code, __file__, '\"'\"'exec'\"'\"'))' clean --all\n",
      "         cwd: C:\\Users\\Vinay\\AppData\\Local\\Temp\\pip-install-c2k2_fgu\\numpy_ad8dc748252744eb8b552b52a190c6b3\n",
      "    Complete output (10 lines):\n",
      "    Running from numpy source directory.\n",
      "  \n",
      "    `setup.py clean` is not supported, use one of the following instead:\n",
      "  \n",
      "      - `git clean -xdf` (cleans all files)\n",
      "      - `git clean -Xdf` (cleans all versioned files, doesn't touch\n",
      "                          files that aren't checked into the git repo)\n",
      "  \n",
      "    Add `--force` to your command to use it anyway if you must (unsupported).\n",
      "  \n",
      "    ----------------------------------------\n",
      "    ERROR: Failed cleaning build dir for numpy\n",
      "  Failed to build numpy\n",
      "  Installing collected packages: numpy, wheel, setuptools, scipy, Cython\n",
      "      Running setup.py install for numpy: started\n",
      "      Running setup.py install for numpy: finished with status 'error'\n",
      "      ERROR: Command errored out with exit status 1:\n",
      "       command: 'C:\\Users\\Vinay\\anaconda3\\python.exe' -u -c 'import io, os, sys, setuptools, tokenize; sys.argv[0] = '\"'\"'C:\\\\Users\\\\Vinay\\\\AppData\\\\Local\\\\Temp\\\\pip-install-c2k2_fgu\\\\numpy_ad8dc748252744eb8b552b52a190c6b3\\\\setup.py'\"'\"'; __file__='\"'\"'C:\\\\Users\\\\Vinay\\\\AppData\\\\Local\\\\Temp\\\\pip-install-c2k2_fgu\\\\numpy_ad8dc748252744eb8b552b52a190c6b3\\\\setup.py'\"'\"';f = getattr(tokenize, '\"'\"'open'\"'\"', open)(__file__) if os.path.exists(__file__) else io.StringIO('\"'\"'from setuptools import setup; setup()'\"'\"');code = f.read().replace('\"'\"'\\r\\n'\"'\"', '\"'\"'\\n'\"'\"');f.close();exec(compile(code, __file__, '\"'\"'exec'\"'\"'))' install --record 'C:\\Users\\Vinay\\AppData\\Local\\Temp\\pip-record-ysnokjaj\\install-record.txt' --single-version-externally-managed --prefix 'C:\\Users\\Vinay\\AppData\\Local\\Temp\\pip-build-env-v9yq3p_2\\overlay' --compile --install-headers 'C:\\Users\\Vinay\\AppData\\Local\\Temp\\pip-build-env-v9yq3p_2\\overlay\\Include\\numpy'\n",
      "           cwd: C:\\Users\\Vinay\\AppData\\Local\\Temp\\pip-install-c2k2_fgu\\numpy_ad8dc748252744eb8b552b52a190c6b3\\\n",
      "      Complete output (275 lines):\n",
      "      Running from numpy source directory.\n",
      "  \n",
      "      Note: if you need reliable uninstall behavior, then install\n",
      "      with pip instead of using `setup.py install`:\n",
      "  \n",
      "        - `pip install .`       (from a git repo or downloaded source\n",
      "                                 release)\n",
      "        - `pip install numpy`   (last NumPy release on PyPi)\n",
      "  \n",
      "  \n",
      "      blas_opt_info:\n",
      "      blas_mkl_info:\n",
      "      No module named 'numpy.distutils._msvccompiler' in numpy.distutils; trying from distutils\n",
      "      customize MSVCCompiler\n",
      "        libraries mkl_rt not found in ['C:\\\\Users\\\\Vinay\\\\anaconda3\\\\lib', 'C:\\\\', 'C:\\\\Users\\\\Vinay\\\\anaconda3\\\\libs']\n",
      "        NOT AVAILABLE\n",
      "  \n",
      "      blis_info:\n",
      "      No module named 'numpy.distutils._msvccompiler' in numpy.distutils; trying from distutils\n",
      "      customize MSVCCompiler\n",
      "        libraries blis not found in ['C:\\\\Users\\\\Vinay\\\\anaconda3\\\\lib', 'C:\\\\', 'C:\\\\Users\\\\Vinay\\\\anaconda3\\\\libs']\n",
      "        NOT AVAILABLE\n",
      "  \n",
      "      openblas_info:\n",
      "      No module named 'numpy.distutils._msvccompiler' in numpy.distutils; trying from distutils\n",
      "      customize MSVCCompiler\n",
      "      No module named 'numpy.distutils._msvccompiler' in numpy.distutils; trying from distutils\n",
      "      customize MSVCCompiler\n",
      "        libraries openblas not found in ['C:\\\\Users\\\\Vinay\\\\anaconda3\\\\lib', 'C:\\\\', 'C:\\\\Users\\\\Vinay\\\\anaconda3\\\\libs']\n",
      "      get_default_fcompiler: matching types: '['gnu', 'intelv', 'absoft', 'compaqv', 'intelev', 'gnu95', 'g95', 'intelvem', 'intelem', 'flang']'\n",
      "      customize GnuFCompiler\n",
      "      Could not locate executable g77\n",
      "      Could not locate executable f77\n",
      "      customize IntelVisualFCompiler\n",
      "      Could not locate executable ifort\n",
      "      Could not locate executable ifl\n",
      "      customize AbsoftFCompiler\n",
      "      Could not locate executable f90\n",
      "      customize CompaqVisualFCompiler\n",
      "      Could not locate executable DF\n",
      "      customize IntelItaniumVisualFCompiler\n",
      "      Could not locate executable efl\n",
      "      customize Gnu95FCompiler\n",
      "      Could not locate executable gfortran\n",
      "      Could not locate executable f95\n",
      "      customize G95FCompiler\n",
      "      Could not locate executable g95\n",
      "      customize IntelEM64VisualFCompiler\n",
      "      customize IntelEM64TFCompiler\n",
      "      Could not locate executable efort\n",
      "      Could not locate executable efc\n",
      "      customize PGroupFlangCompiler\n",
      "      Could not locate executable flang\n",
      "      don't know how to compile Fortran code on platform 'nt'\n",
      "        NOT AVAILABLE\n",
      "  \n",
      "      atlas_3_10_blas_threads_info:\n",
      "      Setting PTATLAS=ATLAS\n",
      "      No module named 'numpy.distutils._msvccompiler' in numpy.distutils; trying from distutils\n",
      "      customize MSVCCompiler\n",
      "        libraries tatlas not found in ['C:\\\\Users\\\\Vinay\\\\anaconda3\\\\lib', 'C:\\\\', 'C:\\\\Users\\\\Vinay\\\\anaconda3\\\\libs']\n",
      "        NOT AVAILABLE\n",
      "  \n",
      "      atlas_3_10_blas_info:\n",
      "      No module named 'numpy.distutils._msvccompiler' in numpy.distutils; trying from distutils\n",
      "      customize MSVCCompiler\n",
      "        libraries satlas not found in ['C:\\\\Users\\\\Vinay\\\\anaconda3\\\\lib', 'C:\\\\', 'C:\\\\Users\\\\Vinay\\\\anaconda3\\\\libs']\n",
      "        NOT AVAILABLE\n",
      "  \n",
      "      atlas_blas_threads_info:\n",
      "      Setting PTATLAS=ATLAS\n",
      "      No module named 'numpy.distutils._msvccompiler' in numpy.distutils; trying from distutils\n",
      "      customize MSVCCompiler\n",
      "        libraries ptf77blas,ptcblas,atlas not found in ['C:\\\\Users\\\\Vinay\\\\anaconda3\\\\lib', 'C:\\\\', 'C:\\\\Users\\\\Vinay\\\\anaconda3\\\\libs']\n",
      "        NOT AVAILABLE\n",
      "  \n",
      "      atlas_blas_info:\n",
      "      No module named 'numpy.distutils._msvccompiler' in numpy.distutils; trying from distutils\n",
      "      customize MSVCCompiler\n",
      "        libraries f77blas,cblas,atlas not found in ['C:\\\\Users\\\\Vinay\\\\anaconda3\\\\lib', 'C:\\\\', 'C:\\\\Users\\\\Vinay\\\\anaconda3\\\\libs']\n",
      "        NOT AVAILABLE\n",
      "  \n",
      "      accelerate_info:\n",
      "        NOT AVAILABLE\n",
      "  \n",
      "      C:\\Users\\Vinay\\AppData\\Local\\Temp\\pip-install-c2k2_fgu\\numpy_ad8dc748252744eb8b552b52a190c6b3\\numpy\\distutils\\system_info.py:690: UserWarning:\n",
      "          Optimized (vendor) Blas libraries are not found.\n",
      "          Falls back to netlib Blas library which has worse performance.\n",
      "          A better performance should be easily gained by switching\n",
      "          Blas library.\n",
      "        self.calc_info()\n",
      "      blas_info:\n",
      "      No module named 'numpy.distutils._msvccompiler' in numpy.distutils; trying from distutils\n",
      "      customize MSVCCompiler\n",
      "        libraries blas not found in ['C:\\\\Users\\\\Vinay\\\\anaconda3\\\\lib', 'C:\\\\', 'C:\\\\Users\\\\Vinay\\\\anaconda3\\\\libs']\n",
      "        NOT AVAILABLE\n",
      "  \n",
      "      C:\\Users\\Vinay\\AppData\\Local\\Temp\\pip-install-c2k2_fgu\\numpy_ad8dc748252744eb8b552b52a190c6b3\\numpy\\distutils\\system_info.py:690: UserWarning:\n",
      "          Blas (http://www.netlib.org/blas/) libraries not found.\n",
      "          Directories to search for the libraries can be specified in the\n",
      "          numpy/distutils/site.cfg file (section [blas]) or by setting\n",
      "          the BLAS environment variable.\n",
      "        self.calc_info()\n",
      "      blas_src_info:\n",
      "        NOT AVAILABLE\n",
      "  \n",
      "      C:\\Users\\Vinay\\AppData\\Local\\Temp\\pip-install-c2k2_fgu\\numpy_ad8dc748252744eb8b552b52a190c6b3\\numpy\\distutils\\system_info.py:690: UserWarning:\n",
      "          Blas (http://www.netlib.org/blas/) sources not found.\n",
      "          Directories to search for the sources can be specified in the\n",
      "          numpy/distutils/site.cfg file (section [blas_src]) or by setting\n",
      "          the BLAS_SRC environment variable.\n",
      "        self.calc_info()\n",
      "        NOT AVAILABLE\n",
      "  \n",
      "      'svnversion' is not recognized as an internal or external command,\n",
      "      operable program or batch file.\n",
      "      non-existing path in 'numpy\\\\distutils': 'site.cfg'\n",
      "      lapack_opt_info:\n",
      "      lapack_mkl_info:\n",
      "      No module named 'numpy.distutils._msvccompiler' in numpy.distutils; trying from distutils\n",
      "      customize MSVCCompiler\n",
      "        libraries mkl_rt not found in ['C:\\\\Users\\\\Vinay\\\\anaconda3\\\\lib', 'C:\\\\', 'C:\\\\Users\\\\Vinay\\\\anaconda3\\\\libs']\n",
      "        NOT AVAILABLE\n",
      "  \n",
      "      openblas_lapack_info:\n",
      "      No module named 'numpy.distutils._msvccompiler' in numpy.distutils; trying from distutils\n",
      "      customize MSVCCompiler\n",
      "      No module named 'numpy.distutils._msvccompiler' in numpy.distutils; trying from distutils\n",
      "      customize MSVCCompiler\n",
      "        libraries openblas not found in ['C:\\\\Users\\\\Vinay\\\\anaconda3\\\\lib', 'C:\\\\', 'C:\\\\Users\\\\Vinay\\\\anaconda3\\\\libs']\n",
      "        NOT AVAILABLE\n",
      "  \n",
      "      openblas_clapack_info:\n",
      "      No module named 'numpy.distutils._msvccompiler' in numpy.distutils; trying from distutils\n",
      "      customize MSVCCompiler\n",
      "      No module named 'numpy.distutils._msvccompiler' in numpy.distutils; trying from distutils\n",
      "      customize MSVCCompiler\n",
      "        libraries openblas,lapack not found in ['C:\\\\Users\\\\Vinay\\\\anaconda3\\\\lib', 'C:\\\\', 'C:\\\\Users\\\\Vinay\\\\anaconda3\\\\libs']\n",
      "        NOT AVAILABLE\n",
      "  \n",
      "      flame_info:\n",
      "      No module named 'numpy.distutils._msvccompiler' in numpy.distutils; trying from distutils\n",
      "      customize MSVCCompiler\n",
      "        libraries flame not found in ['C:\\\\Users\\\\Vinay\\\\anaconda3\\\\lib', 'C:\\\\', 'C:\\\\Users\\\\Vinay\\\\anaconda3\\\\libs']\n",
      "        NOT AVAILABLE\n",
      "  \n",
      "      atlas_3_10_threads_info:\n",
      "      Setting PTATLAS=ATLAS\n",
      "      No module named 'numpy.distutils._msvccompiler' in numpy.distutils; trying from distutils\n",
      "      customize MSVCCompiler\n",
      "        libraries lapack_atlas not found in C:\\Users\\Vinay\\anaconda3\\lib\n",
      "      No module named 'numpy.distutils._msvccompiler' in numpy.distutils; trying from distutils\n",
      "      customize MSVCCompiler\n",
      "        libraries tatlas,tatlas not found in C:\\Users\\Vinay\\anaconda3\\lib\n",
      "      No module named 'numpy.distutils._msvccompiler' in numpy.distutils; trying from distutils\n",
      "      customize MSVCCompiler\n",
      "        libraries lapack_atlas not found in C:\\\n",
      "      No module named 'numpy.distutils._msvccompiler' in numpy.distutils; trying from distutils\n",
      "      customize MSVCCompiler\n",
      "        libraries tatlas,tatlas not found in C:\\\n",
      "      No module named 'numpy.distutils._msvccompiler' in numpy.distutils; trying from distutils\n",
      "      customize MSVCCompiler\n",
      "        libraries lapack_atlas not found in C:\\Users\\Vinay\\anaconda3\\libs\n",
      "      No module named 'numpy.distutils._msvccompiler' in numpy.distutils; trying from distutils\n",
      "      customize MSVCCompiler\n",
      "        libraries tatlas,tatlas not found in C:\\Users\\Vinay\\anaconda3\\libs\n",
      "      <class 'numpy.distutils.system_info.atlas_3_10_threads_info'>\n",
      "        NOT AVAILABLE\n",
      "  \n",
      "      atlas_3_10_info:\n",
      "      No module named 'numpy.distutils._msvccompiler' in numpy.distutils; trying from distutils\n",
      "      customize MSVCCompiler\n",
      "        libraries lapack_atlas not found in C:\\Users\\Vinay\\anaconda3\\lib\n",
      "      No module named 'numpy.distutils._msvccompiler' in numpy.distutils; trying from distutils\n",
      "      customize MSVCCompiler\n",
      "        libraries satlas,satlas not found in C:\\Users\\Vinay\\anaconda3\\lib\n",
      "      No module named 'numpy.distutils._msvccompiler' in numpy.distutils; trying from distutils\n",
      "      customize MSVCCompiler\n",
      "        libraries lapack_atlas not found in C:\\\n",
      "      No module named 'numpy.distutils._msvccompiler' in numpy.distutils; trying from distutils\n",
      "      customize MSVCCompiler\n",
      "        libraries satlas,satlas not found in C:\\\n",
      "      No module named 'numpy.distutils._msvccompiler' in numpy.distutils; trying from distutils\n",
      "      customize MSVCCompiler\n",
      "        libraries lapack_atlas not found in C:\\Users\\Vinay\\anaconda3\\libs\n",
      "      No module named 'numpy.distutils._msvccompiler' in numpy.distutils; trying from distutils\n",
      "      customize MSVCCompiler\n",
      "        libraries satlas,satlas not found in C:\\Users\\Vinay\\anaconda3\\libs\n",
      "      <class 'numpy.distutils.system_info.atlas_3_10_info'>\n",
      "        NOT AVAILABLE\n",
      "  \n",
      "      atlas_threads_info:\n",
      "      Setting PTATLAS=ATLAS\n",
      "      No module named 'numpy.distutils._msvccompiler' in numpy.distutils; trying from distutils\n",
      "      customize MSVCCompiler\n",
      "        libraries lapack_atlas not found in C:\\Users\\Vinay\\anaconda3\\lib\n",
      "      No module named 'numpy.distutils._msvccompiler' in numpy.distutils; trying from distutils\n",
      "      customize MSVCCompiler\n",
      "        libraries ptf77blas,ptcblas,atlas not found in C:\\Users\\Vinay\\anaconda3\\lib\n",
      "      No module named 'numpy.distutils._msvccompiler' in numpy.distutils; trying from distutils\n",
      "      customize MSVCCompiler\n",
      "        libraries lapack_atlas not found in C:\\\n",
      "      No module named 'numpy.distutils._msvccompiler' in numpy.distutils; trying from distutils\n",
      "      customize MSVCCompiler\n",
      "        libraries ptf77blas,ptcblas,atlas not found in C:\\\n",
      "      No module named 'numpy.distutils._msvccompiler' in numpy.distutils; trying from distutils\n",
      "      customize MSVCCompiler\n",
      "        libraries lapack_atlas not found in C:\\Users\\Vinay\\anaconda3\\libs\n",
      "      No module named 'numpy.distutils._msvccompiler' in numpy.distutils; trying from distutils\n",
      "      customize MSVCCompiler\n",
      "        libraries ptf77blas,ptcblas,atlas not found in C:\\Users\\Vinay\\anaconda3\\libs\n",
      "      <class 'numpy.distutils.system_info.atlas_threads_info'>\n",
      "        NOT AVAILABLE\n",
      "  \n",
      "      atlas_info:\n",
      "      No module named 'numpy.distutils._msvccompiler' in numpy.distutils; trying from distutils\n",
      "      customize MSVCCompiler\n",
      "        libraries lapack_atlas not found in C:\\Users\\Vinay\\anaconda3\\lib\n",
      "      No module named 'numpy.distutils._msvccompiler' in numpy.distutils; trying from distutils\n",
      "      customize MSVCCompiler\n",
      "        libraries f77blas,cblas,atlas not found in C:\\Users\\Vinay\\anaconda3\\lib\n",
      "      No module named 'numpy.distutils._msvccompiler' in numpy.distutils; trying from distutils\n",
      "      customize MSVCCompiler\n",
      "        libraries lapack_atlas not found in C:\\\n",
      "      No module named 'numpy.distutils._msvccompiler' in numpy.distutils; trying from distutils\n",
      "      customize MSVCCompiler\n",
      "        libraries f77blas,cblas,atlas not found in C:\\\n",
      "      No module named 'numpy.distutils._msvccompiler' in numpy.distutils; trying from distutils\n",
      "      customize MSVCCompiler\n",
      "        libraries lapack_atlas not found in C:\\Users\\Vinay\\anaconda3\\libs\n",
      "      No module named 'numpy.distutils._msvccompiler' in numpy.distutils; trying from distutils\n",
      "      customize MSVCCompiler\n",
      "        libraries f77blas,cblas,atlas not found in C:\\Users\\Vinay\\anaconda3\\libs\n",
      "      <class 'numpy.distutils.system_info.atlas_info'>\n",
      "        NOT AVAILABLE\n",
      "  \n",
      "      lapack_info:\n",
      "      No module named 'numpy.distutils._msvccompiler' in numpy.distutils; trying from distutils\n",
      "      customize MSVCCompiler\n",
      "        libraries lapack not found in ['C:\\\\Users\\\\Vinay\\\\anaconda3\\\\lib', 'C:\\\\', 'C:\\\\Users\\\\Vinay\\\\anaconda3\\\\libs']\n",
      "        NOT AVAILABLE\n",
      "  \n",
      "      C:\\Users\\Vinay\\AppData\\Local\\Temp\\pip-install-c2k2_fgu\\numpy_ad8dc748252744eb8b552b52a190c6b3\\numpy\\distutils\\system_info.py:1712: UserWarning:\n",
      "          Lapack (http://www.netlib.org/lapack/) libraries not found.\n",
      "          Directories to search for the libraries can be specified in the\n",
      "          numpy/distutils/site.cfg file (section [lapack]) or by setting\n",
      "          the LAPACK environment variable.\n",
      "        if getattr(self, '_calc_info_{}'.format(lapack))():\n",
      "      lapack_src_info:\n",
      "        NOT AVAILABLE\n",
      "  \n",
      "      C:\\Users\\Vinay\\AppData\\Local\\Temp\\pip-install-c2k2_fgu\\numpy_ad8dc748252744eb8b552b52a190c6b3\\numpy\\distutils\\system_info.py:1712: UserWarning:\n",
      "          Lapack (http://www.netlib.org/lapack/) sources not found.\n",
      "          Directories to search for the sources can be specified in the\n",
      "          numpy/distutils/site.cfg file (section [lapack_src]) or by setting\n",
      "          the LAPACK_SRC environment variable.\n",
      "        if getattr(self, '_calc_info_{}'.format(lapack))():\n",
      "        NOT AVAILABLE\n",
      "  \n",
      "      C:\\Users\\Vinay\\anaconda3\\lib\\site-packages\\setuptools\\_distutils\\dist.py:275: UserWarning: Unknown distribution option: 'define_macros'\n",
      "        warnings.warn(msg)\n",
      "      running install\n",
      "      C:\\Users\\Vinay\\anaconda3\\lib\\site-packages\\setuptools\\command\\install.py:34: SetuptoolsDeprecationWarning: setup.py install is deprecated. Use build and pip and other standards-based tools.\n",
      "        warnings.warn(\n",
      "      running build\n",
      "      running config_cc\n",
      "      unifing config_cc, config, build_clib, build_ext, build commands --compiler options\n",
      "      running config_fc\n",
      "      unifing config_fc, config, build_clib, build_ext, build commands --fcompiler options\n",
      "      running build_src\n",
      "      build_src\n",
      "      building py_modules sources\n",
      "      building library \"npymath\" sources\n",
      "      No module named 'numpy.distutils._msvccompiler' in numpy.distutils; trying from distutils\n",
      "      error: Microsoft Visual C++ 14.0 or greater is required. Get it with \"Microsoft C++ Build Tools\": https://visualstudio.microsoft.com/visual-cpp-build-tools/\n",
      "      ----------------------------------------\n",
      "  ERROR: Command errored out with exit status 1: 'C:\\Users\\Vinay\\anaconda3\\python.exe' -u -c 'import io, os, sys, setuptools, tokenize; sys.argv[0] = '\"'\"'C:\\\\Users\\\\Vinay\\\\AppData\\\\Local\\\\Temp\\\\pip-install-c2k2_fgu\\\\numpy_ad8dc748252744eb8b552b52a190c6b3\\\\setup.py'\"'\"'; __file__='\"'\"'C:\\\\Users\\\\Vinay\\\\AppData\\\\Local\\\\Temp\\\\pip-install-c2k2_fgu\\\\numpy_ad8dc748252744eb8b552b52a190c6b3\\\\setup.py'\"'\"';f = getattr(tokenize, '\"'\"'open'\"'\"', open)(__file__) if os.path.exists(__file__) else io.StringIO('\"'\"'from setuptools import setup; setup()'\"'\"');code = f.read().replace('\"'\"'\\r\\n'\"'\"', '\"'\"'\\n'\"'\"');f.close();exec(compile(code, __file__, '\"'\"'exec'\"'\"'))' install --record 'C:\\Users\\Vinay\\AppData\\Local\\Temp\\pip-record-ysnokjaj\\install-record.txt' --single-version-externally-managed --prefix 'C:\\Users\\Vinay\\AppData\\Local\\Temp\\pip-build-env-v9yq3p_2\\overlay' --compile --install-headers 'C:\\Users\\Vinay\\AppData\\Local\\Temp\\pip-build-env-v9yq3p_2\\overlay\\Include\\numpy' Check the logs for full command output.\n",
      "  ----------------------------------------\n",
      "WARNING: Discarding https://files.pythonhosted.org/packages/aa/f6/75297be19f48b7a8c2577753a3a700f98fc4db49d0e5ed3820dd8dee43d4/scikit-learn-0.23.2.tar.gz#sha256=20766f515e6cd6f954554387dfae705d93c7b544ec0e6c6a5d8e006f6f7ef480 (from https://pypi.org/simple/scikit-learn/) (requires-python:>=3.6). Command errored out with exit status 1: 'C:\\Users\\Vinay\\anaconda3\\python.exe' 'C:\\Users\\Vinay\\AppData\\Local\\Temp\\pip-standalone-pip-rjz5x7la\\__env_pip__.zip\\pip' install --ignore-installed --no-user --prefix 'C:\\Users\\Vinay\\AppData\\Local\\Temp\\pip-build-env-v9yq3p_2\\overlay' --no-warn-script-location --no-binary :none: --only-binary :none: -i https://pypi.org/simple -- setuptools wheel 'Cython>=0.28.5' 'numpy==1.13.3; python_version=='\"'\"'3.6'\"'\"' and platform_system!='\"'\"'AIX'\"'\"' and platform_python_implementation == '\"'\"'CPython'\"'\"'' 'numpy==1.14.0; python_version=='\"'\"'3.6'\"'\"' and platform_system!='\"'\"'AIX'\"'\"' and platform_python_implementation != '\"'\"'CPython'\"'\"'' 'numpy==1.14.5; python_version=='\"'\"'3.7'\"'\"' and platform_system!='\"'\"'AIX'\"'\"'' 'numpy==1.17.3; python_version>='\"'\"'3.8'\"'\"' and platform_system!='\"'\"'AIX'\"'\"'' 'numpy==1.16.0; python_version=='\"'\"'3.6'\"'\"' and platform_system=='\"'\"'AIX'\"'\"'' 'numpy==1.16.0; python_version=='\"'\"'3.7'\"'\"' and platform_system=='\"'\"'AIX'\"'\"'' 'numpy==1.17.3; python_version>='\"'\"'3.8'\"'\"' and platform_system=='\"'\"'AIX'\"'\"'' 'scipy>=0.19.1' Check the logs for full command output.\n",
      "ERROR: Could not install packages due to an OSError: [WinError 32] The process cannot access the file because it is being used by another process: 'C:\\\\Users\\\\Vinay\\\\anaconda3\\\\Lib\\\\site-packages\\\\~in32com'\n",
      "Consider using the `--user` option or check the permissions.\n",
      "\n"
     ]
    },
    {
     "name": "stdout",
     "output_type": "stream",
     "text": [
      "Collecting pycaret\n",
      "  Using cached pycaret-2.3.10-py3-none-any.whl (320 kB)\n",
      "Collecting scipy<=1.5.4\n",
      "  Using cached scipy-1.5.4-cp39-cp39-win_amd64.whl (31.4 MB)\n",
      "Collecting spacy<2.4.0\n",
      "  Downloading spacy-2.3.7-cp39-cp39-win_amd64.whl (9.4 MB)\n",
      "Requirement already satisfied: IPython in c:\\users\\vinay\\anaconda3\\lib\\site-packages (from pycaret) (8.2.0)\n",
      "Collecting umap-learn\n",
      "  Using cached umap_learn-0.5.3-py3-none-any.whl\n",
      "Requirement already satisfied: ipywidgets in c:\\users\\vinay\\anaconda3\\lib\\site-packages (from pycaret) (7.6.5)\n",
      "Requirement already satisfied: nltk in c:\\users\\vinay\\anaconda3\\lib\\site-packages (from pycaret) (3.7)\n",
      "Collecting scikit-learn==0.23.2\n",
      "  Using cached scikit-learn-0.23.2.tar.gz (7.2 MB)\n",
      "  Installing build dependencies: started\n",
      "  Installing build dependencies: finished with status 'error'\n",
      "Collecting pycaret\n",
      "  Using cached pycaret-2.3.9-py3-none-any.whl (319 kB)\n",
      "  Using cached pycaret-2.3.8-py3-none-any.whl (318 kB)\n",
      "  Using cached pycaret-2.3.7-py3-none-any.whl (318 kB)\n",
      "  Using cached pycaret-2.3.6-py3-none-any.whl (301 kB)\n",
      "  Using cached pycaret-2.3.5-py3-none-any.whl (288 kB)\n",
      "  Using cached pycaret-2.3.4-py3-none-any.whl (266 kB)\n",
      "  Using cached pycaret-2.3.3-py3-none-any.whl (264 kB)\n",
      "  Using cached pycaret-2.3.2-py3-none-any.whl (263 kB)\n",
      "  Using cached pycaret-2.3.1-py3-none-any.whl (261 kB)\n",
      "  Using cached pycaret-2.3.0-py3-none-any.whl (261 kB)\n",
      "Collecting mlxtend\n",
      "  Using cached mlxtend-0.21.0-py2.py3-none-any.whl (1.3 MB)\n",
      "Requirement already satisfied: gensim in c:\\users\\vinay\\anaconda3\\lib\\site-packages (from pycaret) (4.1.2)\n",
      "Collecting pycaret\n",
      "  Using cached pycaret-2.2.3-py3-none-any.whl (249 kB)\n",
      "  Using cached pycaret-2.2.2-py3-none-any.whl (249 kB)\n",
      "Collecting pyLDAvis\n",
      "  Using cached pyLDAvis-3.3.1-py2.py3-none-any.whl\n",
      "Collecting scikit-plot\n",
      "  Using cached scikit_plot-0.3.7-py3-none-any.whl (33 kB)\n",
      "Collecting pandas-profiling>=2.8.0\n",
      "  Using cached pandas_profiling-3.3.0-py2.py3-none-any.whl (268 kB)\n",
      "Collecting yellowbrick>=1.0.1\n",
      "  Using cached yellowbrick-1.5-py3-none-any.whl (282 kB)\n",
      "Requirement already satisfied: matplotlib in c:\\users\\vinay\\anaconda3\\lib\\site-packages (from pycaret) (3.5.1)\n",
      "Requirement already satisfied: plotly>=4.4.1 in c:\\users\\vinay\\anaconda3\\lib\\site-packages (from pycaret) (5.6.0)\n",
      "Requirement already satisfied: seaborn in c:\\users\\vinay\\anaconda3\\lib\\site-packages (from pycaret) (0.11.2)\n",
      "Collecting wordcloud\n",
      "  Using cached wordcloud-1.8.2.2-cp39-cp39-win_amd64.whl (153 kB)\n",
      "Collecting lightgbm>=2.3.1\n",
      "  Using cached lightgbm-3.3.2-py3-none-win_amd64.whl (1.0 MB)\n",
      "Requirement already satisfied: joblib in c:\\users\\vinay\\anaconda3\\lib\\site-packages (from pycaret) (1.1.0)\n",
      "Requirement already satisfied: numpy>=1.17 in c:\\users\\vinay\\anaconda3\\lib\\site-packages (from pycaret) (1.21.5)\n",
      "Collecting pyod\n",
      "  Using cached pyod-1.0.5-py3-none-any.whl\n",
      "Collecting textblob\n",
      "  Using cached textblob-0.17.1-py2.py3-none-any.whl (636 kB)\n",
      "Collecting kmodes>=0.10.1\n",
      "  Using cached kmodes-0.12.2-py2.py3-none-any.whl (20 kB)\n",
      "Collecting cufflinks>=0.17.0\n",
      "  Using cached cufflinks-0.17.3-py3-none-any.whl\n",
      "Requirement already satisfied: xgboost>=1.1.0 in c:\\users\\vinay\\anaconda3\\lib\\site-packages (from pycaret) (1.6.2)\n",
      "Requirement already satisfied: imbalanced-learn>=0.7.0 in c:\\users\\vinay\\anaconda3\\lib\\site-packages (from pycaret) (0.9.1)\n",
      "Collecting mlflow\n",
      "  Using cached mlflow-1.29.0-py3-none-any.whl (16.9 MB)\n",
      "Collecting catboost>=0.23.2\n",
      "  Using cached catboost-1.1-cp39-none-win_amd64.whl (74.0 MB)\n",
      "Collecting spacy\n",
      "  Using cached spacy-3.4.1-cp39-cp39-win_amd64.whl (11.8 MB)\n",
      "Requirement already satisfied: pandas in c:\\users\\vinay\\anaconda3\\lib\\site-packages (from pycaret) (1.4.2)\n",
      "Requirement already satisfied: scikit-learn>=0.23.2 in c:\\users\\vinay\\anaconda3\\lib\\site-packages (from pycaret) (1.1.2)\n",
      "Requirement already satisfied: six in c:\\users\\vinay\\anaconda3\\lib\\site-packages (from catboost>=0.23.2->pycaret) (1.16.0)\n",
      "Requirement already satisfied: scipy in c:\\users\\vinay\\anaconda3\\lib\\site-packages (from catboost>=0.23.2->pycaret) (1.7.3)\n",
      "Collecting graphviz\n",
      "  Using cached graphviz-0.20.1-py3-none-any.whl (47 kB)\n",
      "Collecting colorlover>=0.2.1\n",
      "  Using cached colorlover-0.3.0-py3-none-any.whl (8.9 kB)\n",
      "Requirement already satisfied: setuptools>=34.4.1 in c:\\users\\vinay\\anaconda3\\lib\\site-packages (from cufflinks>=0.17.0->pycaret) (61.2.0)\n",
      "Requirement already satisfied: threadpoolctl>=2.0.0 in c:\\users\\vinay\\anaconda3\\lib\\site-packages (from imbalanced-learn>=0.7.0->pycaret) (2.2.0)\n",
      "Requirement already satisfied: pickleshare in c:\\users\\vinay\\anaconda3\\lib\\site-packages (from IPython->pycaret) (0.7.5)\n",
      "Requirement already satisfied: pygments>=2.4.0 in c:\\users\\vinay\\anaconda3\\lib\\site-packages (from IPython->pycaret) (2.11.2)\n",
      "Requirement already satisfied: decorator in c:\\users\\vinay\\anaconda3\\lib\\site-packages (from IPython->pycaret) (5.1.1)\n",
      "Requirement already satisfied: colorama in c:\\users\\vinay\\anaconda3\\lib\\site-packages (from IPython->pycaret) (0.4.4)\n",
      "Requirement already satisfied: traitlets>=5 in c:\\users\\vinay\\anaconda3\\lib\\site-packages (from IPython->pycaret) (5.1.1)"
     ]
    },
    {
     "name": "stderr",
     "output_type": "stream",
     "text": [
      "Error processing line 7 of C:\\Users\\Vinay\\anaconda3\\lib\\site-packages\\pywin32.pth:\n",
      "\n",
      "  Traceback (most recent call last):\n",
      "    File \"C:\\Users\\Vinay\\anaconda3\\lib\\site.py\", line 169, in addpackage\n",
      "      exec(line)\n",
      "    File \"<string>\", line 1, in <module>\n",
      "  ModuleNotFoundError: No module named 'pywin32_bootstrap'\n",
      "\n",
      "Remainder of file ignored\n",
      "WARNING: Ignoring invalid distribution - (c:\\users\\vinay\\anaconda3\\lib\\site-packages)\n",
      "WARNING: Ignoring invalid distribution - (c:\\users\\vinay\\anaconda3\\lib\\site-packages)\n",
      "  ERROR: Command errored out with exit status 1:\n",
      "   command: 'C:\\Users\\Vinay\\anaconda3\\python.exe' 'C:\\Users\\Vinay\\AppData\\Local\\Temp\\pip-standalone-pip-wy2tcq_v\\__env_pip__.zip\\pip' install --ignore-installed --no-user --prefix 'C:\\Users\\Vinay\\AppData\\Local\\Temp\\pip-build-env-xnykmef7\\overlay' --no-warn-script-location --no-binary :none: --only-binary :none: -i https://pypi.org/simple -- setuptools wheel 'Cython>=0.28.5' 'numpy==1.13.3; python_version=='\"'\"'3.6'\"'\"' and platform_system!='\"'\"'AIX'\"'\"' and platform_python_implementation == '\"'\"'CPython'\"'\"'' 'numpy==1.14.0; python_version=='\"'\"'3.6'\"'\"' and platform_system!='\"'\"'AIX'\"'\"' and platform_python_implementation != '\"'\"'CPython'\"'\"'' 'numpy==1.14.5; python_version=='\"'\"'3.7'\"'\"' and platform_system!='\"'\"'AIX'\"'\"'' 'numpy==1.17.3; python_version>='\"'\"'3.8'\"'\"' and platform_system!='\"'\"'AIX'\"'\"'' 'numpy==1.16.0; python_version=='\"'\"'3.6'\"'\"' and platform_system=='\"'\"'AIX'\"'\"'' 'numpy==1.16.0; python_version=='\"'\"'3.7'\"'\"' and platform_system=='\"'\"'AIX'\"'\"'' 'numpy==1.17.3; python_version>='\"'\"'3.8'\"'\"' and platform_system=='\"'\"'AIX'\"'\"'' 'scipy>=0.19.1'\n",
      "       cwd: None\n",
      "  Complete output (638 lines):\n",
      "  Error processing line 7 of C:\\Users\\Vinay\\anaconda3\\lib\\site-packages\\pywin32.pth:\n",
      "  \n",
      "    Traceback (most recent call last):\n",
      "      File \"C:\\Users\\Vinay\\anaconda3\\lib\\site.py\", line 169, in addpackage\n",
      "        exec(line)\n",
      "      File \"<string>\", line 1, in <module>\n",
      "    ModuleNotFoundError: No module named 'pywin32_bootstrap'\n",
      "  \n",
      "  Remainder of file ignored\n",
      "  WARNING: Ignoring invalid distribution - (c:\\users\\vinay\\anaconda3\\lib\\site-packages)\n",
      "  Ignoring numpy: markers 'python_version == \"3.6\" and platform_system != \"AIX\" and platform_python_implementation == \"CPython\"' don't match your environment\n",
      "  Ignoring numpy: markers 'python_version == \"3.6\" and platform_system != \"AIX\" and platform_python_implementation != \"CPython\"' don't match your environment\n",
      "  Ignoring numpy: markers 'python_version == \"3.7\" and platform_system != \"AIX\"' don't match your environment\n",
      "  Ignoring numpy: markers 'python_version == \"3.6\" and platform_system == \"AIX\"' don't match your environment\n",
      "  Ignoring numpy: markers 'python_version == \"3.7\" and platform_system == \"AIX\"' don't match your environment\n",
      "  Ignoring numpy: markers 'python_version >= \"3.8\" and platform_system == \"AIX\"' don't match your environment\n",
      "  Collecting setuptools\n",
      "    Using cached setuptools-65.4.1-py3-none-any.whl (1.2 MB)\n",
      "  Collecting wheel\n",
      "    Using cached wheel-0.37.1-py2.py3-none-any.whl (35 kB)\n",
      "  Collecting Cython>=0.28.5\n",
      "    Using cached Cython-0.29.32-py2.py3-none-any.whl (986 kB)\n",
      "  Collecting numpy==1.17.3\n",
      "    Using cached numpy-1.17.3.zip (6.4 MB)\n",
      "  Collecting scipy>=0.19.1\n",
      "    Using cached scipy-1.9.1-cp39-cp39-win_amd64.whl (38.6 MB)\n",
      "    Using cached scipy-1.9.0-cp39-cp39-win_amd64.whl (38.6 MB)\n",
      "    Using cached scipy-1.8.1-cp39-cp39-win_amd64.whl (36.9 MB)\n",
      "  Building wheels for collected packages: numpy\n",
      "    Building wheel for numpy (setup.py): started\n",
      "    Building wheel for numpy (setup.py): finished with status 'error'\n",
      "    ERROR: Command errored out with exit status 1:\n",
      "     command: 'C:\\Users\\Vinay\\anaconda3\\python.exe' -u -c 'import io, os, sys, setuptools, tokenize; sys.argv[0] = '\"'\"'C:\\\\Users\\\\Vinay\\\\AppData\\\\Local\\\\Temp\\\\pip-install-jwpqwc2z\\\\numpy_3642531f1369451ea1ddc706136caa8b\\\\setup.py'\"'\"'; __file__='\"'\"'C:\\\\Users\\\\Vinay\\\\AppData\\\\Local\\\\Temp\\\\pip-install-jwpqwc2z\\\\numpy_3642531f1369451ea1ddc706136caa8b\\\\setup.py'\"'\"';f = getattr(tokenize, '\"'\"'open'\"'\"', open)(__file__) if os.path.exists(__file__) else io.StringIO('\"'\"'from setuptools import setup; setup()'\"'\"');code = f.read().replace('\"'\"'\\r\\n'\"'\"', '\"'\"'\\n'\"'\"');f.close();exec(compile(code, __file__, '\"'\"'exec'\"'\"'))' bdist_wheel -d 'C:\\Users\\Vinay\\AppData\\Local\\Temp\\pip-wheel-1vd3seqq'\n",
      "         cwd: C:\\Users\\Vinay\\AppData\\Local\\Temp\\pip-install-jwpqwc2z\\numpy_3642531f1369451ea1ddc706136caa8b\\\n",
      "    Complete output (277 lines):\n",
      "    Error processing line 7 of C:\\Users\\Vinay\\anaconda3\\lib\\site-packages\\pywin32.pth:\n",
      "  \n",
      "      Traceback (most recent call last):\n",
      "        File \"C:\\Users\\Vinay\\anaconda3\\lib\\site.py\", line 169, in addpackage\n",
      "          exec(line)\n",
      "        File \"<string>\", line 1, in <module>\n",
      "      ModuleNotFoundError: No module named 'pywin32_bootstrap'\n",
      "  \n",
      "    Remainder of file ignored\n",
      "    Running from numpy source directory.\n",
      "    blas_opt_info:\n",
      "    blas_mkl_info:\n",
      "    No module named 'numpy.distutils._msvccompiler' in numpy.distutils; trying from distutils\n",
      "    customize MSVCCompiler\n",
      "      libraries mkl_rt not found in ['C:\\\\Users\\\\Vinay\\\\anaconda3\\\\lib', 'C:\\\\', 'C:\\\\Users\\\\Vinay\\\\anaconda3\\\\libs']\n",
      "      NOT AVAILABLE\n",
      "  \n",
      "    blis_info:\n",
      "    No module named 'numpy.distutils._msvccompiler' in numpy.distutils; trying from distutils\n",
      "    customize MSVCCompiler\n",
      "      libraries blis not found in ['C:\\\\Users\\\\Vinay\\\\anaconda3\\\\lib', 'C:\\\\', 'C:\\\\Users\\\\Vinay\\\\anaconda3\\\\libs']\n",
      "      NOT AVAILABLE\n",
      "  \n",
      "    openblas_info:\n",
      "    No module named 'numpy.distutils._msvccompiler' in numpy.distutils; trying from distutils\n",
      "    customize MSVCCompiler\n",
      "    No module named 'numpy.distutils._msvccompiler' in numpy.distutils; trying from distutils\n",
      "    customize MSVCCompiler\n",
      "      libraries openblas not found in ['C:\\\\Users\\\\Vinay\\\\anaconda3\\\\lib', 'C:\\\\', 'C:\\\\Users\\\\Vinay\\\\anaconda3\\\\libs']\n",
      "    get_default_fcompiler: matching types: '['gnu', 'intelv', 'absoft', 'compaqv', 'intelev', 'gnu95', 'g95', 'intelvem', 'intelem', 'flang']'\n",
      "    customize GnuFCompiler\n",
      "    Could not locate executable g77\n",
      "    Could not locate executable f77\n",
      "    customize IntelVisualFCompiler\n",
      "    Could not locate executable ifort\n",
      "    Could not locate executable ifl\n",
      "    customize AbsoftFCompiler\n",
      "    Could not locate executable f90\n",
      "    customize CompaqVisualFCompiler\n",
      "    Could not locate executable DF\n",
      "    customize IntelItaniumVisualFCompiler\n",
      "    Could not locate executable efl\n",
      "    customize Gnu95FCompiler\n",
      "    Could not locate executable gfortran\n",
      "    Could not locate executable f95\n",
      "    customize G95FCompiler\n",
      "    Could not locate executable g95\n",
      "    customize IntelEM64VisualFCompiler\n",
      "    customize IntelEM64TFCompiler\n",
      "    Could not locate executable efort\n",
      "    Could not locate executable efc\n",
      "    customize PGroupFlangCompiler\n",
      "    Could not locate executable flang\n",
      "    don't know how to compile Fortran code on platform 'nt'\n",
      "      NOT AVAILABLE\n",
      "  \n",
      "    atlas_3_10_blas_threads_info:\n",
      "    Setting PTATLAS=ATLAS\n",
      "    No module named 'numpy.distutils._msvccompiler' in numpy.distutils; trying from distutils\n",
      "    customize MSVCCompiler\n",
      "      libraries tatlas not found in ['C:\\\\Users\\\\Vinay\\\\anaconda3\\\\lib', 'C:\\\\', 'C:\\\\Users\\\\Vinay\\\\anaconda3\\\\libs']\n",
      "      NOT AVAILABLE\n",
      "  \n",
      "    atlas_3_10_blas_info:\n",
      "    No module named 'numpy.distutils._msvccompiler' in numpy.distutils; trying from distutils"
     ]
    },
    {
     "name": "stdout",
     "output_type": "stream",
     "text": [
      "\n",
      "Requirement already satisfied: matplotlib-inline in c:\\users\\vinay\\anaconda3\\lib\\site-packages (from IPython->pycaret) (0.1.2)\n",
      "Requirement already satisfied: prompt-toolkit!=3.0.0,!=3.0.1,<3.1.0,>=2.0.0 in c:\\users\\vinay\\anaconda3\\lib\\site-packages (from IPython->pycaret) (3.0.20)\n",
      "Requirement already satisfied: jedi>=0.16 in c:\\users\\vinay\\anaconda3\\lib\\site-packages (from IPython->pycaret) (0.18.1)\n",
      "Requirement already satisfied: stack-data in c:\\users\\vinay\\anaconda3\\lib\\site-packages (from IPython->pycaret) (0.2.0)\n",
      "Requirement already satisfied: backcall in c:\\users\\vinay\\anaconda3\\lib\\site-packages (from IPython->pycaret) (0.2.0)\n",
      "Requirement already satisfied: nbformat>=4.2.0 in c:\\users\\vinay\\anaconda3\\lib\\site-packages (from ipywidgets->pycaret) (5.3.0)\n",
      "Requirement already satisfied: ipython-genutils~=0.2.0 in c:\\users\\vinay\\anaconda3\\lib\\site-packages (from ipywidgets->pycaret) (0.2.0)\n",
      "Requirement already satisfied: jupyterlab-widgets>=1.0.0 in c:\\users\\vinay\\anaconda3\\lib\\site-packages (from ipywidgets->pycaret) (1.0.0)\n",
      "Requirement already satisfied: ipykernel>=4.5.1 in c:\\users\\vinay\\anaconda3\\lib\\site-packages (from ipywidgets->pycaret) (6.9.1)\n",
      "Requirement already satisfied: widgetsnbextension~=3.5.0 in c:\\users\\vinay\\anaconda3\\lib\\site-packages (from ipywidgets->pycaret) (3.5.2)\n",
      "Requirement already satisfied: nest-asyncio in c:\\users\\vinay\\anaconda3\\lib\\site-packages (from ipykernel>=4.5.1->ipywidgets->pycaret) (1.5.5)\n",
      "Requirement already satisfied: jupyter-client<8.0 in c:\\users\\vinay\\anaconda3\\lib\\site-packages (from ipykernel>=4.5.1->ipywidgets->pycaret) (6.1.12)\n",
      "Requirement already satisfied: tornado<7.0,>=4.2 in c:\\users\\vinay\\anaconda3\\lib\\site-packages (from ipykernel>=4.5.1->ipywidgets->pycaret) (6.1)\n",
      "Requirement already satisfied: debugpy<2.0,>=1.0.0 in c:\\users\\vinay\\anaconda3\\lib\\site-packages (from ipykernel>=4.5.1->ipywidgets->pycaret) (1.5.1)\n",
      "Requirement already satisfied: parso<0.9.0,>=0.8.0 in c:\\users\\vinay\\anaconda3\\lib\\site-packages (from jedi>=0.16->IPython->pycaret) (0.8.3)\n",
      "Requirement already satisfied: python-dateutil>=2.1 in c:\\users\\vinay\\anaconda3\\lib\\site-packages (from jupyter-client<8.0->ipykernel>=4.5.1->ipywidgets->pycaret) (2.8.2)\n",
      "Requirement already satisfied: jupyter-core>=4.6.0 in c:\\users\\vinay\\anaconda3\\lib\\site-packages (from jupyter-client<8.0->ipykernel>=4.5.1->ipywidgets->pycaret) (4.9.2)\n",
      "Requirement already satisfied: pyzmq>=13 in c:\\users\\vinay\\anaconda3\\lib\\site-packages (from jupyter-client<8.0->ipykernel>=4.5.1->ipywidgets->pycaret) (22.3.0)\n",
      "Collecting pywin32>=1.0\n",
      "  Using cached pywin32-304-cp39-cp39-win_amd64.whl (12.2 MB)\n",
      "Requirement already satisfied: wheel in c:\\users\\vinay\\anaconda3\\lib\\site-packages (from lightgbm>=2.3.1->pycaret) (0.37.1)\n",
      "Requirement already satisfied: jsonschema>=2.6 in c:\\users\\vinay\\anaconda3\\lib\\site-packages (from nbformat>=4.2.0->ipywidgets->pycaret) (4.4.0)\n",
      "Requirement already satisfied: fastjsonschema in c:\\users\\vinay\\anaconda3\\lib\\site-packages (from nbformat>=4.2.0->ipywidgets->pycaret) (2.15.1)\n",
      "Requirement already satisfied: attrs>=17.4.0 in c:\\users\\vinay\\anaconda3\\lib\\site-packages (from jsonschema>=2.6->nbformat>=4.2.0->ipywidgets->pycaret) (21.4.0)\n",
      "Requirement already satisfied: pyrsistent!=0.17.0,!=0.17.1,!=0.17.2,>=0.14.0 in c:\\users\\vinay\\anaconda3\\lib\\site-packages (from jsonschema>=2.6->nbformat>=4.2.0->ipywidgets->pycaret) (0.18.0)\n",
      "Requirement already satisfied: pytz>=2020.1 in c:\\users\\vinay\\anaconda3\\lib\\site-packages (from pandas->pycaret) (2021.3)\n",
      "Collecting pydantic<1.10,>=1.8.1\n",
      "  Using cached pydantic-1.9.2-cp39-cp39-win_amd64.whl (2.0 MB)\n",
      "Requirement already satisfied: PyYAML<6.1,>=5.0.0 in c:\\users\\vinay\\anaconda3\\lib\\site-packages (from pandas-profiling>=2.8.0->pycaret) (6.0)\n",
      "Collecting multimethod<1.9,>=1.4\n",
      "  Using cached multimethod-1.8-py3-none-any.whl (9.8 kB)\n",
      "Collecting visions[type_image_path]==0.7.5\n",
      "  Using cached visions-0.7.5-py3-none-any.whl (102 kB)\n",
      "Collecting htmlmin==0.1.12\n",
      "  Using cached htmlmin-0.1.12-py3-none-any.whl\n",
      "Collecting missingno<0.6,>=0.4.2\n",
      "  Using cached missingno-0.5.1-py3-none-any.whl (8.7 kB)\n",
      "Requirement already satisfied: tqdm<4.65,>=4.48.2 in c:\\users\\vinay\\anaconda3\\lib\\site-packages (from pandas-profiling>=2.8.0->pycaret) (4.64.0)\n",
      "Collecting phik<0.13,>=0.11.1\n",
      "  Using cached phik-0.12.2-cp39-cp39-win_amd64.whl (685 kB)\n",
      "Requirement already satisfied: statsmodels<0.14,>=0.13.2 in c:\\users\\vinay\\anaconda3\\lib\\site-packages (from pandas-profiling>=2.8.0->pycaret) (0.13.2)\n",
      "Requirement already satisfied: requests<2.29,>=2.24.0 in c:\\users\\vinay\\anaconda3\\lib\\site-packages (from pandas-profiling>=2.8.0->pycaret) (2.27.1)\n",
      "Collecting tangled-up-in-unicode==0.2.0\n",
      "  Using cached tangled_up_in_unicode-0.2.0-py3-none-any.whl (4.7 MB)\n",
      "Requirement already satisfied: jinja2<3.2,>=2.11.1 in c:\\users\\vinay\\anaconda3\\lib\\site-packages (from pandas-profiling>=2.8.0->pycaret) (2.11.3)\n",
      "Requirement already satisfied: networkx>=2.4 in c:\\users\\vinay\\anaconda3\\lib\\site-packages (from visions[type_image_path]==0.7.5->pandas-profiling>=2.8.0->pycaret) (2.7.1)\n",
      "Requirement already satisfied: Pillow in c:\\users\\vinay\\anaconda3\\lib\\site-packages (from visions[type_image_path]==0.7.5->pandas-profiling>=2.8.0->pycaret) (9.0.1)\n",
      "Collecting imagehash\n",
      "  Using cached ImageHash-4.3.1-py2.py3-none-any.whl (296 kB)\n",
      "Requirement already satisfied: MarkupSafe>=0.23 in c:\\users\\vinay\\anaconda3\\lib\\site-packages (from jinja2<3.2,>=2.11.1->pandas-profiling>=2.8.0->pycaret) (2.0.1)\n",
      "Requirement already satisfied: cycler>=0.10 in c:\\users\\vinay\\anaconda3\\lib\\site-packages (from matplotlib->pycaret) (0.11.0)\n",
      "Requirement already satisfied: pyparsing>=2.2.1 in c:\\users\\vinay\\anaconda3\\lib\\site-packages (from matplotlib->pycaret) (3.0.4)\n",
      "Requirement already satisfied: fonttools>=4.22.0 in c:\\users\\vinay\\anaconda3\\lib\\site-packages (from matplotlib->pycaret) (4.25.0)\n",
      "Requirement already satisfied: packaging>=20.0 in c:\\users\\vinay\\anaconda3\\lib\\site-packages (from matplotlib->pycaret) (21.3)\n",
      "Requirement already satisfied: kiwisolver>=1.0.1 in c:\\users\\vinay\\anaconda3\\lib\\site-packages (from matplotlib->pycaret) (1.3.2)\n",
      "Requirement already satisfied: tenacity>=6.2.0 in c:\\users\\vinay\\anaconda3\\lib\\site-packages (from plotly>=4.4.1->pycaret) (8.0.1)\n",
      "Requirement already satisfied: wcwidth in c:\\users\\vinay\\anaconda3\\lib\\site-packages (from prompt-toolkit!=3.0.0,!=3.0.1,<3.1.0,>=2.0.0->IPython->pycaret) (0.2.5)\n",
      "Requirement already satisfied: typing-extensions>=3.7.4.3 in c:\\users\\vinay\\anaconda3\\lib\\site-packages (from pydantic<1.10,>=1.8.1->pandas-profiling>=2.8.0->pycaret) (4.1.1)\n",
      "Requirement already satisfied: urllib3<1.27,>=1.21.1 in c:\\users\\vinay\\anaconda3\\lib\\site-packages (from requests<2.29,>=2.24.0->pandas-profiling>=2.8.0->pycaret) (1.26.9)\n",
      "Requirement already satisfied: charset-normalizer~=2.0.0 in c:\\users\\vinay\\anaconda3\\lib\\site-packages (from requests<2.29,>=2.24.0->pandas-profiling>=2.8.0->pycaret) (2.0.4)\n",
      "Requirement already satisfied: idna<4,>=2.5 in c:\\users\\vinay\\anaconda3\\lib\\site-packages (from requests<2.29,>=2.24.0->pandas-profiling>=2.8.0->pycaret) (3.3)\n",
      "Requirement already satisfied: certifi>=2017.4.17 in c:\\users\\vinay\\anaconda3\\lib\\site-packages (from requests<2.29,>=2.24.0->pandas-profiling>=2.8.0->pycaret) (2021.10.8)\n",
      "Requirement already satisfied: patsy>=0.5.2 in c:\\users\\vinay\\anaconda3\\lib\\site-packages (from statsmodels<0.14,>=0.13.2->pandas-profiling>=2.8.0->pycaret) (0.5.2)\n",
      "Requirement already satisfied: notebook>=4.4.1 in c:\\users\\vinay\\anaconda3\\lib\\site-packages (from widgetsnbextension~=3.5.0->ipywidgets->pycaret) (6.4.8)\n",
      "Requirement already satisfied: prometheus-client in c:\\users\\vinay\\anaconda3\\lib\\site-packages (from notebook>=4.4.1->widgetsnbextension~=3.5.0->ipywidgets->pycaret) (0.13.1)\n",
      "Requirement already satisfied: nbconvert in c:\\users\\vinay\\anaconda3\\lib\\site-packages (from notebook>=4.4.1->widgetsnbextension~=3.5.0->ipywidgets->pycaret) (6.4.4)\n",
      "Requirement already satisfied: Send2Trash>=1.8.0 in c:\\users\\vinay\\anaconda3\\lib\\site-packages (from notebook>=4.4.1->widgetsnbextension~=3.5.0->ipywidgets->pycaret) (1.8.0)\n",
      "Requirement already satisfied: terminado>=0.8.3 in c:\\users\\vinay\\anaconda3\\lib\\site-packages (from notebook>=4.4.1->widgetsnbextension~=3.5.0->ipywidgets->pycaret) (0.13.1)\n",
      "Requirement already satisfied: argon2-cffi in c:\\users\\vinay\\anaconda3\\lib\\site-packages (from notebook>=4.4.1->widgetsnbextension~=3.5.0->ipywidgets->pycaret) (21.3.0)\n",
      "Requirement already satisfied: pywinpty>=1.1.0 in c:\\users\\vinay\\anaconda3\\lib\\site-packages (from terminado>=0.8.3->notebook>=4.4.1->widgetsnbextension~=3.5.0->ipywidgets->pycaret) (2.0.2)\n",
      "Requirement already satisfied: argon2-cffi-bindings in c:\\users\\vinay\\anaconda3\\lib\\site-packages (from argon2-cffi->notebook>=4.4.1->widgetsnbextension~=3.5.0->ipywidgets->pycaret) (21.2.0)\n",
      "Requirement already satisfied: cffi>=1.0.1 in c:\\users\\vinay\\anaconda3\\lib\\site-packages (from argon2-cffi-bindings->argon2-cffi->notebook>=4.4.1->widgetsnbextension~=3.5.0->ipywidgets->pycaret) (1.15.0)\n",
      "Requirement already satisfied: pycparser in c:\\users\\vinay\\anaconda3\\lib\\site-packages (from cffi>=1.0.1->argon2-cffi-bindings->argon2-cffi->notebook>=4.4.1->widgetsnbextension~=3.5.0->ipywidgets->pycaret) (2.21)\n",
      "Requirement already satisfied: smart-open>=1.8.1 in c:\\users\\vinay\\anaconda3\\lib\\site-packages (from gensim->pycaret) (5.1.0)\n",
      "Requirement already satisfied: PyWavelets in c:\\users\\vinay\\anaconda3\\lib\\site-packages (from imagehash->visions[type_image_path]==0.7.5->pandas-profiling>=2.8.0->pycaret) (1.3.0)\n",
      "Requirement already satisfied: click<9,>=7.0 in c:\\users\\vinay\\anaconda3\\lib\\site-packages (from mlflow->pycaret) (8.0.4)\n",
      "Collecting databricks-cli<1,>=0.8.7\n",
      "  Using cached databricks_cli-0.17.3-py3-none-any.whl\n",
      "Requirement already satisfied: Flask<3 in c:\\users\\vinay\\anaconda3\\lib\\site-packages (from mlflow->pycaret) (1.1.2)\n",
      "Collecting alembic<2\n",
      "  Using cached alembic-1.8.1-py3-none-any.whl (209 kB)\n",
      "Requirement already satisfied: importlib-metadata!=4.7.0,<5,>=3.7.0 in c:\\users\\vinay\\anaconda3\\lib\\site-packages (from mlflow->pycaret) (4.11.3)\n",
      "Collecting waitress<3\n",
      "  Using cached waitress-2.1.2-py3-none-any.whl (57 kB)\n",
      "Collecting sqlparse<1,>=0.4.0\n",
      "  Using cached sqlparse-0.4.3-py3-none-any.whl (42 kB)\n",
      "Collecting querystring-parser<2\n",
      "  Using cached querystring_parser-1.2.4-py2.py3-none-any.whl (7.9 kB)\n",
      "Requirement already satisfied: entrypoints<1 in c:\\users\\vinay\\anaconda3\\lib\\site-packages (from mlflow->pycaret) (0.4)\n",
      "Requirement already satisfied: protobuf<5,>=3.12.0 in c:\\users\\vinay\\anaconda3\\lib\\site-packages (from mlflow->pycaret) (3.19.1)\n",
      "Collecting docker<7,>=4.0.0\n",
      "  Using cached docker-6.0.0-py3-none-any.whl (147 kB)\n",
      "Collecting prometheus-flask-exporter<1\n",
      "  Using cached prometheus_flask_exporter-0.20.3-py3-none-any.whl (18 kB)\n",
      "Requirement already satisfied: cloudpickle<3 in c:\\users\\vinay\\anaconda3\\lib\\site-packages (from mlflow->pycaret) (2.0.0)\n",
      "Requirement already satisfied: sqlalchemy<2,>=1.4.0 in c:\\users\\vinay\\anaconda3\\lib\\site-packages (from mlflow->pycaret) (1.4.32)\n",
      "Collecting gitpython<4,>=2.1.0\n",
      "  Using cached GitPython-3.1.27-py3-none-any.whl (181 kB)\n",
      "Collecting Mako\n",
      "  Using cached Mako-1.2.3-py3-none-any.whl (78 kB)\n",
      "Requirement already satisfied: tabulate>=0.7.7 in c:\\users\\vinay\\anaconda3\\lib\\site-packages (from databricks-cli<1,>=0.8.7->mlflow->pycaret) (0.8.9)\n",
      "Requirement already satisfied: pyjwt>=1.7.0 in c:\\users\\vinay\\anaconda3\\lib\\site-packages (from databricks-cli<1,>=0.8.7->mlflow->pycaret) (2.1.0)\n",
      "Collecting oauthlib>=3.1.0\n",
      "  Using cached oauthlib-3.2.1-py3-none-any.whl (151 kB)\n",
      "Requirement already satisfied: websocket-client>=0.32.0 in c:\\users\\vinay\\anaconda3\\lib\\site-packages (from docker<7,>=4.0.0->mlflow->pycaret) (0.58.0)\n",
      "Requirement already satisfied: Werkzeug>=0.15 in c:\\users\\vinay\\anaconda3\\lib\\site-packages (from Flask<3->mlflow->pycaret) (2.0.3)\n",
      "Requirement already satisfied: itsdangerous>=0.24 in c:\\users\\vinay\\anaconda3\\lib\\site-packages (from Flask<3->mlflow->pycaret) (2.0.1)\n",
      "Collecting gitdb<5,>=4.0.1\n",
      "  Using cached gitdb-4.0.9-py3-none-any.whl (63 kB)\n",
      "Collecting smmap<6,>=3.0.1\n",
      "  Using cached smmap-5.0.0-py3-none-any.whl (24 kB)\n",
      "Requirement already satisfied: zipp>=0.5 in c:\\users\\vinay\\anaconda3\\lib\\site-packages (from importlib-metadata!=4.7.0,<5,>=3.7.0->mlflow->pycaret) (3.7.0)\n",
      "Requirement already satisfied: greenlet!=0.4.17 in c:\\users\\vinay\\anaconda3\\lib\\site-packages (from sqlalchemy<2,>=1.4.0->mlflow->pycaret) (1.1.1)\n",
      "Requirement already satisfied: defusedxml in c:\\users\\vinay\\anaconda3\\lib\\site-packages (from nbconvert->notebook>=4.4.1->widgetsnbextension~=3.5.0->ipywidgets->pycaret) (0.7.1)\n",
      "Requirement already satisfied: beautifulsoup4 in c:\\users\\vinay\\anaconda3\\lib\\site-packages (from nbconvert->notebook>=4.4.1->widgetsnbextension~=3.5.0->ipywidgets->pycaret) (4.11.1)\n",
      "Requirement already satisfied: bleach in c:\\users\\vinay\\anaconda3\\lib\\site-packages (from nbconvert->notebook>=4.4.1->widgetsnbextension~=3.5.0->ipywidgets->pycaret) (4.1.0)\n",
      "Requirement already satisfied: pandocfilters>=1.4.1 in c:\\users\\vinay\\anaconda3\\lib\\site-packages (from nbconvert->notebook>=4.4.1->widgetsnbextension~=3.5.0->ipywidgets->pycaret) (1.5.0)\n",
      "Requirement already satisfied: jupyterlab-pygments in c:\\users\\vinay\\anaconda3\\lib\\site-packages (from nbconvert->notebook>=4.4.1->widgetsnbextension~=3.5.0->ipywidgets->pycaret) (0.1.2)\n",
      "Requirement already satisfied: mistune<2,>=0.8.1 in c:\\users\\vinay\\anaconda3\\lib\\site-packages (from nbconvert->notebook>=4.4.1->widgetsnbextension~=3.5.0->ipywidgets->pycaret) (0.8.4)\n",
      "Requirement already satisfied: nbclient<0.6.0,>=0.5.0 in c:\\users\\vinay\\anaconda3\\lib\\site-packages (from nbconvert->notebook>=4.4.1->widgetsnbextension~=3.5.0->ipywidgets->pycaret) (0.5.13)\n",
      "Requirement already satisfied: testpath in c:\\users\\vinay\\anaconda3\\lib\\site-packages (from nbconvert->notebook>=4.4.1->widgetsnbextension~=3.5.0->ipywidgets->pycaret) (0.5.0)\n",
      "Requirement already satisfied: soupsieve>1.2 in c:\\users\\vinay\\anaconda3\\lib\\site-packages (from beautifulsoup4->nbconvert->notebook>=4.4.1->widgetsnbextension~=3.5.0->ipywidgets->pycaret) (2.3.1)\n",
      "Requirement already satisfied: webencodings in c:\\users\\vinay\\anaconda3\\lib\\site-packages (from bleach->nbconvert->notebook>=4.4.1->widgetsnbextension~=3.5.0->ipywidgets->pycaret) (0.5.1)\n",
      "Requirement already satisfied: regex>=2021.8.3 in c:\\users\\vinay\\anaconda3\\lib\\site-packages (from nltk->pycaret) (2022.3.15)\n",
      "Collecting funcy\n",
      "  Using cached funcy-1.17-py2.py3-none-any.whl (33 kB)\n",
      "Requirement already satisfied: numexpr in c:\\users\\vinay\\anaconda3\\lib\\site-packages (from pyLDAvis->pycaret) (2.8.1)\n",
      "Requirement already satisfied: sklearn in c:\\users\\vinay\\anaconda3\\lib\\site-packages (from pyLDAvis->pycaret) (0.0)\n",
      "Requirement already satisfied: future in c:\\users\\vinay\\anaconda3\\lib\\site-packages (from pyLDAvis->pycaret) (0.18.2)\n",
      "Requirement already satisfied: numba>=0.51 in c:\\users\\vinay\\anaconda3\\lib\\site-packages (from pyod->pycaret) (0.55.1)\n",
      "Requirement already satisfied: llvmlite<0.39,>=0.38.0rc1 in c:\\users\\vinay\\anaconda3\\lib\\site-packages (from numba>=0.51->pyod->pycaret) (0.38.0)\n",
      "Collecting murmurhash<1.1.0,>=0.28.0\n",
      "  Using cached murmurhash-1.0.8-cp39-cp39-win_amd64.whl (18 kB)\n",
      "Collecting catalogue<2.1.0,>=2.0.6\n",
      "  Using cached catalogue-2.0.8-py3-none-any.whl (17 kB)\n",
      "Collecting wasabi<1.1.0,>=0.9.1\n",
      "  Using cached wasabi-0.10.1-py3-none-any.whl (26 kB)\n",
      "Collecting typer<0.5.0,>=0.3.0\n",
      "  Using cached typer-0.4.2-py3-none-any.whl (27 kB)\n",
      "Collecting srsly<3.0.0,>=2.4.3\n",
      "  Using cached srsly-2.4.4-cp39-cp39-win_amd64.whl (450 kB)\n",
      "Collecting preshed<3.1.0,>=3.0.2\n",
      "  Using cached preshed-3.0.7-cp39-cp39-win_amd64.whl (96 kB)\n",
      "Collecting spacy-loggers<2.0.0,>=1.0.0\n",
      "  Using cached spacy_loggers-1.0.3-py3-none-any.whl (9.3 kB)\n",
      "Collecting thinc<8.2.0,>=8.1.0\n",
      "  Using cached thinc-8.1.2-cp39-cp39-win_amd64.whl (1.3 MB)\n",
      "Collecting langcodes<4.0.0,>=3.2.0\n",
      "  Using cached langcodes-3.3.0-py3-none-any.whl (181 kB)\n",
      "Collecting cymem<2.1.0,>=2.0.2\n",
      "  Using cached cymem-2.0.6-cp39-cp39-win_amd64.whl (36 kB)\n",
      "Collecting pathy>=0.3.5\n",
      "  Using cached pathy-0.6.2-py3-none-any.whl (42 kB)\n",
      "Collecting spacy-legacy<3.1.0,>=3.0.9\n",
      "  Using cached spacy_legacy-3.0.10-py2.py3-none-any.whl (21 kB)\n",
      "Collecting smart-open>=1.8.1\n",
      "  Using cached smart_open-5.2.1-py3-none-any.whl (58 kB)\n",
      "Collecting confection<1.0.0,>=0.0.1\n",
      "  Using cached confection-0.0.2-py3-none-any.whl (32 kB)\n",
      "Collecting blis<0.8.0,>=0.7.8\n",
      "  Using cached blis-0.7.8-cp39-cp39-win_amd64.whl (6.6 MB)\n",
      "Requirement already satisfied: asttokens in c:\\users\\vinay\\anaconda3\\lib\\site-packages (from stack-data->IPython->pycaret) (2.0.5)\n",
      "Requirement already satisfied: pure-eval in c:\\users\\vinay\\anaconda3\\lib\\site-packages (from stack-data->IPython->pycaret) (0.2.2)\n",
      "Requirement already satisfied: executing in c:\\users\\vinay\\anaconda3\\lib\\site-packages (from stack-data->IPython->pycaret) (0.8.3)\n",
      "Collecting pynndescent>=0.5\n",
      "  Using cached pynndescent-0.5.7-py3-none-any.whl\n",
      "Installing collected packages: pywin32, catalogue, tangled-up-in-unicode, srsly, smmap, pydantic, murmurhash, multimethod, cymem, wasabi, visions, typer, smart-open, preshed, oauthlib, Mako, imagehash, gitdb, confection, blis, waitress, thinc, sqlparse, spacy-loggers, spacy-legacy, querystring-parser, pynndescent, prometheus-flask-exporter, phik, pathy, missingno, langcodes, htmlmin, graphviz, gitpython, funcy, docker, databricks-cli, colorlover, alembic, yellowbrick, wordcloud, umap-learn, textblob, spacy, scikit-plot, pyod, pyLDAvis, pandas-profiling, mlxtend, mlflow, lightgbm, kmodes, cufflinks, catboost, pycaret\n"
     ]
    },
    {
     "name": "stderr",
     "output_type": "stream",
     "text": [
      "\n",
      "    customize MSVCCompiler\n",
      "      libraries satlas not found in ['C:\\\\Users\\\\Vinay\\\\anaconda3\\\\lib', 'C:\\\\', 'C:\\\\Users\\\\Vinay\\\\anaconda3\\\\libs']\n",
      "      NOT AVAILABLE\n",
      "  \n",
      "    atlas_blas_threads_info:\n",
      "    Setting PTATLAS=ATLAS\n",
      "    No module named 'numpy.distutils._msvccompiler' in numpy.distutils; trying from distutils\n",
      "    customize MSVCCompiler\n",
      "      libraries ptf77blas,ptcblas,atlas not found in ['C:\\\\Users\\\\Vinay\\\\anaconda3\\\\lib', 'C:\\\\', 'C:\\\\Users\\\\Vinay\\\\anaconda3\\\\libs']\n",
      "      NOT AVAILABLE\n",
      "  \n",
      "    atlas_blas_info:\n",
      "    No module named 'numpy.distutils._msvccompiler' in numpy.distutils; trying from distutils\n",
      "    customize MSVCCompiler\n",
      "      libraries f77blas,cblas,atlas not found in ['C:\\\\Users\\\\Vinay\\\\anaconda3\\\\lib', 'C:\\\\', 'C:\\\\Users\\\\Vinay\\\\anaconda3\\\\libs']\n",
      "      NOT AVAILABLE\n",
      "  \n",
      "    accelerate_info:\n",
      "      NOT AVAILABLE\n",
      "  \n",
      "    C:\\Users\\Vinay\\AppData\\Local\\Temp\\pip-install-jwpqwc2z\\numpy_3642531f1369451ea1ddc706136caa8b\\numpy\\distutils\\system_info.py:690: UserWarning:\n",
      "        Optimized (vendor) Blas libraries are not found.\n",
      "        Falls back to netlib Blas library which has worse performance.\n",
      "        A better performance should be easily gained by switching\n",
      "        Blas library.\n",
      "      self.calc_info()\n",
      "    blas_info:\n",
      "    No module named 'numpy.distutils._msvccompiler' in numpy.distutils; trying from distutils\n",
      "    customize MSVCCompiler\n",
      "      libraries blas not found in ['C:\\\\Users\\\\Vinay\\\\anaconda3\\\\lib', 'C:\\\\', 'C:\\\\Users\\\\Vinay\\\\anaconda3\\\\libs']\n",
      "      NOT AVAILABLE\n",
      "  \n",
      "    C:\\Users\\Vinay\\AppData\\Local\\Temp\\pip-install-jwpqwc2z\\numpy_3642531f1369451ea1ddc706136caa8b\\numpy\\distutils\\system_info.py:690: UserWarning:\n",
      "        Blas (http://www.netlib.org/blas/) libraries not found.\n",
      "        Directories to search for the libraries can be specified in the\n",
      "        numpy/distutils/site.cfg file (section [blas]) or by setting\n",
      "        the BLAS environment variable.\n",
      "      self.calc_info()\n",
      "    blas_src_info:\n",
      "      NOT AVAILABLE\n",
      "  \n",
      "    C:\\Users\\Vinay\\AppData\\Local\\Temp\\pip-install-jwpqwc2z\\numpy_3642531f1369451ea1ddc706136caa8b\\numpy\\distutils\\system_info.py:690: UserWarning:\n",
      "        Blas (http://www.netlib.org/blas/) sources not found.\n",
      "        Directories to search for the sources can be specified in the\n",
      "        numpy/distutils/site.cfg file (section [blas_src]) or by setting\n",
      "        the BLAS_SRC environment variable.\n",
      "      self.calc_info()\n",
      "      NOT AVAILABLE\n",
      "  \n",
      "    'svnversion' is not recognized as an internal or external command,\n",
      "    operable program or batch file.\n",
      "    non-existing path in 'numpy\\\\distutils': 'site.cfg'\n",
      "    lapack_opt_info:\n",
      "    lapack_mkl_info:\n",
      "    No module named 'numpy.distutils._msvccompiler' in numpy.distutils; trying from distutils\n",
      "    customize MSVCCompiler\n",
      "      libraries mkl_rt not found in ['C:\\\\Users\\\\Vinay\\\\anaconda3\\\\lib', 'C:\\\\', 'C:\\\\Users\\\\Vinay\\\\anaconda3\\\\libs']\n",
      "      NOT AVAILABLE\n",
      "  \n",
      "    openblas_lapack_info:\n",
      "    No module named 'numpy.distutils._msvccompiler' in numpy.distutils; trying from distutils\n",
      "    customize MSVCCompiler\n",
      "    No module named 'numpy.distutils._msvccompiler' in numpy.distutils; trying from distutils\n",
      "    customize MSVCCompiler\n",
      "      libraries openblas not found in ['C:\\\\Users\\\\Vinay\\\\anaconda3\\\\lib', 'C:\\\\', 'C:\\\\Users\\\\Vinay\\\\anaconda3\\\\libs']\n",
      "      NOT AVAILABLE\n",
      "  \n",
      "    openblas_clapack_info:\n",
      "    No module named 'numpy.distutils._msvccompiler' in numpy.distutils; trying from distutils\n",
      "    customize MSVCCompiler\n",
      "    No module named 'numpy.distutils._msvccompiler' in numpy.distutils; trying from distutils\n",
      "    customize MSVCCompiler\n",
      "      libraries openblas,lapack not found in ['C:\\\\Users\\\\Vinay\\\\anaconda3\\\\lib', 'C:\\\\', 'C:\\\\Users\\\\Vinay\\\\anaconda3\\\\libs']\n",
      "      NOT AVAILABLE\n",
      "  \n",
      "    flame_info:\n",
      "    No module named 'numpy.distutils._msvccompiler' in numpy.distutils; trying from distutils\n",
      "    customize MSVCCompiler\n",
      "      libraries flame not found in ['C:\\\\Users\\\\Vinay\\\\anaconda3\\\\lib', 'C:\\\\', 'C:\\\\Users\\\\Vinay\\\\anaconda3\\\\libs']\n",
      "      NOT AVAILABLE\n",
      "  \n",
      "    atlas_3_10_threads_info:\n",
      "    Setting PTATLAS=ATLAS\n",
      "    No module named 'numpy.distutils._msvccompiler' in numpy.distutils; trying from distutils\n",
      "    customize MSVCCompiler\n",
      "      libraries lapack_atlas not found in C:\\Users\\Vinay\\anaconda3\\lib\n",
      "    No module named 'numpy.distutils._msvccompiler' in numpy.distutils; trying from distutils\n",
      "    customize MSVCCompiler\n",
      "      libraries tatlas,tatlas not found in C:\\Users\\Vinay\\anaconda3\\lib\n",
      "    No module named 'numpy.distutils._msvccompiler' in numpy.distutils; trying from distutils\n",
      "    customize MSVCCompiler\n",
      "      libraries lapack_atlas not found in C:\\\n",
      "    No module named 'numpy.distutils._msvccompiler' in numpy.distutils; trying from distutils\n",
      "    customize MSVCCompiler\n",
      "      libraries tatlas,tatlas not found in C:\\\n",
      "    No module named 'numpy.distutils._msvccompiler' in numpy.distutils; trying from distutils\n",
      "    customize MSVCCompiler\n",
      "      libraries lapack_atlas not found in C:\\Users\\Vinay\\anaconda3\\libs\n",
      "    No module named 'numpy.distutils._msvccompiler' in numpy.distutils; trying from distutils\n",
      "    customize MSVCCompiler\n",
      "      libraries tatlas,tatlas not found in C:\\Users\\Vinay\\anaconda3\\libs\n",
      "    <class 'numpy.distutils.system_info.atlas_3_10_threads_info'>\n",
      "      NOT AVAILABLE\n",
      "  \n",
      "    atlas_3_10_info:\n",
      "    No module named 'numpy.distutils._msvccompiler' in numpy.distutils; trying from distutils\n",
      "    customize MSVCCompiler\n",
      "      libraries lapack_atlas not found in C:\\Users\\Vinay\\anaconda3\\lib\n",
      "    No module named 'numpy.distutils._msvccompiler' in numpy.distutils; trying from distutils\n",
      "    customize MSVCCompiler\n",
      "      libraries satlas,satlas not found in C:\\Users\\Vinay\\anaconda3\\lib\n",
      "    No module named 'numpy.distutils._msvccompiler' in numpy.distutils; trying from distutils\n",
      "    customize MSVCCompiler\n",
      "      libraries lapack_atlas not found in C:\\\n",
      "    No module named 'numpy.distutils._msvccompiler' in numpy.distutils; trying from distutils\n",
      "    customize MSVCCompiler\n",
      "      libraries satlas,satlas not found in C:\\\n",
      "    No module named 'numpy.distutils._msvccompiler' in numpy.distutils; trying from distutils\n",
      "    customize MSVCCompiler\n",
      "      libraries lapack_atlas not found in C:\\Users\\Vinay\\anaconda3\\libs\n",
      "    No module named 'numpy.distutils._msvccompiler' in numpy.distutils; trying from distutils\n",
      "    customize MSVCCompiler\n",
      "      libraries satlas,satlas not found in C:\\Users\\Vinay\\anaconda3\\libs\n",
      "    <class 'numpy.distutils.system_info.atlas_3_10_info'>\n",
      "      NOT AVAILABLE\n",
      "  \n",
      "    atlas_threads_info:\n",
      "    Setting PTATLAS=ATLAS\n",
      "    No module named 'numpy.distutils._msvccompiler' in numpy.distutils; trying from distutils\n",
      "    customize MSVCCompiler\n",
      "      libraries lapack_atlas not found in C:\\Users\\Vinay\\anaconda3\\lib\n",
      "    No module named 'numpy.distutils._msvccompiler' in numpy.distutils; trying from distutils\n",
      "    customize MSVCCompiler\n",
      "      libraries ptf77blas,ptcblas,atlas not found in C:\\Users\\Vinay\\anaconda3\\lib\n",
      "    No module named 'numpy.distutils._msvccompiler' in numpy.distutils; trying from distutils\n",
      "    customize MSVCCompiler\n",
      "      libraries lapack_atlas not found in C:\\\n",
      "    No module named 'numpy.distutils._msvccompiler' in numpy.distutils; trying from distutils\n",
      "    customize MSVCCompiler\n",
      "      libraries ptf77blas,ptcblas,atlas not found in C:\\\n",
      "    No module named 'numpy.distutils._msvccompiler' in numpy.distutils; trying from distutils\n",
      "    customize MSVCCompiler\n",
      "      libraries lapack_atlas not found in C:\\Users\\Vinay\\anaconda3\\libs\n",
      "    No module named 'numpy.distutils._msvccompiler' in numpy.distutils; trying from distutils\n",
      "    customize MSVCCompiler\n",
      "      libraries ptf77blas,ptcblas,atlas not found in C:\\Users\\Vinay\\anaconda3\\libs\n",
      "    <class 'numpy.distutils.system_info.atlas_threads_info'>\n",
      "      NOT AVAILABLE\n",
      "  \n",
      "    atlas_info:\n",
      "    No module named 'numpy.distutils._msvccompiler' in numpy.distutils; trying from distutils\n",
      "    customize MSVCCompiler\n",
      "      libraries lapack_atlas not found in C:\\Users\\Vinay\\anaconda3\\lib\n",
      "    No module named 'numpy.distutils._msvccompiler' in numpy.distutils; trying from distutils\n",
      "    customize MSVCCompiler\n",
      "      libraries f77blas,cblas,atlas not found in C:\\Users\\Vinay\\anaconda3\\lib\n",
      "    No module named 'numpy.distutils._msvccompiler' in numpy.distutils; trying from distutils\n",
      "    customize MSVCCompiler\n",
      "      libraries lapack_atlas not found in C:\\\n",
      "    No module named 'numpy.distutils._msvccompiler' in numpy.distutils; trying from distutils\n",
      "    customize MSVCCompiler\n",
      "      libraries f77blas,cblas,atlas not found in C:\\\n",
      "    No module named 'numpy.distutils._msvccompiler' in numpy.distutils; trying from distutils\n",
      "    customize MSVCCompiler\n",
      "      libraries lapack_atlas not found in C:\\Users\\Vinay\\anaconda3\\libs\n",
      "    No module named 'numpy.distutils._msvccompiler' in numpy.distutils; trying from distutils\n",
      "    customize MSVCCompiler\n",
      "      libraries f77blas,cblas,atlas not found in C:\\Users\\Vinay\\anaconda3\\libs\n",
      "    <class 'numpy.distutils.system_info.atlas_info'>\n",
      "      NOT AVAILABLE\n",
      "  \n",
      "    lapack_info:\n",
      "    No module named 'numpy.distutils._msvccompiler' in numpy.distutils; trying from distutils\n",
      "    customize MSVCCompiler\n",
      "      libraries lapack not found in ['C:\\\\Users\\\\Vinay\\\\anaconda3\\\\lib', 'C:\\\\', 'C:\\\\Users\\\\Vinay\\\\anaconda3\\\\libs']\n",
      "      NOT AVAILABLE\n",
      "  \n",
      "    C:\\Users\\Vinay\\AppData\\Local\\Temp\\pip-install-jwpqwc2z\\numpy_3642531f1369451ea1ddc706136caa8b\\numpy\\distutils\\system_info.py:1712: UserWarning:\n",
      "        Lapack (http://www.netlib.org/lapack/) libraries not found.\n",
      "        Directories to search for the libraries can be specified in the\n",
      "        numpy/distutils/site.cfg file (section [lapack]) or by setting\n",
      "        the LAPACK environment variable.\n",
      "      if getattr(self, '_calc_info_{}'.format(lapack))():\n",
      "    lapack_src_info:\n",
      "      NOT AVAILABLE\n",
      "  \n",
      "    C:\\Users\\Vinay\\AppData\\Local\\Temp\\pip-install-jwpqwc2z\\numpy_3642531f1369451ea1ddc706136caa8b\\numpy\\distutils\\system_info.py:1712: UserWarning:\n",
      "        Lapack (http://www.netlib.org/lapack/) sources not found.\n",
      "        Directories to search for the sources can be specified in the\n",
      "        numpy/distutils/site.cfg file (section [lapack_src]) or by setting\n",
      "        the LAPACK_SRC environment variable.\n",
      "      if getattr(self, '_calc_info_{}'.format(lapack))():\n",
      "      NOT AVAILABLE\n",
      "  \n",
      "    C:\\Users\\Vinay\\anaconda3\\lib\\site-packages\\setuptools\\_distutils\\dist.py:275: UserWarning: Unknown distribution option: 'define_macros'\n",
      "      warnings.warn(msg)\n",
      "    running bdist_wheel\n",
      "    running build\n",
      "    running config_cc\n",
      "    unifing config_cc, config, build_clib, build_ext, build commands --compiler options\n",
      "    running config_fc\n",
      "    unifing config_fc, config, build_clib, build_ext, build commands --fcompiler options\n",
      "    running build_src\n",
      "    build_src\n",
      "    building py_modules sources\n",
      "    creating build\n",
      "    creating build\\src.win-amd64-3.9\n",
      "    creating build\\src.win-amd64-3.9\\numpy\n",
      "    creating build\\src.win-amd64-3.9\\numpy\\distutils\n",
      "    building library \"npymath\" sources\n",
      "    No module named 'numpy.distutils._msvccompiler' in numpy.distutils; trying from distutils\n",
      "    error: Microsoft Visual C++ 14.0 or greater is required. Get it with \"Microsoft C++ Build Tools\": https://visualstudio.microsoft.com/visual-cpp-build-tools/\n",
      "    ----------------------------------------\n",
      "    ERROR: Failed building wheel for numpy\n",
      "    Running setup.py clean for numpy\n",
      "    ERROR: Command errored out with exit status 1:\n",
      "     command: 'C:\\Users\\Vinay\\anaconda3\\python.exe' -u -c 'import io, os, sys, setuptools, tokenize; sys.argv[0] = '\"'\"'C:\\\\Users\\\\Vinay\\\\AppData\\\\Local\\\\Temp\\\\pip-install-jwpqwc2z\\\\numpy_3642531f1369451ea1ddc706136caa8b\\\\setup.py'\"'\"'; __file__='\"'\"'C:\\\\Users\\\\Vinay\\\\AppData\\\\Local\\\\Temp\\\\pip-install-jwpqwc2z\\\\numpy_3642531f1369451ea1ddc706136caa8b\\\\setup.py'\"'\"';f = getattr(tokenize, '\"'\"'open'\"'\"', open)(__file__) if os.path.exists(__file__) else io.StringIO('\"'\"'from setuptools import setup; setup()'\"'\"');code = f.read().replace('\"'\"'\\r\\n'\"'\"', '\"'\"'\\n'\"'\"');f.close();exec(compile(code, __file__, '\"'\"'exec'\"'\"'))' clean --all\n",
      "         cwd: C:\\Users\\Vinay\\AppData\\Local\\Temp\\pip-install-jwpqwc2z\\numpy_3642531f1369451ea1ddc706136caa8b\n",
      "    Complete output (19 lines):\n",
      "    Error processing line 7 of C:\\Users\\Vinay\\anaconda3\\lib\\site-packages\\pywin32.pth:\n",
      "  \n",
      "      Traceback (most recent call last):\n",
      "        File \"C:\\Users\\Vinay\\anaconda3\\lib\\site.py\", line 169, in addpackage\n",
      "          exec(line)\n",
      "        File \"<string>\", line 1, in <module>\n",
      "      ModuleNotFoundError: No module named 'pywin32_bootstrap'\n",
      "  \n",
      "    Remainder of file ignored\n",
      "    Running from numpy source directory.\n",
      "  \n",
      "    `setup.py clean` is not supported, use one of the following instead:\n",
      "  \n",
      "      - `git clean -xdf` (cleans all files)\n",
      "      - `git clean -Xdf` (cleans all versioned files, doesn't touch\n",
      "                          files that aren't checked into the git repo)\n",
      "  \n",
      "    Add `--force` to your command to use it anyway if you must (unsupported).\n",
      "  \n"
     ]
    },
    {
     "name": "stderr",
     "output_type": "stream",
     "text": [
      "    ----------------------------------------\n",
      "    ERROR: Failed cleaning build dir for numpy\n",
      "  Failed to build numpy\n",
      "  WARNING: Ignoring invalid distribution - (c:\\users\\vinay\\anaconda3\\lib\\site-packages)\n",
      "  Installing collected packages: numpy, wheel, setuptools, scipy, Cython\n",
      "      Running setup.py install for numpy: started\n",
      "      Running setup.py install for numpy: finished with status 'error'\n",
      "      ERROR: Command errored out with exit status 1:\n",
      "       command: 'C:\\Users\\Vinay\\anaconda3\\python.exe' -u -c 'import io, os, sys, setuptools, tokenize; sys.argv[0] = '\"'\"'C:\\\\Users\\\\Vinay\\\\AppData\\\\Local\\\\Temp\\\\pip-install-jwpqwc2z\\\\numpy_3642531f1369451ea1ddc706136caa8b\\\\setup.py'\"'\"'; __file__='\"'\"'C:\\\\Users\\\\Vinay\\\\AppData\\\\Local\\\\Temp\\\\pip-install-jwpqwc2z\\\\numpy_3642531f1369451ea1ddc706136caa8b\\\\setup.py'\"'\"';f = getattr(tokenize, '\"'\"'open'\"'\"', open)(__file__) if os.path.exists(__file__) else io.StringIO('\"'\"'from setuptools import setup; setup()'\"'\"');code = f.read().replace('\"'\"'\\r\\n'\"'\"', '\"'\"'\\n'\"'\"');f.close();exec(compile(code, __file__, '\"'\"'exec'\"'\"'))' install --record 'C:\\Users\\Vinay\\AppData\\Local\\Temp\\pip-record-0o3aqer7\\install-record.txt' --single-version-externally-managed --prefix 'C:\\Users\\Vinay\\AppData\\Local\\Temp\\pip-build-env-xnykmef7\\overlay' --compile --install-headers 'C:\\Users\\Vinay\\AppData\\Local\\Temp\\pip-build-env-xnykmef7\\overlay\\Include\\numpy'\n",
      "           cwd: C:\\Users\\Vinay\\AppData\\Local\\Temp\\pip-install-jwpqwc2z\\numpy_3642531f1369451ea1ddc706136caa8b\\\n",
      "      Complete output (284 lines):\n",
      "      Error processing line 7 of C:\\Users\\Vinay\\anaconda3\\lib\\site-packages\\pywin32.pth:\n",
      "  \n",
      "        Traceback (most recent call last):\n",
      "          File \"C:\\Users\\Vinay\\anaconda3\\lib\\site.py\", line 169, in addpackage\n",
      "            exec(line)\n",
      "          File \"<string>\", line 1, in <module>\n",
      "        ModuleNotFoundError: No module named 'pywin32_bootstrap'\n",
      "  \n",
      "      Remainder of file ignored\n",
      "      Running from numpy source directory.\n",
      "  \n",
      "      Note: if you need reliable uninstall behavior, then install\n",
      "      with pip instead of using `setup.py install`:\n",
      "  \n",
      "        - `pip install .`       (from a git repo or downloaded source\n",
      "                                 release)\n",
      "        - `pip install numpy`   (last NumPy release on PyPi)\n",
      "  \n",
      "  \n",
      "      blas_opt_info:\n",
      "      blas_mkl_info:\n",
      "      No module named 'numpy.distutils._msvccompiler' in numpy.distutils; trying from distutils\n",
      "      customize MSVCCompiler\n",
      "        libraries mkl_rt not found in ['C:\\\\Users\\\\Vinay\\\\anaconda3\\\\lib', 'C:\\\\', 'C:\\\\Users\\\\Vinay\\\\anaconda3\\\\libs']\n",
      "        NOT AVAILABLE\n",
      "  \n",
      "      blis_info:\n",
      "      No module named 'numpy.distutils._msvccompiler' in numpy.distutils; trying from distutils\n",
      "      customize MSVCCompiler\n",
      "        libraries blis not found in ['C:\\\\Users\\\\Vinay\\\\anaconda3\\\\lib', 'C:\\\\', 'C:\\\\Users\\\\Vinay\\\\anaconda3\\\\libs']\n",
      "        NOT AVAILABLE\n",
      "  \n",
      "      openblas_info:\n",
      "      No module named 'numpy.distutils._msvccompiler' in numpy.distutils; trying from distutils\n",
      "      customize MSVCCompiler\n",
      "      No module named 'numpy.distutils._msvccompiler' in numpy.distutils; trying from distutils\n",
      "      customize MSVCCompiler\n",
      "        libraries openblas not found in ['C:\\\\Users\\\\Vinay\\\\anaconda3\\\\lib', 'C:\\\\', 'C:\\\\Users\\\\Vinay\\\\anaconda3\\\\libs']\n",
      "      get_default_fcompiler: matching types: '['gnu', 'intelv', 'absoft', 'compaqv', 'intelev', 'gnu95', 'g95', 'intelvem', 'intelem', 'flang']'\n",
      "      customize GnuFCompiler\n",
      "      Could not locate executable g77\n",
      "      Could not locate executable f77\n",
      "      customize IntelVisualFCompiler\n",
      "      Could not locate executable ifort\n",
      "      Could not locate executable ifl\n",
      "      customize AbsoftFCompiler\n",
      "      Could not locate executable f90\n",
      "      customize CompaqVisualFCompiler\n",
      "      Could not locate executable DF\n",
      "      customize IntelItaniumVisualFCompiler\n",
      "      Could not locate executable efl\n",
      "      customize Gnu95FCompiler\n",
      "      Could not locate executable gfortran\n",
      "      Could not locate executable f95\n",
      "      customize G95FCompiler\n",
      "      Could not locate executable g95\n",
      "      customize IntelEM64VisualFCompiler\n",
      "      customize IntelEM64TFCompiler\n",
      "      Could not locate executable efort\n",
      "      Could not locate executable efc\n",
      "      customize PGroupFlangCompiler\n",
      "      Could not locate executable flang\n",
      "      don't know how to compile Fortran code on platform 'nt'\n",
      "        NOT AVAILABLE\n",
      "  \n",
      "      atlas_3_10_blas_threads_info:\n",
      "      Setting PTATLAS=ATLAS\n",
      "      No module named 'numpy.distutils._msvccompiler' in numpy.distutils; trying from distutils\n",
      "      customize MSVCCompiler\n",
      "        libraries tatlas not found in ['C:\\\\Users\\\\Vinay\\\\anaconda3\\\\lib', 'C:\\\\', 'C:\\\\Users\\\\Vinay\\\\anaconda3\\\\libs']\n",
      "        NOT AVAILABLE\n",
      "  \n",
      "      atlas_3_10_blas_info:\n",
      "      No module named 'numpy.distutils._msvccompiler' in numpy.distutils; trying from distutils\n",
      "      customize MSVCCompiler\n",
      "        libraries satlas not found in ['C:\\\\Users\\\\Vinay\\\\anaconda3\\\\lib', 'C:\\\\', 'C:\\\\Users\\\\Vinay\\\\anaconda3\\\\libs']\n",
      "        NOT AVAILABLE\n",
      "  \n",
      "      atlas_blas_threads_info:\n",
      "      Setting PTATLAS=ATLAS\n",
      "      No module named 'numpy.distutils._msvccompiler' in numpy.distutils; trying from distutils\n",
      "      customize MSVCCompiler\n",
      "        libraries ptf77blas,ptcblas,atlas not found in ['C:\\\\Users\\\\Vinay\\\\anaconda3\\\\lib', 'C:\\\\', 'C:\\\\Users\\\\Vinay\\\\anaconda3\\\\libs']\n",
      "        NOT AVAILABLE\n",
      "  \n",
      "      atlas_blas_info:\n",
      "      No module named 'numpy.distutils._msvccompiler' in numpy.distutils; trying from distutils\n",
      "      customize MSVCCompiler\n",
      "        libraries f77blas,cblas,atlas not found in ['C:\\\\Users\\\\Vinay\\\\anaconda3\\\\lib', 'C:\\\\', 'C:\\\\Users\\\\Vinay\\\\anaconda3\\\\libs']\n",
      "        NOT AVAILABLE\n",
      "  \n",
      "      accelerate_info:\n",
      "        NOT AVAILABLE\n",
      "  \n",
      "      C:\\Users\\Vinay\\AppData\\Local\\Temp\\pip-install-jwpqwc2z\\numpy_3642531f1369451ea1ddc706136caa8b\\numpy\\distutils\\system_info.py:690: UserWarning:\n",
      "          Optimized (vendor) Blas libraries are not found.\n",
      "          Falls back to netlib Blas library which has worse performance.\n",
      "          A better performance should be easily gained by switching\n",
      "          Blas library.\n",
      "        self.calc_info()\n",
      "      blas_info:\n",
      "      No module named 'numpy.distutils._msvccompiler' in numpy.distutils; trying from distutils\n",
      "      customize MSVCCompiler\n",
      "        libraries blas not found in ['C:\\\\Users\\\\Vinay\\\\anaconda3\\\\lib', 'C:\\\\', 'C:\\\\Users\\\\Vinay\\\\anaconda3\\\\libs']\n",
      "        NOT AVAILABLE\n",
      "  \n",
      "      C:\\Users\\Vinay\\AppData\\Local\\Temp\\pip-install-jwpqwc2z\\numpy_3642531f1369451ea1ddc706136caa8b\\numpy\\distutils\\system_info.py:690: UserWarning:\n",
      "          Blas (http://www.netlib.org/blas/) libraries not found.\n",
      "          Directories to search for the libraries can be specified in the\n",
      "          numpy/distutils/site.cfg file (section [blas]) or by setting\n",
      "          the BLAS environment variable.\n",
      "        self.calc_info()\n",
      "      blas_src_info:\n",
      "        NOT AVAILABLE\n",
      "  \n",
      "      C:\\Users\\Vinay\\AppData\\Local\\Temp\\pip-install-jwpqwc2z\\numpy_3642531f1369451ea1ddc706136caa8b\\numpy\\distutils\\system_info.py:690: UserWarning:\n",
      "          Blas (http://www.netlib.org/blas/) sources not found.\n",
      "          Directories to search for the sources can be specified in the\n",
      "          numpy/distutils/site.cfg file (section [blas_src]) or by setting\n",
      "          the BLAS_SRC environment variable.\n",
      "        self.calc_info()\n",
      "        NOT AVAILABLE\n",
      "  \n",
      "      'svnversion' is not recognized as an internal or external command,\n",
      "      operable program or batch file.\n",
      "      non-existing path in 'numpy\\\\distutils': 'site.cfg'\n",
      "      lapack_opt_info:\n",
      "      lapack_mkl_info:\n",
      "      No module named 'numpy.distutils._msvccompiler' in numpy.distutils; trying from distutils\n",
      "      customize MSVCCompiler\n",
      "        libraries mkl_rt not found in ['C:\\\\Users\\\\Vinay\\\\anaconda3\\\\lib', 'C:\\\\', 'C:\\\\Users\\\\Vinay\\\\anaconda3\\\\libs']\n",
      "        NOT AVAILABLE\n",
      "  \n",
      "      openblas_lapack_info:\n",
      "      No module named 'numpy.distutils._msvccompiler' in numpy.distutils; trying from distutils\n",
      "      customize MSVCCompiler\n",
      "      No module named 'numpy.distutils._msvccompiler' in numpy.distutils; trying from distutils\n",
      "      customize MSVCCompiler\n",
      "        libraries openblas not found in ['C:\\\\Users\\\\Vinay\\\\anaconda3\\\\lib', 'C:\\\\', 'C:\\\\Users\\\\Vinay\\\\anaconda3\\\\libs']\n",
      "        NOT AVAILABLE\n",
      "  \n",
      "      openblas_clapack_info:\n",
      "      No module named 'numpy.distutils._msvccompiler' in numpy.distutils; trying from distutils\n",
      "      customize MSVCCompiler\n",
      "      No module named 'numpy.distutils._msvccompiler' in numpy.distutils; trying from distutils\n",
      "      customize MSVCCompiler\n",
      "        libraries openblas,lapack not found in ['C:\\\\Users\\\\Vinay\\\\anaconda3\\\\lib', 'C:\\\\', 'C:\\\\Users\\\\Vinay\\\\anaconda3\\\\libs']\n",
      "        NOT AVAILABLE\n",
      "  \n",
      "      flame_info:\n",
      "      No module named 'numpy.distutils._msvccompiler' in numpy.distutils; trying from distutils\n",
      "      customize MSVCCompiler\n",
      "        libraries flame not found in ['C:\\\\Users\\\\Vinay\\\\anaconda3\\\\lib', 'C:\\\\', 'C:\\\\Users\\\\Vinay\\\\anaconda3\\\\libs']\n",
      "        NOT AVAILABLE\n",
      "  \n",
      "      atlas_3_10_threads_info:\n",
      "      Setting PTATLAS=ATLAS\n",
      "      No module named 'numpy.distutils._msvccompiler' in numpy.distutils; trying from distutils\n",
      "      customize MSVCCompiler\n",
      "        libraries lapack_atlas not found in C:\\Users\\Vinay\\anaconda3\\lib\n",
      "      No module named 'numpy.distutils._msvccompiler' in numpy.distutils; trying from distutils\n",
      "      customize MSVCCompiler\n",
      "        libraries tatlas,tatlas not found in C:\\Users\\Vinay\\anaconda3\\lib\n",
      "      No module named 'numpy.distutils._msvccompiler' in numpy.distutils; trying from distutils\n",
      "      customize MSVCCompiler\n",
      "        libraries lapack_atlas not found in C:\\\n",
      "      No module named 'numpy.distutils._msvccompiler' in numpy.distutils; trying from distutils\n",
      "      customize MSVCCompiler\n",
      "        libraries tatlas,tatlas not found in C:\\\n",
      "      No module named 'numpy.distutils._msvccompiler' in numpy.distutils; trying from distutils\n",
      "      customize MSVCCompiler\n",
      "        libraries lapack_atlas not found in C:\\Users\\Vinay\\anaconda3\\libs\n",
      "      No module named 'numpy.distutils._msvccompiler' in numpy.distutils; trying from distutils\n",
      "      customize MSVCCompiler\n",
      "        libraries tatlas,tatlas not found in C:\\Users\\Vinay\\anaconda3\\libs\n",
      "      <class 'numpy.distutils.system_info.atlas_3_10_threads_info'>\n",
      "        NOT AVAILABLE\n",
      "  \n",
      "      atlas_3_10_info:\n",
      "      No module named 'numpy.distutils._msvccompiler' in numpy.distutils; trying from distutils\n",
      "      customize MSVCCompiler\n",
      "        libraries lapack_atlas not found in C:\\Users\\Vinay\\anaconda3\\lib\n",
      "      No module named 'numpy.distutils._msvccompiler' in numpy.distutils; trying from distutils\n",
      "      customize MSVCCompiler\n",
      "        libraries satlas,satlas not found in C:\\Users\\Vinay\\anaconda3\\lib\n",
      "      No module named 'numpy.distutils._msvccompiler' in numpy.distutils; trying from distutils\n",
      "      customize MSVCCompiler\n",
      "        libraries lapack_atlas not found in C:\\\n",
      "      No module named 'numpy.distutils._msvccompiler' in numpy.distutils; trying from distutils\n",
      "      customize MSVCCompiler\n",
      "        libraries satlas,satlas not found in C:\\\n",
      "      No module named 'numpy.distutils._msvccompiler' in numpy.distutils; trying from distutils\n",
      "      customize MSVCCompiler\n",
      "        libraries lapack_atlas not found in C:\\Users\\Vinay\\anaconda3\\libs\n",
      "      No module named 'numpy.distutils._msvccompiler' in numpy.distutils; trying from distutils\n",
      "      customize MSVCCompiler\n",
      "        libraries satlas,satlas not found in C:\\Users\\Vinay\\anaconda3\\libs\n",
      "      <class 'numpy.distutils.system_info.atlas_3_10_info'>\n",
      "        NOT AVAILABLE\n",
      "  \n",
      "      atlas_threads_info:\n",
      "      Setting PTATLAS=ATLAS\n",
      "      No module named 'numpy.distutils._msvccompiler' in numpy.distutils; trying from distutils\n",
      "      customize MSVCCompiler\n",
      "        libraries lapack_atlas not found in C:\\Users\\Vinay\\anaconda3\\lib\n",
      "      No module named 'numpy.distutils._msvccompiler' in numpy.distutils; trying from distutils\n",
      "      customize MSVCCompiler\n",
      "        libraries ptf77blas,ptcblas,atlas not found in C:\\Users\\Vinay\\anaconda3\\lib\n",
      "      No module named 'numpy.distutils._msvccompiler' in numpy.distutils; trying from distutils\n",
      "      customize MSVCCompiler\n",
      "        libraries lapack_atlas not found in C:\\\n",
      "      No module named 'numpy.distutils._msvccompiler' in numpy.distutils; trying from distutils\n",
      "      customize MSVCCompiler\n",
      "        libraries ptf77blas,ptcblas,atlas not found in C:\\\n",
      "      No module named 'numpy.distutils._msvccompiler' in numpy.distutils; trying from distutils\n",
      "      customize MSVCCompiler\n",
      "        libraries lapack_atlas not found in C:\\Users\\Vinay\\anaconda3\\libs\n",
      "      No module named 'numpy.distutils._msvccompiler' in numpy.distutils; trying from distutils\n",
      "      customize MSVCCompiler\n",
      "        libraries ptf77blas,ptcblas,atlas not found in C:\\Users\\Vinay\\anaconda3\\libs\n",
      "      <class 'numpy.distutils.system_info.atlas_threads_info'>\n",
      "        NOT AVAILABLE\n",
      "  \n",
      "      atlas_info:\n",
      "      No module named 'numpy.distutils._msvccompiler' in numpy.distutils; trying from distutils\n",
      "      customize MSVCCompiler\n",
      "        libraries lapack_atlas not found in C:\\Users\\Vinay\\anaconda3\\lib\n",
      "      No module named 'numpy.distutils._msvccompiler' in numpy.distutils; trying from distutils\n",
      "      customize MSVCCompiler\n",
      "        libraries f77blas,cblas,atlas not found in C:\\Users\\Vinay\\anaconda3\\lib\n",
      "      No module named 'numpy.distutils._msvccompiler' in numpy.distutils; trying from distutils\n",
      "      customize MSVCCompiler\n",
      "        libraries lapack_atlas not found in C:\\\n",
      "      No module named 'numpy.distutils._msvccompiler' in numpy.distutils; trying from distutils\n",
      "      customize MSVCCompiler\n",
      "        libraries f77blas,cblas,atlas not found in C:\\\n",
      "      No module named 'numpy.distutils._msvccompiler' in numpy.distutils; trying from distutils\n",
      "      customize MSVCCompiler\n",
      "        libraries lapack_atlas not found in C:\\Users\\Vinay\\anaconda3\\libs\n",
      "      No module named 'numpy.distutils._msvccompiler' in numpy.distutils; trying from distutils\n",
      "      customize MSVCCompiler\n",
      "        libraries f77blas,cblas,atlas not found in C:\\Users\\Vinay\\anaconda3\\libs\n",
      "      <class 'numpy.distutils.system_info.atlas_info'>\n",
      "        NOT AVAILABLE\n",
      "  \n",
      "      lapack_info:\n",
      "      No module named 'numpy.distutils._msvccompiler' in numpy.distutils; trying from distutils\n",
      "      customize MSVCCompiler\n",
      "        libraries lapack not found in ['C:\\\\Users\\\\Vinay\\\\anaconda3\\\\lib', 'C:\\\\', 'C:\\\\Users\\\\Vinay\\\\anaconda3\\\\libs']\n",
      "        NOT AVAILABLE\n",
      "  \n",
      "      C:\\Users\\Vinay\\AppData\\Local\\Temp\\pip-install-jwpqwc2z\\numpy_3642531f1369451ea1ddc706136caa8b\\numpy\\distutils\\system_info.py:1712: UserWarning:\n",
      "          Lapack (http://www.netlib.org/lapack/) libraries not found.\n",
      "          Directories to search for the libraries can be specified in the\n",
      "          numpy/distutils/site.cfg file (section [lapack]) or by setting\n",
      "          the LAPACK environment variable.\n",
      "        if getattr(self, '_calc_info_{}'.format(lapack))():\n",
      "      lapack_src_info:\n",
      "        NOT AVAILABLE\n",
      "  \n",
      "      C:\\Users\\Vinay\\AppData\\Local\\Temp\\pip-install-jwpqwc2z\\numpy_3642531f1369451ea1ddc706136caa8b\\numpy\\distutils\\system_info.py:1712: UserWarning:\n",
      "          Lapack (http://www.netlib.org/lapack/) sources not found.\n",
      "          Directories to search for the sources can be specified in the\n",
      "          numpy/distutils/site.cfg file (section [lapack_src]) or by setting\n",
      "          the LAPACK_SRC environment variable.\n",
      "        if getattr(self, '_calc_info_{}'.format(lapack))():\n",
      "        NOT AVAILABLE\n",
      "  \n",
      "      C:\\Users\\Vinay\\anaconda3\\lib\\site-packages\\setuptools\\_distutils\\dist.py:275: UserWarning: Unknown distribution option: 'define_macros'\n",
      "        warnings.warn(msg)\n",
      "      running install\n",
      "      C:\\Users\\Vinay\\anaconda3\\lib\\site-packages\\setuptools\\command\\install.py:34: SetuptoolsDeprecationWarning: setup.py install is deprecated. Use build and pip and other standards-based tools.\n",
      "        warnings.warn(\n",
      "      running build\n",
      "      running config_cc\n",
      "      unifing config_cc, config, build_clib, build_ext, build commands --compiler options\n",
      "      running config_fc\n",
      "      unifing config_fc, config, build_clib, build_ext, build commands --fcompiler options\n",
      "      running build_src\n",
      "      build_src\n",
      "      building py_modules sources\n",
      "      building library \"npymath\" sources\n",
      "      No module named 'numpy.distutils._msvccompiler' in numpy.distutils; trying from distutils\n",
      "      error: Microsoft Visual C++ 14.0 or greater is required. Get it with \"Microsoft C++ Build Tools\": https://visualstudio.microsoft.com/visual-cpp-build-tools/\n",
      "      ----------------------------------------\n",
      "  ERROR: Command errored out with exit status 1: 'C:\\Users\\Vinay\\anaconda3\\python.exe' -u -c 'import io, os, sys, setuptools, tokenize; sys.argv[0] = '\"'\"'C:\\\\Users\\\\Vinay\\\\AppData\\\\Local\\\\Temp\\\\pip-install-jwpqwc2z\\\\numpy_3642531f1369451ea1ddc706136caa8b\\\\setup.py'\"'\"'; __file__='\"'\"'C:\\\\Users\\\\Vinay\\\\AppData\\\\Local\\\\Temp\\\\pip-install-jwpqwc2z\\\\numpy_3642531f1369451ea1ddc706136caa8b\\\\setup.py'\"'\"';f = getattr(tokenize, '\"'\"'open'\"'\"', open)(__file__) if os.path.exists(__file__) else io.StringIO('\"'\"'from setuptools import setup; setup()'\"'\"');code = f.read().replace('\"'\"'\\r\\n'\"'\"', '\"'\"'\\n'\"'\"');f.close();exec(compile(code, __file__, '\"'\"'exec'\"'\"'))' install --record 'C:\\Users\\Vinay\\AppData\\Local\\Temp\\pip-record-0o3aqer7\\install-record.txt' --single-version-externally-managed --prefix 'C:\\Users\\Vinay\\AppData\\Local\\Temp\\pip-build-env-xnykmef7\\overlay' --compile --install-headers 'C:\\Users\\Vinay\\AppData\\Local\\Temp\\pip-build-env-xnykmef7\\overlay\\Include\\numpy' Check the logs for full command output.\n",
      "  WARNING: Ignoring invalid distribution - (c:\\users\\vinay\\anaconda3\\lib\\site-packages)\n",
      "  WARNING: Ignoring invalid distribution - (c:\\users\\vinay\\anaconda3\\lib\\site-packages)\n",
      "  WARNING: Ignoring invalid distribution - (c:\\users\\vinay\\anaconda3\\lib\\site-packages)\n",
      "  ----------------------------------------\n",
      "WARNING: Discarding https://files.pythonhosted.org/packages/aa/f6/75297be19f48b7a8c2577753a3a700f98fc4db49d0e5ed3820dd8dee43d4/scikit-learn-0.23.2.tar.gz#sha256=20766f515e6cd6f954554387dfae705d93c7b544ec0e6c6a5d8e006f6f7ef480 (from https://pypi.org/simple/scikit-learn/) (requires-python:>=3.6). Command errored out with exit status 1: 'C:\\Users\\Vinay\\anaconda3\\python.exe' 'C:\\Users\\Vinay\\AppData\\Local\\Temp\\pip-standalone-pip-wy2tcq_v\\__env_pip__.zip\\pip' install --ignore-installed --no-user --prefix 'C:\\Users\\Vinay\\AppData\\Local\\Temp\\pip-build-env-xnykmef7\\overlay' --no-warn-script-location --no-binary :none: --only-binary :none: -i https://pypi.org/simple -- setuptools wheel 'Cython>=0.28.5' 'numpy==1.13.3; python_version=='\"'\"'3.6'\"'\"' and platform_system!='\"'\"'AIX'\"'\"' and platform_python_implementation == '\"'\"'CPython'\"'\"'' 'numpy==1.14.0; python_version=='\"'\"'3.6'\"'\"' and platform_system!='\"'\"'AIX'\"'\"' and platform_python_implementation != '\"'\"'CPython'\"'\"'' 'numpy==1.14.5; python_version=='\"'\"'3.7'\"'\"' and platform_system!='\"'\"'AIX'\"'\"'' 'numpy==1.17.3; python_version>='\"'\"'3.8'\"'\"' and platform_system!='\"'\"'AIX'\"'\"'' 'numpy==1.16.0; python_version=='\"'\"'3.6'\"'\"' and platform_system=='\"'\"'AIX'\"'\"'' 'numpy==1.16.0; python_version=='\"'\"'3.7'\"'\"' and platform_system=='\"'\"'AIX'\"'\"'' 'numpy==1.17.3; python_version>='\"'\"'3.8'\"'\"' and platform_system=='\"'\"'AIX'\"'\"'' 'scipy>=0.19.1' Check the logs for full command output.\n",
      "WARNING: Ignoring invalid distribution - (c:\\users\\vinay\\anaconda3\\lib\\site-packages)\n",
      "ERROR: Could not install packages due to an OSError: [WinError 5] Access is denied: 'C:\\\\Users\\\\Vinay\\\\anaconda3\\\\Lib\\\\site-packages\\\\pywin32_system32\\\\pywintypes39.dll'\n",
      "Consider using the `--user` option or check the permissions.\n",
      "\n",
      "WARNING: Ignoring invalid distribution - (c:\\users\\vinay\\anaconda3\\lib\\site-packages)\n",
      "WARNING: Ignoring invalid distribution - (c:\\users\\vinay\\anaconda3\\lib\\site-packages)\n",
      "WARNING: Ignoring invalid distribution - (c:\\users\\vinay\\anaconda3\\lib\\site-packages)\n"
     ]
    }
   ],
   "source": [
    "!pip install pycaret\n"
   ]
  },
  {
   "cell_type": "code",
   "execution_count": 106,
   "id": "b2a9649e",
   "metadata": {},
   "outputs": [
    {
     "ename": "ValueError",
     "evalue": "Setting a random_state has no effect since shuffle is False. You should leave random_state to its default (None), or set shuffle=True.",
     "output_type": "error",
     "traceback": [
      "\u001b[1;31m---------------------------------------------------------------------------\u001b[0m",
      "\u001b[1;31mValueError\u001b[0m                                Traceback (most recent call last)",
      "Input \u001b[1;32mIn [106]\u001b[0m, in \u001b[0;36m<cell line: 3>\u001b[1;34m()\u001b[0m\n\u001b[0;32m      1\u001b[0m \u001b[38;5;28;01mfrom\u001b[39;00m \u001b[38;5;21;01msklearn\u001b[39;00m\u001b[38;5;21;01m.\u001b[39;00m\u001b[38;5;21;01mmodel_selection\u001b[39;00m \u001b[38;5;28;01mimport\u001b[39;00m KFold\n\u001b[0;32m      2\u001b[0m j\u001b[38;5;241m=\u001b[39m\u001b[38;5;241m1\u001b[39m\n\u001b[1;32m----> 3\u001b[0m kf \u001b[38;5;241m=\u001b[39m \u001b[43mKFold\u001b[49m\u001b[43m(\u001b[49m\u001b[43mn_splits\u001b[49m\u001b[38;5;241;43m=\u001b[39;49m\u001b[38;5;241;43m5\u001b[39;49m\u001b[43m,\u001b[49m\u001b[43mrandom_state\u001b[49m\u001b[38;5;241;43m=\u001b[39;49m\u001b[38;5;241;43m1\u001b[39;49m\u001b[43m,\u001b[49m\u001b[43mshuffle\u001b[49m\u001b[38;5;241;43m=\u001b[39;49m\u001b[38;5;28;43;01mFalse\u001b[39;49;00m\u001b[43m)\u001b[49m\n\u001b[0;32m      4\u001b[0m accuracy \u001b[38;5;241m=\u001b[39m []\n\u001b[0;32m      5\u001b[0m \u001b[38;5;28;01mfor\u001b[39;00m train_index,test_index \u001b[38;5;129;01min\u001b[39;00m kf\u001b[38;5;241m.\u001b[39msplit(x_reduced,Y,):\n",
      "File \u001b[1;32m~\\anaconda3\\lib\\site-packages\\sklearn\\model_selection\\_split.py:435\u001b[0m, in \u001b[0;36mKFold.__init__\u001b[1;34m(self, n_splits, shuffle, random_state)\u001b[0m\n\u001b[0;32m    434\u001b[0m \u001b[38;5;28;01mdef\u001b[39;00m \u001b[38;5;21m__init__\u001b[39m(\u001b[38;5;28mself\u001b[39m, n_splits\u001b[38;5;241m=\u001b[39m\u001b[38;5;241m5\u001b[39m, \u001b[38;5;241m*\u001b[39m, shuffle\u001b[38;5;241m=\u001b[39m\u001b[38;5;28;01mFalse\u001b[39;00m, random_state\u001b[38;5;241m=\u001b[39m\u001b[38;5;28;01mNone\u001b[39;00m):\n\u001b[1;32m--> 435\u001b[0m     \u001b[38;5;28;43msuper\u001b[39;49m\u001b[43m(\u001b[49m\u001b[43m)\u001b[49m\u001b[38;5;241;43m.\u001b[39;49m\u001b[38;5;21;43m__init__\u001b[39;49m\u001b[43m(\u001b[49m\u001b[43mn_splits\u001b[49m\u001b[38;5;241;43m=\u001b[39;49m\u001b[43mn_splits\u001b[49m\u001b[43m,\u001b[49m\u001b[43m \u001b[49m\u001b[43mshuffle\u001b[49m\u001b[38;5;241;43m=\u001b[39;49m\u001b[43mshuffle\u001b[49m\u001b[43m,\u001b[49m\u001b[43m \u001b[49m\u001b[43mrandom_state\u001b[49m\u001b[38;5;241;43m=\u001b[39;49m\u001b[43mrandom_state\u001b[49m\u001b[43m)\u001b[49m\n",
      "File \u001b[1;32m~\\anaconda3\\lib\\site-packages\\sklearn\\model_selection\\_split.py:296\u001b[0m, in \u001b[0;36m_BaseKFold.__init__\u001b[1;34m(self, n_splits, shuffle, random_state)\u001b[0m\n\u001b[0;32m    293\u001b[0m     \u001b[38;5;28;01mraise\u001b[39;00m \u001b[38;5;167;01mTypeError\u001b[39;00m(\u001b[38;5;124m\"\u001b[39m\u001b[38;5;124mshuffle must be True or False; got \u001b[39m\u001b[38;5;132;01m{0}\u001b[39;00m\u001b[38;5;124m\"\u001b[39m\u001b[38;5;241m.\u001b[39mformat(shuffle))\n\u001b[0;32m    295\u001b[0m \u001b[38;5;28;01mif\u001b[39;00m \u001b[38;5;129;01mnot\u001b[39;00m shuffle \u001b[38;5;129;01mand\u001b[39;00m random_state \u001b[38;5;129;01mis\u001b[39;00m \u001b[38;5;129;01mnot\u001b[39;00m \u001b[38;5;28;01mNone\u001b[39;00m:  \u001b[38;5;66;03m# None is the default\u001b[39;00m\n\u001b[1;32m--> 296\u001b[0m     \u001b[38;5;28;01mraise\u001b[39;00m \u001b[38;5;167;01mValueError\u001b[39;00m(\n\u001b[0;32m    297\u001b[0m         \u001b[38;5;124m\"\u001b[39m\u001b[38;5;124mSetting a random_state has no effect since shuffle is \u001b[39m\u001b[38;5;124m\"\u001b[39m\n\u001b[0;32m    298\u001b[0m         \u001b[38;5;124m\"\u001b[39m\u001b[38;5;124mFalse. You should leave \u001b[39m\u001b[38;5;124m\"\u001b[39m\n\u001b[0;32m    299\u001b[0m         \u001b[38;5;124m\"\u001b[39m\u001b[38;5;124mrandom_state to its default (None), or set shuffle=True.\u001b[39m\u001b[38;5;124m\"\u001b[39m,\n\u001b[0;32m    300\u001b[0m     )\n\u001b[0;32m    302\u001b[0m \u001b[38;5;28mself\u001b[39m\u001b[38;5;241m.\u001b[39mn_splits \u001b[38;5;241m=\u001b[39m n_splits\n\u001b[0;32m    303\u001b[0m \u001b[38;5;28mself\u001b[39m\u001b[38;5;241m.\u001b[39mshuffle \u001b[38;5;241m=\u001b[39m shuffle\n",
      "\u001b[1;31mValueError\u001b[0m: Setting a random_state has no effect since shuffle is False. You should leave random_state to its default (None), or set shuffle=True."
     ]
    }
   ],
   "source": [
    "from sklearn.model_selection import KFold\n",
    "j=1\n",
    "kf = KFold(n_splits=5,random_state=1,shuffle=False)\n",
    "accuracy = []\n",
    "for train_index,test_index in kf.split(x_reduced,Y,):\n",
    "            print('\\n{} of kfold {}'.format(j,kf.n_splits))\n",
    "            xtr,xvl = x_reduced[train_index],x_reduced[test_index]     \n",
    "            ytr,yvl = Y[train_index],Y[test_index]         \n",
    "            model = GradientBoostingClassifier(random_state=1)     \n",
    "            model.fit(xtr, ytr)     \n",
    "            pred_test = model.predict(xvl)     \n",
    "            score = accuracy_score(yvl,pred_test)\n",
    "            accuracy.append(score)\n",
    "            print('accuracy_score',score)\n",
    "            j=j+1\n",
    "print(np.mean(accuracy))"
   ]
  },
  {
   "cell_type": "code",
   "execution_count": 103,
   "id": "41926598",
   "metadata": {},
   "outputs": [],
   "source": [
    "def cross_validation_fit_predict(x_reduced,Y,algorithms = algorithms, names = names):\n",
    "    # fit the data\n",
    "    # print metrics\n",
    "    Geo_score = []\n",
    "    Iba_score = []\n",
    "    Accuracy = []\n",
    "    F1=[]\n",
    "    for i in range(len(algorithms)):\n",
    "        j=1\n",
    "        kf = StratifiedKFold(n_splits=5,random_state=1,shuffle=True) \n",
    "        geo_score = []\n",
    "        iba_score = []\n",
    "        accuracy = []\n",
    "        f1=[]\n",
    "        for train_index,test_index in kf.split(x_reduced,Y,):\n",
    "            '\\n{} of kfold {}'.format(j,kf.n_splits)\n",
    "            xtr,xvl = x_reduced[train_index],x_reduced[test_index]     \n",
    "            ytr,yvl = Y[train_index],Y[test_index]\n",
    "            X_res, y_res = rus.fit_sample(xtr, ytr)\n",
    "            algorithms[i] = algorithms[i].fit(X_res, y_res)  \n",
    "            pred_test = algorithms[i].predict(xvl)     \n",
    "            accuracy.append(accuracy_score(yvl, algorithms[i].predict(xvl).round()))\n",
    "            geo_score.append(geo(yvl, algorithms[i].predict(xvl).round()))\n",
    "            iba_score.append(iba(yvl, algorithms[i].predict(xvl).round()))\n",
    "            f1.append(f1_score(yvl, algorithms[i].predict(xvl).round(),average='macro'))\n",
    "            j+=1\n",
    "        mean_ac = np.mean(accuracy)\n",
    "        mean_f1 = np.mean(f1)\n",
    "        mean_geo=np.mean(geo_score)\n",
    "        mean_iba=np.mean(iba_score)\n",
    "        F1.append(mean_f1)\n",
    "        Geo_score.append(mean_geo)\n",
    "        Iba_score.append(mean_iba)\n",
    "        Accuracy.append(mean_ac)\n",
    "    metrics = pd.DataFrame(columns = ['Accuracy', 'F1','Geo','Iba'], index = names)\n",
    "    metrics['F1'] = F1\n",
    "    metrics['Accuracy'] = Accuracy\n",
    "    metrics['Geo']=Geo_score\n",
    "    metrics['Iba']=Iba_score\n",
    "    return metrics.sort_values('Geo', ascending = False)\n"
   ]
  },
  {
   "cell_type": "code",
   "execution_count": 104,
   "id": "fba63199",
   "metadata": {},
   "outputs": [],
   "source": [
    "from sklearn.model_selection import StratifiedKFold\n",
    "\n",
    "def cross_validation_fit_predict(X_res, y_res, algorithms = algorithms, names = names):\n",
    "    # fit the data\n",
    "    # print metrics\n",
    "    Geo_score = []\n",
    "    Iba_score = []\n",
    "    Accuracy = []\n",
    "    F1=[]\n",
    "    for i in range(len(algorithms)):\n",
    "        j=1\n",
    "        kf = StratifiedKFold(n_splits=5,random_state=1,shuffle=True) \n",
    "        geo_score = []\n",
    "        iba_score = []\n",
    "        accuracy = []\n",
    "        f1=[]\n",
    "        for train_index,test_index in kf.split(X_res, y_res):\n",
    "            '\\n{} of kfold {}'.format(j,kf.n_splits)\n",
    "            xtr,xvl = x_reduced[train_index],x_reduced[test_index]     \n",
    "            ytr,yvl = Y[train_index],Y[test_index]\n",
    "            algorithms[i] = algorithms[i].fit(xtr, ytr)  \n",
    "            pred_test = algorithms[i].predict(xvl)     \n",
    "            accuracy.append(accuracy_score(yvl, algorithms[i].predict(xvl).round()))\n",
    "            geo_score.append(geo(yvl, algorithms[i].predict(xvl).round()))\n",
    "            iba_score.append(iba(yvl, algorithms[i].predict(xvl).round()))\n",
    "            f1.append(f1_score(yvl, algorithms[i].predict(xvl).round(),average='macro'))\n",
    "            j+=1\n",
    "        mean_ac = np.mean(accuracy)\n",
    "        mean_f1 = np.mean(f1)\n",
    "        mean_geo=np.mean(geo_score)\n",
    "        mean_iba=np.mean(iba_score)\n",
    "        F1.append(mean_f1)\n",
    "        Geo_score.append(mean_geo)\n",
    "        Iba_score.append(mean_iba)\n",
    "        Accuracy.append(mean_ac)\n",
    "    metrics = pd.DataFrame(columns = ['Accuracy', 'F1','Geo','Iba'], index = names)\n",
    "    metrics['F1'] = F1\n",
    "    metrics['Accuracy'] = Accuracy\n",
    "    metrics['Geo']=Geo_score\n",
    "    metrics['Iba']=Iba_score\n",
    "    return metrics.sort_values('Geo', ascending = False)"
   ]
  },
  {
   "cell_type": "code",
   "execution_count": 105,
   "id": "b6af00fe",
   "metadata": {},
   "outputs": [
    {
     "ename": "KeyError",
     "evalue": "'[7, 117, 119, 123] not in index'",
     "output_type": "error",
     "traceback": [
      "\u001b[1;31m---------------------------------------------------------------------------\u001b[0m",
      "\u001b[1;31mKeyError\u001b[0m                                  Traceback (most recent call last)",
      "Input \u001b[1;32mIn [105]\u001b[0m, in \u001b[0;36m<cell line: 1>\u001b[1;34m()\u001b[0m\n\u001b[1;32m----> 1\u001b[0m \u001b[43mcross_validation_fit_predict\u001b[49m\u001b[43m(\u001b[49m\u001b[43mX_res\u001b[49m\u001b[43m,\u001b[49m\u001b[43m \u001b[49m\u001b[43my_res\u001b[49m\u001b[43m,\u001b[49m\u001b[43m \u001b[49m\u001b[43malgorithms\u001b[49m\u001b[43m \u001b[49m\u001b[38;5;241;43m=\u001b[39;49m\u001b[43m \u001b[49m\u001b[43malgorithms\u001b[49m\u001b[43m,\u001b[49m\u001b[43m \u001b[49m\u001b[43mnames\u001b[49m\u001b[43m \u001b[49m\u001b[38;5;241;43m=\u001b[39;49m\u001b[43m \u001b[49m\u001b[43mnames\u001b[49m\u001b[43m)\u001b[49m\n",
      "Input \u001b[1;32mIn [104]\u001b[0m, in \u001b[0;36mcross_validation_fit_predict\u001b[1;34m(X_res, y_res, algorithms, names)\u001b[0m\n\u001b[0;32m     18\u001b[0m \u001b[38;5;124m'\u001b[39m\u001b[38;5;130;01m\\n\u001b[39;00m\u001b[38;5;132;01m{}\u001b[39;00m\u001b[38;5;124m of kfold \u001b[39m\u001b[38;5;132;01m{}\u001b[39;00m\u001b[38;5;124m'\u001b[39m\u001b[38;5;241m.\u001b[39mformat(j,kf\u001b[38;5;241m.\u001b[39mn_splits)\n\u001b[0;32m     19\u001b[0m xtr,xvl \u001b[38;5;241m=\u001b[39m x_reduced[train_index],x_reduced[test_index]     \n\u001b[1;32m---> 20\u001b[0m ytr,yvl \u001b[38;5;241m=\u001b[39m \u001b[43mY\u001b[49m\u001b[43m[\u001b[49m\u001b[43mtrain_index\u001b[49m\u001b[43m]\u001b[49m,Y[test_index]\n\u001b[0;32m     21\u001b[0m algorithms[i] \u001b[38;5;241m=\u001b[39m algorithms[i]\u001b[38;5;241m.\u001b[39mfit(xtr, ytr)  \n\u001b[0;32m     22\u001b[0m pred_test \u001b[38;5;241m=\u001b[39m algorithms[i]\u001b[38;5;241m.\u001b[39mpredict(xvl)     \n",
      "File \u001b[1;32m~\\anaconda3\\lib\\site-packages\\pandas\\core\\series.py:984\u001b[0m, in \u001b[0;36mSeries.__getitem__\u001b[1;34m(self, key)\u001b[0m\n\u001b[0;32m    981\u001b[0m     key \u001b[38;5;241m=\u001b[39m np\u001b[38;5;241m.\u001b[39masarray(key, dtype\u001b[38;5;241m=\u001b[39m\u001b[38;5;28mbool\u001b[39m)\n\u001b[0;32m    982\u001b[0m     \u001b[38;5;28;01mreturn\u001b[39;00m \u001b[38;5;28mself\u001b[39m\u001b[38;5;241m.\u001b[39m_get_values(key)\n\u001b[1;32m--> 984\u001b[0m \u001b[38;5;28;01mreturn\u001b[39;00m \u001b[38;5;28;43mself\u001b[39;49m\u001b[38;5;241;43m.\u001b[39;49m\u001b[43m_get_with\u001b[49m\u001b[43m(\u001b[49m\u001b[43mkey\u001b[49m\u001b[43m)\u001b[49m\n",
      "File \u001b[1;32m~\\anaconda3\\lib\\site-packages\\pandas\\core\\series.py:1019\u001b[0m, in \u001b[0;36mSeries._get_with\u001b[1;34m(self, key)\u001b[0m\n\u001b[0;32m   1015\u001b[0m \u001b[38;5;28;01mif\u001b[39;00m key_type \u001b[38;5;241m==\u001b[39m \u001b[38;5;124m\"\u001b[39m\u001b[38;5;124minteger\u001b[39m\u001b[38;5;124m\"\u001b[39m:\n\u001b[0;32m   1016\u001b[0m     \u001b[38;5;66;03m# We need to decide whether to treat this as a positional indexer\u001b[39;00m\n\u001b[0;32m   1017\u001b[0m     \u001b[38;5;66;03m#  (i.e. self.iloc) or label-based (i.e. self.loc)\u001b[39;00m\n\u001b[0;32m   1018\u001b[0m     \u001b[38;5;28;01mif\u001b[39;00m \u001b[38;5;129;01mnot\u001b[39;00m \u001b[38;5;28mself\u001b[39m\u001b[38;5;241m.\u001b[39mindex\u001b[38;5;241m.\u001b[39m_should_fallback_to_positional:\n\u001b[1;32m-> 1019\u001b[0m         \u001b[38;5;28;01mreturn\u001b[39;00m \u001b[38;5;28;43mself\u001b[39;49m\u001b[38;5;241;43m.\u001b[39;49m\u001b[43mloc\u001b[49m\u001b[43m[\u001b[49m\u001b[43mkey\u001b[49m\u001b[43m]\u001b[49m\n\u001b[0;32m   1020\u001b[0m     \u001b[38;5;28;01melse\u001b[39;00m:\n\u001b[0;32m   1021\u001b[0m         \u001b[38;5;28;01mreturn\u001b[39;00m \u001b[38;5;28mself\u001b[39m\u001b[38;5;241m.\u001b[39miloc[key]\n",
      "File \u001b[1;32m~\\anaconda3\\lib\\site-packages\\pandas\\core\\indexing.py:967\u001b[0m, in \u001b[0;36m_LocationIndexer.__getitem__\u001b[1;34m(self, key)\u001b[0m\n\u001b[0;32m    964\u001b[0m axis \u001b[38;5;241m=\u001b[39m \u001b[38;5;28mself\u001b[39m\u001b[38;5;241m.\u001b[39maxis \u001b[38;5;129;01mor\u001b[39;00m \u001b[38;5;241m0\u001b[39m\n\u001b[0;32m    966\u001b[0m maybe_callable \u001b[38;5;241m=\u001b[39m com\u001b[38;5;241m.\u001b[39mapply_if_callable(key, \u001b[38;5;28mself\u001b[39m\u001b[38;5;241m.\u001b[39mobj)\n\u001b[1;32m--> 967\u001b[0m \u001b[38;5;28;01mreturn\u001b[39;00m \u001b[38;5;28;43mself\u001b[39;49m\u001b[38;5;241;43m.\u001b[39;49m\u001b[43m_getitem_axis\u001b[49m\u001b[43m(\u001b[49m\u001b[43mmaybe_callable\u001b[49m\u001b[43m,\u001b[49m\u001b[43m \u001b[49m\u001b[43maxis\u001b[49m\u001b[38;5;241;43m=\u001b[39;49m\u001b[43maxis\u001b[49m\u001b[43m)\u001b[49m\n",
      "File \u001b[1;32m~\\anaconda3\\lib\\site-packages\\pandas\\core\\indexing.py:1191\u001b[0m, in \u001b[0;36m_LocIndexer._getitem_axis\u001b[1;34m(self, key, axis)\u001b[0m\n\u001b[0;32m   1188\u001b[0m     \u001b[38;5;28;01mif\u001b[39;00m \u001b[38;5;28mhasattr\u001b[39m(key, \u001b[38;5;124m\"\u001b[39m\u001b[38;5;124mndim\u001b[39m\u001b[38;5;124m\"\u001b[39m) \u001b[38;5;129;01mand\u001b[39;00m key\u001b[38;5;241m.\u001b[39mndim \u001b[38;5;241m>\u001b[39m \u001b[38;5;241m1\u001b[39m:\n\u001b[0;32m   1189\u001b[0m         \u001b[38;5;28;01mraise\u001b[39;00m \u001b[38;5;167;01mValueError\u001b[39;00m(\u001b[38;5;124m\"\u001b[39m\u001b[38;5;124mCannot index with multidimensional key\u001b[39m\u001b[38;5;124m\"\u001b[39m)\n\u001b[1;32m-> 1191\u001b[0m     \u001b[38;5;28;01mreturn\u001b[39;00m \u001b[38;5;28;43mself\u001b[39;49m\u001b[38;5;241;43m.\u001b[39;49m\u001b[43m_getitem_iterable\u001b[49m\u001b[43m(\u001b[49m\u001b[43mkey\u001b[49m\u001b[43m,\u001b[49m\u001b[43m \u001b[49m\u001b[43maxis\u001b[49m\u001b[38;5;241;43m=\u001b[39;49m\u001b[43maxis\u001b[49m\u001b[43m)\u001b[49m\n\u001b[0;32m   1193\u001b[0m \u001b[38;5;66;03m# nested tuple slicing\u001b[39;00m\n\u001b[0;32m   1194\u001b[0m \u001b[38;5;28;01mif\u001b[39;00m is_nested_tuple(key, labels):\n",
      "File \u001b[1;32m~\\anaconda3\\lib\\site-packages\\pandas\\core\\indexing.py:1132\u001b[0m, in \u001b[0;36m_LocIndexer._getitem_iterable\u001b[1;34m(self, key, axis)\u001b[0m\n\u001b[0;32m   1129\u001b[0m \u001b[38;5;28mself\u001b[39m\u001b[38;5;241m.\u001b[39m_validate_key(key, axis)\n\u001b[0;32m   1131\u001b[0m \u001b[38;5;66;03m# A collection of keys\u001b[39;00m\n\u001b[1;32m-> 1132\u001b[0m keyarr, indexer \u001b[38;5;241m=\u001b[39m \u001b[38;5;28;43mself\u001b[39;49m\u001b[38;5;241;43m.\u001b[39;49m\u001b[43m_get_listlike_indexer\u001b[49m\u001b[43m(\u001b[49m\u001b[43mkey\u001b[49m\u001b[43m,\u001b[49m\u001b[43m \u001b[49m\u001b[43maxis\u001b[49m\u001b[43m)\u001b[49m\n\u001b[0;32m   1133\u001b[0m \u001b[38;5;28;01mreturn\u001b[39;00m \u001b[38;5;28mself\u001b[39m\u001b[38;5;241m.\u001b[39mobj\u001b[38;5;241m.\u001b[39m_reindex_with_indexers(\n\u001b[0;32m   1134\u001b[0m     {axis: [keyarr, indexer]}, copy\u001b[38;5;241m=\u001b[39m\u001b[38;5;28;01mTrue\u001b[39;00m, allow_dups\u001b[38;5;241m=\u001b[39m\u001b[38;5;28;01mTrue\u001b[39;00m\n\u001b[0;32m   1135\u001b[0m )\n",
      "File \u001b[1;32m~\\anaconda3\\lib\\site-packages\\pandas\\core\\indexing.py:1327\u001b[0m, in \u001b[0;36m_LocIndexer._get_listlike_indexer\u001b[1;34m(self, key, axis)\u001b[0m\n\u001b[0;32m   1324\u001b[0m ax \u001b[38;5;241m=\u001b[39m \u001b[38;5;28mself\u001b[39m\u001b[38;5;241m.\u001b[39mobj\u001b[38;5;241m.\u001b[39m_get_axis(axis)\n\u001b[0;32m   1325\u001b[0m axis_name \u001b[38;5;241m=\u001b[39m \u001b[38;5;28mself\u001b[39m\u001b[38;5;241m.\u001b[39mobj\u001b[38;5;241m.\u001b[39m_get_axis_name(axis)\n\u001b[1;32m-> 1327\u001b[0m keyarr, indexer \u001b[38;5;241m=\u001b[39m \u001b[43max\u001b[49m\u001b[38;5;241;43m.\u001b[39;49m\u001b[43m_get_indexer_strict\u001b[49m\u001b[43m(\u001b[49m\u001b[43mkey\u001b[49m\u001b[43m,\u001b[49m\u001b[43m \u001b[49m\u001b[43maxis_name\u001b[49m\u001b[43m)\u001b[49m\n\u001b[0;32m   1329\u001b[0m \u001b[38;5;28;01mreturn\u001b[39;00m keyarr, indexer\n",
      "File \u001b[1;32m~\\anaconda3\\lib\\site-packages\\pandas\\core\\indexes\\base.py:5782\u001b[0m, in \u001b[0;36mIndex._get_indexer_strict\u001b[1;34m(self, key, axis_name)\u001b[0m\n\u001b[0;32m   5779\u001b[0m \u001b[38;5;28;01melse\u001b[39;00m:\n\u001b[0;32m   5780\u001b[0m     keyarr, indexer, new_indexer \u001b[38;5;241m=\u001b[39m \u001b[38;5;28mself\u001b[39m\u001b[38;5;241m.\u001b[39m_reindex_non_unique(keyarr)\n\u001b[1;32m-> 5782\u001b[0m \u001b[38;5;28;43mself\u001b[39;49m\u001b[38;5;241;43m.\u001b[39;49m\u001b[43m_raise_if_missing\u001b[49m\u001b[43m(\u001b[49m\u001b[43mkeyarr\u001b[49m\u001b[43m,\u001b[49m\u001b[43m \u001b[49m\u001b[43mindexer\u001b[49m\u001b[43m,\u001b[49m\u001b[43m \u001b[49m\u001b[43maxis_name\u001b[49m\u001b[43m)\u001b[49m\n\u001b[0;32m   5784\u001b[0m keyarr \u001b[38;5;241m=\u001b[39m \u001b[38;5;28mself\u001b[39m\u001b[38;5;241m.\u001b[39mtake(indexer)\n\u001b[0;32m   5785\u001b[0m \u001b[38;5;28;01mif\u001b[39;00m \u001b[38;5;28misinstance\u001b[39m(key, Index):\n\u001b[0;32m   5786\u001b[0m     \u001b[38;5;66;03m# GH 42790 - Preserve name from an Index\u001b[39;00m\n",
      "File \u001b[1;32m~\\anaconda3\\lib\\site-packages\\pandas\\core\\indexes\\base.py:5845\u001b[0m, in \u001b[0;36mIndex._raise_if_missing\u001b[1;34m(self, key, indexer, axis_name)\u001b[0m\n\u001b[0;32m   5842\u001b[0m     \u001b[38;5;28;01mraise\u001b[39;00m \u001b[38;5;167;01mKeyError\u001b[39;00m(\u001b[38;5;124mf\u001b[39m\u001b[38;5;124m\"\u001b[39m\u001b[38;5;124mNone of [\u001b[39m\u001b[38;5;132;01m{\u001b[39;00mkey\u001b[38;5;132;01m}\u001b[39;00m\u001b[38;5;124m] are in the [\u001b[39m\u001b[38;5;132;01m{\u001b[39;00maxis_name\u001b[38;5;132;01m}\u001b[39;00m\u001b[38;5;124m]\u001b[39m\u001b[38;5;124m\"\u001b[39m)\n\u001b[0;32m   5844\u001b[0m not_found \u001b[38;5;241m=\u001b[39m \u001b[38;5;28mlist\u001b[39m(ensure_index(key)[missing_mask\u001b[38;5;241m.\u001b[39mnonzero()[\u001b[38;5;241m0\u001b[39m]]\u001b[38;5;241m.\u001b[39munique())\n\u001b[1;32m-> 5845\u001b[0m \u001b[38;5;28;01mraise\u001b[39;00m \u001b[38;5;167;01mKeyError\u001b[39;00m(\u001b[38;5;124mf\u001b[39m\u001b[38;5;124m\"\u001b[39m\u001b[38;5;132;01m{\u001b[39;00mnot_found\u001b[38;5;132;01m}\u001b[39;00m\u001b[38;5;124m not in index\u001b[39m\u001b[38;5;124m\"\u001b[39m)\n",
      "\u001b[1;31mKeyError\u001b[0m: '[7, 117, 119, 123] not in index'"
     ]
    }
   ],
   "source": [
    "cross_validation_fit_predict(X_res, y_res, algorithms = algorithms, names = names)"
   ]
  },
  {
   "cell_type": "code",
   "execution_count": null,
   "id": "d2190be7",
   "metadata": {},
   "outputs": [],
   "source": []
  }
 ],
 "metadata": {
  "kernelspec": {
   "display_name": "Python 3 (ipykernel)",
   "language": "python",
   "name": "python3"
  },
  "language_info": {
   "codemirror_mode": {
    "name": "ipython",
    "version": 3
   },
   "file_extension": ".py",
   "mimetype": "text/x-python",
   "name": "python",
   "nbconvert_exporter": "python",
   "pygments_lexer": "ipython3",
   "version": "3.9.12"
  }
 },
 "nbformat": 4,
 "nbformat_minor": 5
}
